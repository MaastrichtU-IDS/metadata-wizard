{
 "cells": [
  {
   "cell_type": "code",
   "execution_count": 1,
   "metadata": {
    "colab": {
     "base_uri": "https://localhost:8080/",
     "height": 36
    },
    "colab_type": "code",
    "executionInfo": {
     "elapsed": 3276,
     "status": "ok",
     "timestamp": 1551265276433,
     "user": {
      "displayName": "Stuti Nayak",
      "photoUrl": "https://lh4.googleusercontent.com/-dCyvZuZkEEE/AAAAAAAAAAI/AAAAAAAAUDY/4NHoYh2M-mw/s64/photo.jpg",
      "userId": "10886436706821169763"
     },
     "user_tz": -60
    },
    "id": "aT77ne5ruwBw",
    "outputId": "2de6b118-724c-423b-ec45-09a45716fbff"
   },
   "outputs": [
    {
     "name": "stdout",
     "output_type": "stream",
     "text": [
      "/content\n"
     ]
    }
   ],
   "source": [
    "!pwd"
   ]
  },
  {
   "cell_type": "code",
   "execution_count": 2,
   "metadata": {
    "colab": {
     "base_uri": "https://localhost:8080/",
     "height": 131
    },
    "colab_type": "code",
    "executionInfo": {
     "elapsed": 24981,
     "status": "ok",
     "timestamp": 1551265304466,
     "user": {
      "displayName": "Stuti Nayak",
      "photoUrl": "https://lh4.googleusercontent.com/-dCyvZuZkEEE/AAAAAAAAAAI/AAAAAAAAUDY/4NHoYh2M-mw/s64/photo.jpg",
      "userId": "10886436706821169763"
     },
     "user_tz": -60
    },
    "id": "TSC3xSlxuzn2",
    "outputId": "1a476faf-39db-45a1-d99b-a3f7391f4bff"
   },
   "outputs": [
    {
     "name": "stdout",
     "output_type": "stream",
     "text": [
      "Go to this URL in a browser: https://accounts.google.com/o/oauth2/auth?client_id=947318989803-6bn6qk8qdgf4n4g3pfee6491hc0brc4i.apps.googleusercontent.com&redirect_uri=urn%3Aietf%3Awg%3Aoauth%3A2.0%3Aoob&scope=email%20https%3A%2F%2Fwww.googleapis.com%2Fauth%2Fdocs.test%20https%3A%2F%2Fwww.googleapis.com%2Fauth%2Fdrive%20https%3A%2F%2Fwww.googleapis.com%2Fauth%2Fdrive.photos.readonly%20https%3A%2F%2Fwww.googleapis.com%2Fauth%2Fpeopleapi.readonly&response_type=code\n",
      "\n",
      "Enter your authorization code:\n",
      "··········\n",
      "Mounted at /content/drive/\n"
     ]
    }
   ],
   "source": [
    "from google.colab import drive\n",
    "drive.mount('/content/drive/')"
   ]
  },
  {
   "cell_type": "code",
   "execution_count": 0,
   "metadata": {
    "colab": {},
    "colab_type": "code",
    "id": "lJj5w0tiuzur"
   },
   "outputs": [],
   "source": [
    "import os\n",
    "os.chdir(\"drive/My Drive/textcnn_updated/textcnn\")"
   ]
  },
  {
   "cell_type": "code",
   "execution_count": 4,
   "metadata": {
    "colab": {
     "base_uri": "https://localhost:8080/",
     "height": 335
    },
    "colab_type": "code",
    "executionInfo": {
     "elapsed": 2220,
     "status": "ok",
     "timestamp": 1551265327403,
     "user": {
      "displayName": "Stuti Nayak",
      "photoUrl": "https://lh4.googleusercontent.com/-dCyvZuZkEEE/AAAAAAAAAAI/AAAAAAAAUDY/4NHoYh2M-mw/s64/photo.jpg",
      "userId": "10886436706821169763"
     },
     "user_tz": -60
    },
    "id": "8Fzr2Wskuz2O",
    "outputId": "b10a2120-fd52-4a39-9cbe-d19f2adf8891"
   },
   "outputs": [
    {
     "name": "stdout",
     "output_type": "stream",
     "text": [
      "clean_data_abstract_ln_200.pkl\t      linked_diseases_abstract.csv\n",
      "clean_data_disease_first_2.pkl\t      NCBI_corpus\n",
      "clean_data_disease_first_last.pkl     NCBI_corpus.zip\n",
      "clean_data_disease_last_2.pkl\t      NCBItrainset.csv\n",
      "clean_data_superclass_3_4.pkl\t      network.py\n",
      "clean_data_superclass_4_5.pkl\t      predictions-Copy1.ipynb\n",
      "clean_data_superclass_first_2.pkl     predictions.ipynb\n",
      "clean_data_superclass_first_last.pkl  __pycache__\n",
      "clean_data_superclass_last_2.pkl      random.csv\n",
      "clean_data.txt\t\t\t      random.gsheet\n",
      "components.py\t\t\t      results_bilstm_superclass.csv\n",
      "dropout_layers.py\t\t      results_cnn_disease_names.csv\n",
      "first_review.png\t\t      results_cnn_superclass.csv\n",
      "glove.42B.300d.txt\t\t      text.txt\n",
      "glove.42B.300d.txt.1\t\t      Untitled.ipynb\n",
      "glove.42B.300d.zip\t\t      utils\n",
      "glove.42B.300d.zip.1\n"
     ]
    }
   ],
   "source": [
    "!ls"
   ]
  },
  {
   "cell_type": "code",
   "execution_count": 5,
   "metadata": {
    "colab": {
     "base_uri": "https://localhost:8080/",
     "height": 36
    },
    "colab_type": "code",
    "executionInfo": {
     "elapsed": 3052,
     "status": "ok",
     "timestamp": 1551265332523,
     "user": {
      "displayName": "Stuti Nayak",
      "photoUrl": "https://lh4.googleusercontent.com/-dCyvZuZkEEE/AAAAAAAAAAI/AAAAAAAAUDY/4NHoYh2M-mw/s64/photo.jpg",
      "userId": "10886436706821169763"
     },
     "user_tz": -60
    },
    "id": "-89O0Jxquz-n",
    "outputId": "ab991dba-1999-4eaa-aa4b-45fd38475023"
   },
   "outputs": [
    {
     "data": {
      "text/plain": [
       "'/device:GPU:0'"
      ]
     },
     "execution_count": 5,
     "metadata": {
      "tags": []
     },
     "output_type": "execute_result"
    }
   ],
   "source": [
    "import tensorflow as tf\n",
    "tf.test.gpu_device_name()"
   ]
  },
  {
   "cell_type": "code",
   "execution_count": 6,
   "metadata": {
    "colab": {
     "base_uri": "https://localhost:8080/",
     "height": 522
    },
    "colab_type": "code",
    "executionInfo": {
     "elapsed": 537,
     "status": "ok",
     "timestamp": 1551265334747,
     "user": {
      "displayName": "Stuti Nayak",
      "photoUrl": "https://lh4.googleusercontent.com/-dCyvZuZkEEE/AAAAAAAAAAI/AAAAAAAAUDY/4NHoYh2M-mw/s64/photo.jpg",
      "userId": "10886436706821169763"
     },
     "user_tz": -60
    },
    "id": "yidmMZYQu0Gd",
    "outputId": "5fabfab2-c46c-40a1-b76c-01e9506bcb2d"
   },
   "outputs": [
    {
     "data": {
      "text/plain": [
       "[name: \"/device:CPU:0\"\n",
       " device_type: \"CPU\"\n",
       " memory_limit: 268435456\n",
       " locality {\n",
       " }\n",
       " incarnation: 5599172204387551880, name: \"/device:XLA_CPU:0\"\n",
       " device_type: \"XLA_CPU\"\n",
       " memory_limit: 17179869184\n",
       " locality {\n",
       " }\n",
       " incarnation: 4743165672180126383\n",
       " physical_device_desc: \"device: XLA_CPU device\", name: \"/device:XLA_GPU:0\"\n",
       " device_type: \"XLA_GPU\"\n",
       " memory_limit: 17179869184\n",
       " locality {\n",
       " }\n",
       " incarnation: 10065612793185562150\n",
       " physical_device_desc: \"device: XLA_GPU device\", name: \"/device:GPU:0\"\n",
       " device_type: \"GPU\"\n",
       " memory_limit: 11276946637\n",
       " locality {\n",
       "   bus_id: 1\n",
       "   links {\n",
       "   }\n",
       " }\n",
       " incarnation: 15822882691043262764\n",
       " physical_device_desc: \"device: 0, name: Tesla K80, pci bus id: 0000:00:04.0, compute capability: 3.7\"]"
      ]
     },
     "execution_count": 6,
     "metadata": {
      "tags": []
     },
     "output_type": "execute_result"
    }
   ],
   "source": [
    "from tensorflow.python.client import device_lib\n",
    "device_lib.list_local_devices()"
   ]
  },
  {
   "cell_type": "code",
   "execution_count": 7,
   "metadata": {
    "colab": {
     "base_uri": "https://localhost:8080/",
     "height": 36
    },
    "colab_type": "code",
    "executionInfo": {
     "elapsed": 3776,
     "status": "ok",
     "timestamp": 1551265340142,
     "user": {
      "displayName": "Stuti Nayak",
      "photoUrl": "https://lh4.googleusercontent.com/-dCyvZuZkEEE/AAAAAAAAAAI/AAAAAAAAUDY/4NHoYh2M-mw/s64/photo.jpg",
      "userId": "10886436706821169763"
     },
     "user_tz": -60
    },
    "id": "PrfEN-xmuWUE",
    "outputId": "49dab973-31f6-4173-9886-fde16c58c8a6"
   },
   "outputs": [
    {
     "name": "stderr",
     "output_type": "stream",
     "text": [
      "Using TensorFlow backend.\n"
     ]
    }
   ],
   "source": [
    "from sklearn.preprocessing import MultiLabelBinarizer\n",
    "import csv,pandas,re\n",
    "from keras.layers import Dense, LSTM, Dropout, Bidirectional, Embedding\n",
    "from keras.layers import Embedding\n",
    "import numpy as np\n",
    "from keras.models import Model\n",
    "\n",
    "import time, os\n",
    "#os.environ[\"MKL_THREADING_LAYER\"] = \"GNU\"\n",
    "import components as com\n",
    "\n",
    "# Torch imports\n",
    "import torch\n",
    "import torch.nn as nn\n",
    "from torch import optim\n",
    "import network as net\n",
    "import traceback\n",
    "from utils import tensor_utils as tu\n",
    "\n",
    "from tqdm import tqdm\n",
    "\n",
    "\n",
    "import json\n",
    "import requests\n",
    "from pprint import pprint\n",
    "\n",
    "from keras.preprocessing.text import Tokenizer\n",
    "from keras.preprocessing.sequence import pad_sequences\n",
    "\n",
    "\n",
    "\n",
    "device = torch.device(\"cuda\")\n",
    "cpu = torch.device(\"cpu\")"
   ]
  },
  {
   "cell_type": "code",
   "execution_count": 0,
   "metadata": {
    "colab": {},
    "colab_type": "code",
    "id": "zlEA6nGxU9-t"
   },
   "outputs": [],
   "source": [
    "from __future__ import unicode_literals, print_function\n",
    "import spacy\n",
    "\n",
    "nlp = spacy.load('en')\n",
    "# Use this command to download the english language model if error comes. ! python -m spacy download en"
   ]
  },
  {
   "cell_type": "code",
   "execution_count": 0,
   "metadata": {
    "colab": {},
    "colab_type": "code",
    "id": "Wh_BsiUFU-LR"
   },
   "outputs": [],
   "source": [
    "def get_sentences_from_abstract(abstract):\n",
    "    doc = nlp(abstract)\n",
    "    sentences = [sent.string.strip() for sent in doc.sents]\n",
    "    \n",
    "    return sentences\n",
    "\n",
    "def keep_sentences(sentences, index, start=2, end=4, sentence_type='last'):\n",
    "#     new_abstract = []\n",
    "    if sentence_type == 'first':\n",
    "        new_abstract = sentences[:index]\n",
    "    elif sentence_type == 'last':\n",
    "        new_abstract = sentences[-index:]\n",
    "    elif sentence_type == 'middle':\n",
    "        new_abstract = sentences[start:end]\n",
    "    elif sentence_type == 'first_last':\n",
    "        new_abstract = sentences[:start] + sentences[-end:]\n",
    "    \n",
    "    return new_abstract\n",
    "\n",
    "def join_lists(new_abstract):\n",
    "    new_abstract = ''.join(map(str, new_abstract))\n",
    "#     new_abstract.join('.')\n",
    "    return new_abstract"
   ]
  },
  {
   "cell_type": "code",
   "execution_count": 0,
   "metadata": {
    "colab": {},
    "colab_type": "code",
    "id": "hBXHDlPdVDub"
   },
   "outputs": [],
   "source": []
  },
  {
   "cell_type": "code",
   "execution_count": 0,
   "metadata": {
    "colab": {},
    "colab_type": "code",
    "id": "kggKhcdBuWUi"
   },
   "outputs": [],
   "source": [
    "debug = True\n",
    "MAX_SEQUENCE_LENGTH = 200\n",
    "\n",
    "\n",
    "class BadResponseException(Exception):\n",
    "    pass\n",
    "\n",
    "\n",
    "class Timer:\n",
    "    \"\"\" Simple block which can be called as a context, to know the time of a block. \"\"\"\n",
    "    def __enter__(self):\n",
    "        self.start = time.perf_counter()\n",
    "        return self\n",
    "\n",
    "    def __exit__(self, *args):\n",
    "        self.end = time.perf_counter()\n",
    "        self.interval = self.end - self.start"
   ]
  },
  {
   "cell_type": "code",
   "execution_count": 0,
   "metadata": {
    "colab": {},
    "colab_type": "code",
    "id": "m55mrGPSuWUv"
   },
   "outputs": [],
   "source": [
    "#data helpers - copied from https://github.com/bhaveshoswal/CNN-text-classification-keras\n",
    "def clean_str(string):\n",
    "    \"\"\"\n",
    "    Tokenization/string cleaning for datasets.\n",
    "    Original taken from https://github.com/yoonkim/CNN_sentence/blob/master/process_data.py\n",
    "    \"\"\"\n",
    "    string = re.sub(r\"[^A-Za-z0-9(),!?\\'\\`]\", \" \", string)\n",
    "    string = re.sub(r\"\\'s\", \" \\'s\", string)\n",
    "    string = re.sub(r\"\\'ve\", \" \\'ve\", string)\n",
    "    string = re.sub(r\"n\\'t\", \" n\\'t\", string)\n",
    "    string = re.sub(r\"\\'re\", \" \\'re\", string)\n",
    "    string = re.sub(r\"\\'d\", \" \\'d\", string)\n",
    "    string = re.sub(r\"\\'ll\", \" \\'ll\", string)\n",
    "    string = re.sub(r\",\", \" , \", string)\n",
    "    string = re.sub(r\"!\", \" ! \", string)\n",
    "    string = re.sub(r\"\\(\", \" \", string)\n",
    "    string = re.sub(r\"\\)\", \" \", string)\n",
    "    string = re.sub(r\"\\?\", \" \", string)\n",
    "    string = re.sub(r\"\\s{2,}\", \" \", string)\n",
    "    return string.strip().lower()\n",
    "\n",
    "def _get_class_for_doi_(doi:str) -> list:\n",
    "    url = \"http://id.nlm.nih.gov/mesh/sparql\"\n",
    "    query = \"\"\"\n",
    "                PREFIX rdf: <http://www.w3.org/1999/02/22-rdf-syntax-ns#>\n",
    "                PREFIX rdfs: <http://www.w3.org/2000/01/rdf-schema#>\n",
    "                PREFIX xsd: <http://www.w3.org/2001/XMLSchema#>\n",
    "                PREFIX owl: <http://www.w3.org/2002/07/owl#>\n",
    "                PREFIX meshv: <http://id.nlm.nih.gov/mesh/vocab#>\n",
    "                PREFIX mesh: <http://id.nlm.nih.gov/mesh/>\n",
    "                PREFIX mesh2015: <http://id.nlm.nih.gov/mesh/2015/>\n",
    "                PREFIX mesh2016: <http://id.nlm.nih.gov/mesh/2016/>\n",
    "                PREFIX mesh2017: <http://id.nlm.nih.gov/mesh/2017/>\n",
    "                PREFIX mesh2018: <http://id.nlm.nih.gov/mesh/2018/>\n",
    "                PREFIX mesh2019: <http://id.nlm.nih.gov/mesh/2019/>\n",
    "                SELECT DISTINCT ?p ?label ?uri \n",
    "                WHERE { mesh:%s meshv:broaderDescriptor* ?uri .\n",
    "                    ?uri rdfs:label ?p.\n",
    "                    FILTER NOT EXISTS{\n",
    "                    ?uri meshv:broaderDescriptor ?x\n",
    "                    }\n",
    "                }\n",
    "                \"\"\" % doi\n",
    "    querystring = {\"query\":query, 'format':'json'}\n",
    "    payload = \"\"\n",
    "    headers = {\n",
    "        'cache-control': \"no-cache\",\n",
    "        'Postman-Token': \"c9ace615-1b99-4caf-bcad-97ce1060973e\"\n",
    "        }\n",
    "\n",
    "    response = requests.request(\"GET\", url, data=payload, headers=headers, params=querystring)\n",
    "    return [x['uri']['value'] for x in response.json()['results']['bindings']]\n",
    "\n",
    "\n",
    "def get_classes_for_dois(dois:list) -> list:\n",
    "    cls = []\n",
    "    for doi in dois:\n",
    "        cls += _get_class_for_doi_(doi)\n",
    "    \n",
    "    return list(set(cls))"
   ]
  },
  {
   "cell_type": "code",
   "execution_count": 0,
   "metadata": {
    "colab": {},
    "colab_type": "code",
    "id": "BzW_A_tquWU6"
   },
   "outputs": [],
   "source": [
    "def get_terms_of_classes(list_terms) -> list:\n",
    "    url = \"http://id.nlm.nih.gov/mesh/sparql\"\n",
    "    query = \"\"\"\n",
    "            PREFIX rdf: <http://www.w3.org/1999/02/22-rdf-syntax-ns#>\n",
    "            PREFIX rdfs: <http://www.w3.org/2000/01/rdf-schema#>\n",
    "            PREFIX xsd: <http://www.w3.org/2001/XMLSchema#>\n",
    "            PREFIX owl: <http://www.w3.org/2002/07/owl#>\n",
    "            PREFIX meshv: <http://id.nlm.nih.gov/mesh/vocab#>\n",
    "            PREFIX mesh: <http://id.nlm.nih.gov/mesh/>\n",
    "            PREFIX mesh2015: <http://id.nlm.nih.gov/mesh/2015/>\n",
    "            PREFIX mesh2016: <http://id.nlm.nih.gov/mesh/2016/>\n",
    "            PREFIX mesh2017: <http://id.nlm.nih.gov/mesh/2017/>\n",
    "            PREFIX mesh2018: <http://id.nlm.nih.gov/mesh/2018/>\n",
    "            PREFIX mesh2019: <http://id.nlm.nih.gov/mesh/2019/>\n",
    "            SELECT DISTINCT ?class\n",
    "            WHERE { mesh:%s rdfs:label ?class . }\n",
    "            \"\"\"%list_terms\n",
    "    querystring = {\"query\":query, 'format':'json'}\n",
    "    payload = \"\"\n",
    "    headers = {\n",
    "        'cache-control': \"no-cache\",\n",
    "        'Postman-Token': \"c9ace615-1b99-4caf-bcad-97ce1060973e\"\n",
    "        }\n",
    "\n",
    "    response = requests.request(\"GET\", url, data=payload, headers=headers, params=querystring)\n",
    "    return [x['class']['value'] for x in response.json()['results']['bindings']]\n",
    "        "
   ]
  },
  {
   "cell_type": "code",
   "execution_count": 0,
   "metadata": {
    "colab": {},
    "colab_type": "code",
    "id": "fkyGSWPOuWVC"
   },
   "outputs": [],
   "source": [
    "def get_list_for_terms(dois:list) -> list:\n",
    "    cls = []\n",
    "    for doi in dois:\n",
    "        cls += get_terms_of_classes(doi.replace(\"http://id.nlm.nih.gov/mesh/\", \"\"))\n",
    "    \n",
    "    return list(set(cls))"
   ]
  },
  {
   "cell_type": "code",
   "execution_count": 0,
   "metadata": {
    "colab": {},
    "colab_type": "code",
    "id": "_NV1dnJ8uWVJ"
   },
   "outputs": [],
   "source": [
    "df = pandas.read_csv('linked_diseases_abstract.csv')\n",
    "data = [x for x in df.to_records(index=False)] \n",
    "def read_till_next(data,index):\n",
    "    temp = []\n",
    "    temp_loc = 0\n",
    "    for d in data[index+1:]:\n",
    "        if 'a' in d[1] or 't' in d[1]:\n",
    "            return temp,temp_loc\n",
    "        else:\n",
    "            temp_loc = temp_loc + 1\n",
    "            temp.append([d[2],d[3],d[4]])\n",
    "#             print([d[2],d[3],d[4]])\n",
    "#             break\n",
    "    \n",
    "    return temp,temp_loc\n",
    "\n",
    "loc = 0\n",
    "final_data = []\n",
    "for index,d in enumerate(data):\n",
    "    if '|t|' in d[1]:\n",
    "        continue\n",
    "    elif loc != 0:\n",
    "        loc = loc - 1\n",
    "        continue\n",
    "    else:\n",
    "        if '|a|' in d[1]:\n",
    "            temp_holder = {\n",
    "                'abstract' : d[1],\n",
    "                'keys' : []\n",
    "            }\n",
    "            keys,loc = read_till_next(data,index)\n",
    "            temp_holder['keys'] = keys\n",
    "            final_data.append(temp_holder)\n",
    "clean_data = []\n",
    "for f in final_data:\n",
    "    '''\n",
    "       a =  get_sentence(f['abstract'])\n",
    "       a = remove_sentencs(a) #a[:2] + a[-3:]\n",
    "       a = a.join(\".\")\n",
    "    \n",
    "    '''\n",
    "    \n",
    "    sent = get_sentences_from_abstract(abstract=f['abstract'].split('|')[2])    # get sentences\n",
    "    sent_keep = keep_sentences(sentences=sent, index=3,sentence_type='first' )  # sentences to keep\n",
    "    abst = join_lists(new_abstract=sent_keep)   # as we get the list of sentences to keep, joining them as one string\n",
    "#     abstract = clean_str(f['abstract'].split('|')[2])\n",
    "    abstract = clean_str(abst)\n",
    "    disease = []\n",
    "    for k in f['keys']:\n",
    "        disease.append(k[-1])\n",
    "    clean_data.append((abstract,list(set(disease))))"
   ]
  },
  {
   "cell_type": "code",
   "execution_count": 0,
   "metadata": {
    "colab": {
     "base_uri": "https://localhost:8080/",
     "height": 36
    },
    "colab_type": "code",
    "executionInfo": {
     "elapsed": 452974,
     "status": "ok",
     "timestamp": 1551217273178,
     "user": {
      "displayName": "Stuti Nayak",
      "photoUrl": "https://lh4.googleusercontent.com/-dCyvZuZkEEE/AAAAAAAAAAI/AAAAAAAAUDY/4NHoYh2M-mw/s64/photo.jpg",
      "userId": "10886436706821169763"
     },
     "user_tz": -60
    },
    "id": "Uuo-PFTMuWVR",
    "outputId": "cdaff89c-52ce-4c79-ba7e-4d9217baf8b4",
    "scrolled": true
   },
   "outputs": [
    {
     "name": "stderr",
     "output_type": "stream",
     "text": [
      "100%|██████████| 793/793 [07:32<00:00,  1.42it/s]\n"
     ]
    }
   ],
   "source": [
    "#Now changing the hiearchy of the diseases dataset where we only consider Diseases ontology \n",
    "clean_data_upper_class = []\n",
    "us = []\n",
    "for c in tqdm(clean_data):\n",
    "    try:\n",
    "        labels = []\n",
    "        for l in c[1]:\n",
    "            if 'D' == l[0]:\n",
    "                labels = labels + l.split('|')\n",
    "        #change the class hiearchy \n",
    "        new_labels = list(set(get_classes_for_dois(labels)))\n",
    "        clean_data_upper_class.append((c[0],new_labels))\n",
    "    except:\n",
    "        us.append(c)\n",
    "\n",
    "clean_data = clean_data_upper_class"
   ]
  },
  {
   "cell_type": "code",
   "execution_count": 0,
   "metadata": {
    "colab": {},
    "colab_type": "code",
    "id": "kk2qfvKjuWVk"
   },
   "outputs": [],
   "source": [
    "targets = [tar[1] for tar in clean_data]"
   ]
  },
  {
   "cell_type": "code",
   "execution_count": 0,
   "metadata": {
    "colab": {},
    "colab_type": "code",
    "id": "8gQreCQouWVt"
   },
   "outputs": [],
   "source": [
    "import pickle\n",
    "with open ('clean_data_superclass_first_last.pkl', 'rb') as fp:\n",
    "  clean_data = pickle.load(fp)"
   ]
  },
  {
   "cell_type": "code",
   "execution_count": 16,
   "metadata": {
    "colab": {
     "base_uri": "https://localhost:8080/",
     "height": 131
    },
    "colab_type": "code",
    "executionInfo": {
     "elapsed": 547,
     "status": "ok",
     "timestamp": 1551265460774,
     "user": {
      "displayName": "Stuti Nayak",
      "photoUrl": "https://lh4.googleusercontent.com/-dCyvZuZkEEE/AAAAAAAAAAI/AAAAAAAAUDY/4NHoYh2M-mw/s64/photo.jpg",
      "userId": "10886436706821169763"
     },
     "user_tz": -60
    },
    "id": "BQCcvNvAuWV_",
    "outputId": "b7f5af13-f7e2-4690-e980-796de9cb317b"
   },
   "outputs": [
    {
     "data": {
      "text/plain": [
       "('wnt signalling orchestrates a number of developmental programs this percentage of ctnnb1 mutations is greater than in all other human tumours examined thus far , and directly implicates beta catenin lef misregulation as the major cause of hair matrix cell tumorigenesis in humans',\n",
       " ['http://id.nlm.nih.gov/mesh/D004066',\n",
       "  'http://id.nlm.nih.gov/mesh/D009369',\n",
       "  'http://id.nlm.nih.gov/mesh/D017437',\n",
       "  'http://id.nlm.nih.gov/mesh/D009358'])"
      ]
     },
     "execution_count": 16,
     "metadata": {
      "tags": []
     },
     "output_type": "execute_result"
    }
   ],
   "source": [
    "clean_data[0]"
   ]
  },
  {
   "cell_type": "code",
   "execution_count": 0,
   "metadata": {
    "colab": {},
    "colab_type": "code",
    "id": "J5mSD2Y8uWWN"
   },
   "outputs": [],
   "source": [
    "#creating id map of class that is each label is given a unique id\n",
    "all_class = list(set([g for f in clean_data for g in f[1]]))\n",
    "all_class_to_id = {}\n",
    "for index,value in enumerate(all_class):\n",
    "    all_class_to_id[value] = index\n",
    "\n",
    "texts = [f[0] for f in clean_data]\n",
    "\n",
    "#Tokenize,idfy,pad\n",
    "tokenizer = Tokenizer()\n",
    "tokenizer.fit_on_texts(texts)\n",
    "sequences = tokenizer.texts_to_sequences(texts)\n",
    "word_index = tokenizer.word_index\n",
    "data = pad_sequences(sequences, maxlen=MAX_SEQUENCE_LENGTH, padding='post')"
   ]
  },
  {
   "cell_type": "code",
   "execution_count": 0,
   "metadata": {
    "colab": {},
    "colab_type": "code",
    "id": "nM0NdIVVWGeu"
   },
   "outputs": [],
   "source": [
    "seq_len = [len(text.split()) for text in texts]"
   ]
  },
  {
   "cell_type": "code",
   "execution_count": 0,
   "metadata": {
    "colab": {
     "base_uri": "https://localhost:8080/",
     "height": 89
    },
    "colab_type": "code",
    "executionInfo": {
     "elapsed": 1037,
     "status": "ok",
     "timestamp": 1551234989917,
     "user": {
      "displayName": "Yash Patel",
      "photoUrl": "https://lh3.googleusercontent.com/-RoLoA7dfSn8/AAAAAAAAAAI/AAAAAAAAAeY/-fEoP4Aa-ig/s64/photo.jpg",
      "userId": "02201716429832917134"
     },
     "user_tz": -60
    },
    "id": "aIH_KGs8-T5W",
    "outputId": "e8f40c40-c160-41f3-9eb1-2373937ad004"
   },
   "outputs": [
    {
     "name": "stdout",
     "output_type": "stream",
     "text": [
      "max length:  118\n",
      "mean:  46.10013717421125\n",
      "min length:  3\n",
      "median:  45.0\n"
     ]
    }
   ],
   "source": [
    "print(\"max length: \", np.max(seq_len))\n",
    "print(\"mean: \",np.mean(seq_len))\n",
    "print(\"min length: \", np.min(seq_len))\n",
    "print(\"median: \", np.median(seq_len))"
   ]
  },
  {
   "cell_type": "code",
   "execution_count": 0,
   "metadata": {
    "colab": {},
    "colab_type": "code",
    "id": "fkifsWpruWWb"
   },
   "outputs": [],
   "source": [
    "ids = []\n",
    "for i in all_class:\n",
    "    ids.append(i.replace(\"http://id.nlm.nih.gov/mesh/\", \"\"))\n",
    "list_ids=pandas.DataFrame(ids)"
   ]
  },
  {
   "cell_type": "code",
   "execution_count": 0,
   "metadata": {
    "colab": {},
    "colab_type": "code",
    "id": "EaGAghT0uWWi"
   },
   "outputs": [],
   "source": [
    "targets = get_list_for_terms(all_class)"
   ]
  },
  {
   "cell_type": "code",
   "execution_count": 0,
   "metadata": {
    "colab": {},
    "colab_type": "code",
    "id": "Oa4H3H6SuWWp"
   },
   "outputs": [],
   "source": [
    "with open(f'clean_data_abstract_ln_first_three_{MAX_SEQUENCE_LENGTH}.pkl', 'wb') as fp:\n",
    "  pickle.dump(clean_data, fp)"
   ]
  },
  {
   "cell_type": "code",
   "execution_count": 18,
   "metadata": {
    "colab": {
     "base_uri": "https://localhost:8080/",
     "height": 73
    },
    "colab_type": "code",
    "executionInfo": {
     "elapsed": 568,
     "status": "ok",
     "timestamp": 1551265487002,
     "user": {
      "displayName": "Stuti Nayak",
      "photoUrl": "https://lh4.googleusercontent.com/-dCyvZuZkEEE/AAAAAAAAAAI/AAAAAAAAUDY/4NHoYh2M-mw/s64/photo.jpg",
      "userId": "10886436706821169763"
     },
     "user_tz": -60
    },
    "id": "Qjp_OBGEuWWv",
    "outputId": "8dc40cdb-6a8c-4a65-d459-fdcc17650a4d"
   },
   "outputs": [
    {
     "data": {
      "text/plain": [
       "array([0., 1., 0., 0., 0., 0., 0., 0., 0., 0., 0., 0., 0., 0., 0., 0., 0.,\n",
       "       0., 0., 0., 0., 0., 0., 0., 0., 0., 0., 0., 0., 0., 0., 0., 0., 0.,\n",
       "       0., 0., 0., 0., 0., 0., 0., 0., 0., 0., 0., 0., 0., 0.])"
      ]
     },
     "execution_count": 18,
     "metadata": {
      "tags": []
     },
     "output_type": "execute_result"
    }
   ],
   "source": [
    "#constructing the label matrix \n",
    "label_matrix = np.zeros((len(all_class),len(all_class)))\n",
    "for index,value in enumerate(all_class):\n",
    "    label_matrix[index][index] = 1\n",
    "    \n",
    "#Testing \n",
    "label_matrix[all_class_to_id[all_class[1]]]"
   ]
  },
  {
   "cell_type": "code",
   "execution_count": 0,
   "metadata": {
    "colab": {},
    "colab_type": "code",
    "id": "gDQXlnG6uWW7"
   },
   "outputs": [],
   "source": [
    "def create_multi_hot_label(label_matrix,labels):\n",
    "    '''\n",
    "    \n",
    "        label_matrix --> matrix having one hot vectors\n",
    "        labels --> [idfy]--> [2,5,6]\n",
    "        return [0,0,1,0,0,1....]\n",
    "    '''\n",
    "    vector = np.zeros((label_matrix.shape[0]))\n",
    "    for i in labels:\n",
    "        vector = vector + label_matrix[all_class_to_id[all_class[i]]]\n",
    "    \n",
    "    return vector"
   ]
  },
  {
   "cell_type": "code",
   "execution_count": 0,
   "metadata": {
    "colab": {},
    "colab_type": "code",
    "id": "4N8pGPuEuWXJ"
   },
   "outputs": [],
   "source": [
    "label_vector = []\n",
    "for f in clean_data:\n",
    "    label_id = [all_class_to_id[l] for l in f[1]]\n",
    "    multi_hot_vector = create_multi_hot_label(label_matrix,label_id)\n",
    "    label_vector.append(multi_hot_vector)"
   ]
  },
  {
   "cell_type": "code",
   "execution_count": 0,
   "metadata": {
    "colab": {},
    "colab_type": "code",
    "id": "ycPEs9E-uWXW"
   },
   "outputs": [],
   "source": [
    "X = data\n",
    "Y = label_vector\n",
    "split_index = int(len(X)*.80)\n",
    "train_x,val_x = X[:split_index],X[split_index:]\n",
    "train_y,val_y = Y[:split_index],Y[split_index:]"
   ]
  },
  {
   "cell_type": "code",
   "execution_count": 0,
   "metadata": {
    "colab": {},
    "colab_type": "code",
    "id": "ojGbf3-LuWXd"
   },
   "outputs": [],
   "source": [
    "class CNNDot(Model):\n",
    "\n",
    "    def __init__(self, _parameter_dict, _word_to_id, _device, _pointwise=False, _debug=False):\n",
    "\n",
    "        self.debug = _debug\n",
    "        self.parameter_dict = _parameter_dict\n",
    "        self.device = _device\n",
    "        self.pointwise = _pointwise\n",
    "        self.word_to_id = _word_to_id\n",
    "        self.number_of_labels = self.parameter_dict['number_of_labels']\n",
    "\n",
    "        if self.debug:\n",
    "            print(\"Init Models\")\n",
    "\n",
    "        self.encoder = com.CNN(_vectors=self.parameter_dict['vectors'], _vocab_size=self.parameter_dict['vocab_size'] ,\n",
    "                           _embedding_dim = self.parameter_dict['embedding_dim'] , _output_dim = self.parameter_dict['output_dim'],_debug=self.debug).to(self.device)\n",
    "        \n",
    "        self.dense = com.DenseClf(inputdim= self.parameter_dict['output_dim'],        # *2 because we have two things concatinated here\n",
    "                                  hiddendim= self.parameter_dict['output_dim']/2,\n",
    "                                  outputdim=self.number_of_labels).to(self.device)\n",
    "        \n",
    "        \n",
    "    def train(self, data, optimizer, loss_fn, device):\n",
    "    #\n",
    "        if self.pointwise:\n",
    "            return self._train_pointwise_(data, optimizer, loss_fn, device)\n",
    "        else:\n",
    "            return self._train_pairwise_(data, optimizer, loss_fn, device)\n",
    "\n",
    "    def _train_pairwise_(self, data, optimizer, loss_fn, device):\n",
    "        '''\n",
    "            Given data, passes it through model, inited in constructor, returns loss and updates the weight\n",
    "            :params data: {batch of question, pos paths, neg paths and dummy y labels}\n",
    "            :params optimizer: torch.optim object\n",
    "            :params loss fn: torch.nn loss object\n",
    "            :params device: torch.device object\n",
    "\n",
    "            returns loss\n",
    "        '''\n",
    "\n",
    "        # Unpacking the data and model from args\n",
    "        sent_batch, y_label = data['sent_batch'], data['y_label']\n",
    "\n",
    "        optimizer.zero_grad()\n",
    "\n",
    "        # Encoding all the data\n",
    "#         hidden = self.encoder.init_hidden(sent_batch.shape[0],self.device)\n",
    "        sent_batch_encoded = self.encoder(sent_batch)\n",
    "        if True:\n",
    "            print(sent_batch_encoded.shape)\n",
    "        # Calculating dot score\n",
    "        pred = self.dense(sent_batch_encoded)\n",
    "\n",
    "\n",
    "        '''\n",
    "            If `y == 1` then it assumed the first input should be ranked higher\n",
    "            (have a larger value) than the second input, and vice-versa for `y == -1`\n",
    "        '''\n",
    "        try:\n",
    "#             print(torch.max(pred), torch.max(y_label))\n",
    "            loss = loss_fn(pred, y_label.float())\n",
    "        except RuntimeError:\n",
    "            traceback.print_exc()\n",
    "            print(torch.max(pred.to(cpu)), torch.max(y_label.to(cpu)))\n",
    "#             print(pos_scores.shape, neg_scores.shape, y_label.shape,  ques_batch.shape, pos_batch.shape, neg_batch.shape)\n",
    "        loss.backward()\n",
    "        torch.nn.utils.clip_grad_norm_(self.encoder.parameters(), .5)\n",
    "        optimizer.step()\n",
    "        return loss\n",
    "\n",
    "\n",
    "\n",
    "    def predict(self, sent, device):\n",
    "        \"\"\"\n",
    "            Same code works for both pairwise or pointwise\n",
    "        \"\"\"\n",
    "        with torch.no_grad():\n",
    "\n",
    "            self.encoder.eval()\n",
    "            self.dense.eval()\n",
    "            \n",
    "#             hidden = self.encoder.init_hidden(sent.shape[0], self.device)\n",
    "            sent_encoded = self.encoder(sent.long())\n",
    "            pred = self.dense(sent_encoded)\n",
    "\n",
    "\n",
    "            self.encoder.train()\n",
    "            self.dense.train()\n",
    "            return pred"
   ]
  },
  {
   "cell_type": "code",
   "execution_count": 0,
   "metadata": {
    "colab": {
     "base_uri": "https://localhost:8080/",
     "height": 298
    },
    "colab_type": "code",
    "executionInfo": {
     "elapsed": 840010,
     "status": "ok",
     "timestamp": 1551229781400,
     "user": {
      "displayName": "Stuti Nayak",
      "photoUrl": "https://lh4.googleusercontent.com/-dCyvZuZkEEE/AAAAAAAAAAI/AAAAAAAAUDY/4NHoYh2M-mw/s64/photo.jpg",
      "userId": "10886436706821169763"
     },
     "user_tz": -60
    },
    "id": "WE7VCLHZAz4E",
    "outputId": "f6f9b7dc-8afc-46c4-be43-fbcf622d837d"
   },
   "outputs": [
    {
     "name": "stdout",
     "output_type": "stream",
     "text": [
      "--2019-02-27 00:55:42--  http://nlp.stanford.edu/data/glove.42B.300d.zip\n",
      "Resolving nlp.stanford.edu (nlp.stanford.edu)... 171.64.67.140\n",
      "Connecting to nlp.stanford.edu (nlp.stanford.edu)|171.64.67.140|:80... connected.\n",
      "HTTP request sent, awaiting response... 302 Found\n",
      "Location: https://nlp.stanford.edu/data/glove.42B.300d.zip [following]\n",
      "--2019-02-27 00:55:42--  https://nlp.stanford.edu/data/glove.42B.300d.zip\n",
      "Connecting to nlp.stanford.edu (nlp.stanford.edu)|171.64.67.140|:443... connected.\n",
      "HTTP request sent, awaiting response... 200 OK\n",
      "Length: 1877800501 (1.7G) [application/zip]\n",
      "Saving to: ‘glove.42B.300d.zip.2’\n",
      "\n",
      "glove.42B.300d.zip. 100%[===================>]   1.75G  4.32MB/s    in 13m 56s \n",
      "\n",
      "2019-02-27 01:09:39 (2.14 MB/s) - ‘glove.42B.300d.zip.2’ saved [1877800501/1877800501]\n",
      "\n"
     ]
    }
   ],
   "source": [
    "!wget 'http://nlp.stanford.edu/data/glove.42B.300d.zip'"
   ]
  },
  {
   "cell_type": "code",
   "execution_count": 0,
   "metadata": {
    "colab": {
     "base_uri": "https://localhost:8080/",
     "height": 73
    },
    "colab_type": "code",
    "executionInfo": {
     "elapsed": 100319,
     "status": "ok",
     "timestamp": 1551230249316,
     "user": {
      "displayName": "Stuti Nayak",
      "photoUrl": "https://lh4.googleusercontent.com/-dCyvZuZkEEE/AAAAAAAAAAI/AAAAAAAAUDY/4NHoYh2M-mw/s64/photo.jpg",
      "userId": "10886436706821169763"
     },
     "user_tz": -60
    },
    "id": "L_7X6on4MON7",
    "outputId": "7d7c4974-6187-4045-85ca-1f9b98503c33"
   },
   "outputs": [
    {
     "name": "stdout",
     "output_type": "stream",
     "text": [
      "Archive:  glove.42B.300d.zip.2\n",
      "replace glove.42B.300d.txt? [y]es, [n]o, [A]ll, [N]one, [r]ename: y\n",
      "  inflating: glove.42B.300d.txt      \n"
     ]
    }
   ],
   "source": [
    "!unzip glove.42B.300d.zip.2"
   ]
  },
  {
   "cell_type": "code",
   "execution_count": 23,
   "metadata": {
    "colab": {
     "base_uri": "https://localhost:8080/",
     "height": 36
    },
    "colab_type": "code",
    "executionInfo": {
     "elapsed": 586,
     "status": "ok",
     "timestamp": 1551265514643,
     "user": {
      "displayName": "Stuti Nayak",
      "photoUrl": "https://lh4.googleusercontent.com/-dCyvZuZkEEE/AAAAAAAAAAI/AAAAAAAAUDY/4NHoYh2M-mw/s64/photo.jpg",
      "userId": "10886436706821169763"
     },
     "user_tz": -60
    },
    "id": "o2E8AyxVuWXs",
    "outputId": "43742a9b-f890-406b-8a58-afad71d8219e"
   },
   "outputs": [
    {
     "name": "stdout",
     "output_type": "stream",
     "text": [
      "Found 0 word vectors.\n"
     ]
    }
   ],
   "source": [
    "vecs = np.random.randn(len(word_index),300)\n",
    "embeddings_index = {}\n",
    "f = open('glove.42B.300d.txt', encoding = 'utf-8')\n",
    "for line in f:\n",
    "    values = line.split()\n",
    "    word = values[0]\n",
    "    coefs = np.asarray(values[1:], dtype='float32')\n",
    "    embeddings_index[word] = coefs\n",
    "f.close()\n",
    "\n",
    "print('Found %s word vectors.' % len(embeddings_index))\n"
   ]
  },
  {
   "cell_type": "code",
   "execution_count": 0,
   "metadata": {
    "colab": {},
    "colab_type": "code",
    "id": "LMlMMFQTuWX7"
   },
   "outputs": [],
   "source": [
    "embedding_matrix = np.zeros((len(word_index) + 1, 300))\n",
    "for word, i in word_index.items():\n",
    "    embedding_vector = embeddings_index.get(word)\n",
    "    if embedding_vector is not None:\n",
    "        # words not found in embedding index will be all-zeros.\n",
    "        embedding_matrix[i] = embedding_vector"
   ]
  },
  {
   "cell_type": "markdown",
   "metadata": {
    "colab_type": "text",
    "id": "75a9brsqbkHE"
   },
   "source": []
  },
  {
   "cell_type": "code",
   "execution_count": 0,
   "metadata": {
    "colab": {},
    "colab_type": "code",
    "id": "OypUeVcXuWYC"
   },
   "outputs": [],
   "source": [
    "vecs = embedding_matrix"
   ]
  },
  {
   "cell_type": "code",
   "execution_count": 0,
   "metadata": {
    "colab": {},
    "colab_type": "code",
    "id": "Aed4RUPpuWYF"
   },
   "outputs": [],
   "source": [
    "parameter_dict = {\n",
    "    'number_of_layer' : 1,\n",
    "    'bidirectional' : False,\n",
    "    'embedding_dim' : 300,\n",
    "    'max_length' : MAX_SEQUENCE_LENGTH,\n",
    "    'hidden_size':256,\n",
    "    'vocab_size':len(word_index),\n",
    "    'dropout':0.5,\n",
    "    'vectors':vecs,\n",
    "    'number_of_labels' : len(all_class),\n",
    "    'output_dim' : split_index\n",
    "}"
   ]
  },
  {
   "cell_type": "code",
   "execution_count": 0,
   "metadata": {
    "colab": {},
    "colab_type": "code",
    "id": "ODNN2O_IuWYN"
   },
   "outputs": [],
   "source": [
    "loss_fn = nn.BCELoss()\n",
    "modeler = CNNDot( _parameter_dict = parameter_dict,_word_to_id=None,\n",
    "                                     _device=device,_pointwise=False, _debug=False)\n",
    "\n",
    "optimizer = optim.Adam(list(filter(lambda p: p.requires_grad, modeler.encoder.parameters()))+\n",
    "                       list(filter(lambda p: p.requires_grad, modeler.dense.parameters())))"
   ]
  },
  {
   "cell_type": "code",
   "execution_count": 0,
   "metadata": {
    "colab": {},
    "colab_type": "code",
    "id": "lVtWwpg7uWYS"
   },
   "outputs": [],
   "source": [
    "  "
   ]
  },
  {
   "cell_type": "code",
   "execution_count": 0,
   "metadata": {
    "colab": {},
    "colab_type": "code",
    "id": "jzihQJaYuWYe"
   },
   "outputs": [],
   "source": [
    "class SimplestSampler:\n",
    "    \"\"\"\n",
    "        Given X and Y matrices (or lists of lists),\n",
    "            it returns a batch worth of stuff upon __next__\n",
    "    :return:\n",
    "    \"\"\"\n",
    "\n",
    "    def __init__(self, data, bs: int = 64):\n",
    "        \n",
    "        try:\n",
    "            assert len(data[\"x\"]) == len(data[\"y\"])\n",
    "        except AssertionError:\n",
    "            \n",
    "            raise MismatchedDataError(\"Length of x is {len(data['x'])} while of y is {len(data['y'])}\")\n",
    "\n",
    "        self.x = data[\"x\"]\n",
    "        self.y = data[\"y\"]\n",
    "        self.n = len(self.x)\n",
    "        self.bs = bs  # Batch Size\n",
    "\n",
    "    def __len__(self):\n",
    "        return self.n // self.bs - (1 if self.n % self.bs else 0)\n",
    "\n",
    "    def __iter__(self):\n",
    "        self.i, self.iter = 0, 0\n",
    "        return self\n",
    "\n",
    "    def __next__(self):\n",
    "        if self.i + self.bs >= self.n:\n",
    "            raise StopIteration\n",
    "\n",
    "        _x, _y = self.x[self.i:self.i + self.bs], self.y[self.i:self.i + self.bs]\n",
    "        self.i += self.bs\n",
    "\n",
    "        return _x, _y"
   ]
  },
  {
   "cell_type": "code",
   "execution_count": 0,
   "metadata": {
    "colab": {},
    "colab_type": "code",
    "id": "WBU2HXFNuWYl"
   },
   "outputs": [],
   "source": [
    "train_data = {\n",
    "    'x' : train_x,\n",
    "    'y': np.asarray(train_y)\n",
    "}\n",
    "\n",
    "valid_data = {\n",
    "    'x' : val_x,\n",
    "    'y' : np.asarray(val_y)\n",
    "}\n",
    "\n",
    "train_fact_iter = SimplestSampler(train_data)\n",
    "valid_fact_iter = SimplestSampler(valid_data)"
   ]
  },
  {
   "cell_type": "code",
   "execution_count": 30,
   "metadata": {
    "colab": {
     "base_uri": "https://localhost:8080/",
     "height": 36
    },
    "colab_type": "code",
    "executionInfo": {
     "elapsed": 405,
     "status": "ok",
     "timestamp": 1551265576178,
     "user": {
      "displayName": "Stuti Nayak",
      "photoUrl": "https://lh4.googleusercontent.com/-dCyvZuZkEEE/AAAAAAAAAAI/AAAAAAAAUDY/4NHoYh2M-mw/s64/photo.jpg",
      "userId": "10886436706821169763"
     },
     "user_tz": -60
    },
    "id": "GunmFu5WuWYx",
    "outputId": "f9447b04-1bc6-4a15-bea2-424bfa75fd0c"
   },
   "outputs": [
    {
     "data": {
      "text/plain": [
       "((64, 200), (64, 48))"
      ]
     },
     "execution_count": 30,
     "metadata": {
      "tags": []
     },
     "output_type": "execute_result"
    }
   ],
   "source": [
    "for dat in train_fact_iter:\n",
    "    break\n",
    "dat[0].shape, dat[1].shape"
   ]
  },
  {
   "cell_type": "code",
   "execution_count": 31,
   "metadata": {
    "colab": {
     "base_uri": "https://localhost:8080/",
     "height": 36
    },
    "colab_type": "code",
    "executionInfo": {
     "elapsed": 577,
     "status": "ok",
     "timestamp": 1551265577714,
     "user": {
      "displayName": "Stuti Nayak",
      "photoUrl": "https://lh4.googleusercontent.com/-dCyvZuZkEEE/AAAAAAAAAAI/AAAAAAAAUDY/4NHoYh2M-mw/s64/photo.jpg",
      "userId": "10886436706821169763"
     },
     "user_tz": -60
    },
    "id": "WGkd_hCwuWZA",
    "outputId": "0758e655-9072-4edb-aded-7e7fb607500d"
   },
   "outputs": [
    {
     "name": "stdout",
     "output_type": "stream",
     "text": [
      "torch.Size([64, 619])\n"
     ]
    }
   ],
   "source": [
    "_x = torch.tensor(dat[0], dtype=torch.long, device=device)\n",
    "_y = torch.tensor(dat[1], dtype=torch.long, device=device)\n",
    "\n",
    "data = {\n",
    "    'sent_batch' : _x,\n",
    "    'y_label' : _y\n",
    "}\n",
    "\n",
    "loss = modeler.train(data, optimizer, loss_fn, device)\n",
    "op = modeler.predict(_x,device)"
   ]
  },
  {
   "cell_type": "code",
   "execution_count": 32,
   "metadata": {
    "colab": {
     "base_uri": "https://localhost:8080/",
     "height": 36
    },
    "colab_type": "code",
    "executionInfo": {
     "elapsed": 516,
     "status": "ok",
     "timestamp": 1551265579567,
     "user": {
      "displayName": "Stuti Nayak",
      "photoUrl": "https://lh4.googleusercontent.com/-dCyvZuZkEEE/AAAAAAAAAAI/AAAAAAAAUDY/4NHoYh2M-mw/s64/photo.jpg",
      "userId": "10886436706821169763"
     },
     "user_tz": -60
    },
    "id": "YrDCNc4quWZE",
    "outputId": "5d9bbaf0-8653-483d-ffc5-8ae47530264f"
   },
   "outputs": [
    {
     "data": {
      "text/plain": [
       "64"
      ]
     },
     "execution_count": 32,
     "metadata": {
      "tags": []
     },
     "output_type": "execute_result"
    }
   ],
   "source": [
    "\n",
    "len(op)"
   ]
  },
  {
   "cell_type": "code",
   "execution_count": 33,
   "metadata": {
    "colab": {
     "base_uri": "https://localhost:8080/",
     "height": 36
    },
    "colab_type": "code",
    "executionInfo": {
     "elapsed": 404,
     "status": "ok",
     "timestamp": 1551265580820,
     "user": {
      "displayName": "Stuti Nayak",
      "photoUrl": "https://lh4.googleusercontent.com/-dCyvZuZkEEE/AAAAAAAAAAI/AAAAAAAAUDY/4NHoYh2M-mw/s64/photo.jpg",
      "userId": "10886436706821169763"
     },
     "user_tz": -60
    },
    "id": "R37mUudtuWZK",
    "outputId": "bf0e4bc6-2fc8-4161-c2fe-8a5f30bf1b2d"
   },
   "outputs": [
    {
     "data": {
      "text/plain": [
       "tensor(0.6973, device='cuda:0', grad_fn=<BinaryCrossEntropyBackward>)"
      ]
     },
     "execution_count": 33,
     "metadata": {
      "tags": []
     },
     "output_type": "execute_result"
    }
   ],
   "source": [
    "loss"
   ]
  },
  {
   "cell_type": "code",
   "execution_count": 0,
   "metadata": {
    "colab": {},
    "colab_type": "code",
    "id": "iUuOb0i5uWZQ"
   },
   "outputs": [],
   "source": [
    "def eval(op,_y):\n",
    "    return torch.mean(op.round()[_y==1])"
   ]
  },
  {
   "cell_type": "code",
   "execution_count": 0,
   "metadata": {
    "colab": {},
    "colab_type": "code",
    "id": "toyMLLrHuWZS"
   },
   "outputs": [],
   "source": [
    "def get_predictions_given_text(abstract):\n",
    "    global modeler, all_class_to_id, word_index\n",
    "    \n",
    "    text_id = np.asarray([word_index.get(word, 0) for word in abstract.split()])\n",
    "    _x = torch.tensor(text_id, dtype=torch.long, device=device).unsqueeze(0)\n",
    "    y_pred = modeler.predict(_x, device)\n",
    "    classes = [all_class[i] for i,x in enumerate(y_pred.round().int().squeeze()) if x.item() == 1]\n",
    "    terms = get_list_for_terms(classes)\n",
    "    return terms"
   ]
  },
  {
   "cell_type": "code",
   "execution_count": 0,
   "metadata": {
    "colab": {},
    "colab_type": "code",
    "id": "zytYUOAhuWZX"
   },
   "outputs": [],
   "source": [
    "get_predictions_given_text(texts[1])"
   ]
  },
  {
   "cell_type": "code",
   "execution_count": 0,
   "metadata": {
    "colab": {},
    "colab_type": "code",
    "id": "908vjSqauWZl"
   },
   "outputs": [],
   "source": [
    "def simplest_loop(epochs: int,\n",
    "                  train_data_iter,\n",
    "                  valid_data_iter,\n",
    "                  device: torch.device,\n",
    "                  model,\n",
    "                  optimizer,\n",
    "                  loss_fn,\n",
    "                  eval_fn= None) -> (list, list, list):\n",
    "    \"\"\"\n",
    "        A fn which can be used to train a language model.\n",
    "        The model doesn't need to be an nn.Module,\n",
    "            but have an eval (optional), a train and a predict function.\n",
    "        Data should be a dict like so:\n",
    "            {\"train\":{\"x\":np.arr, \"y\":np.arr}, \"val\":{\"x\":np.arr, \"y\":np.arr} }\n",
    "        Train_fn must return both loss and y_pred\n",
    "        :param epochs: number of epochs to train for\n",
    "        :param data: a dict having keys train_x, test_x, train_y, test_y\n",
    "        :param device: torch device to create new tensor from data\n",
    "        :param opt: optimizer\n",
    "        :param loss_fn: loss function\n",
    "        :param train_fn: function to call with x and y\n",
    "        :param predict_fn: function to call with x (test)\n",
    "        :param data_fn: a class to which we can pass X and Y, and get an iterator.\n",
    "        :param eval_fn: (optional) function which when given pred and true, returns acc\n",
    "        :return: traces\n",
    "    \"\"\"\n",
    "\n",
    "    train_loss = []\n",
    "    train_acc = []\n",
    "    val_acc = []\n",
    "    lrs = []\n",
    "\n",
    "    # Epoch level\n",
    "    for e in range(epochs):\n",
    "\n",
    "        per_epoch_loss = []\n",
    "        per_epoch_tr_acc = []\n",
    "\n",
    "        # Train\n",
    "        with Timer() as timer:\n",
    "\n",
    "            # Make data\n",
    "\n",
    "            for x, y in tqdm(train_data_iter):\n",
    "                optimizer.zero_grad()\n",
    "\n",
    "                _x = torch.tensor(x, dtype=torch.long, device=device)\n",
    "                _y = torch.tensor(y, dtype=torch.long, device=device)\n",
    "                \n",
    "                data = {\n",
    "                    'sent_batch' : _x,\n",
    "                    'y_label' : _y\n",
    "                }\n",
    "                \n",
    "                loss = model.train(data, optimizer, loss_fn, device)\n",
    "                y_pred = model.predict(_x,device)\n",
    "\n",
    "                per_epoch_tr_acc.append(eval_fn(y_pred,_y).item())\n",
    "                per_epoch_loss.append(loss.item())\n",
    "\n",
    "\n",
    "        # Val\n",
    "        with torch.no_grad():\n",
    "\n",
    "            per_epoch_vl_acc = []\n",
    "            for x, y in tqdm(valid_data_iter):\n",
    "                _x = torch.tensor(x, dtype=torch.long, device=device)\n",
    "                _y = torch.tensor(y, dtype=torch.long, device=device)\n",
    "\n",
    "                y_pred = model.predict(_x,device)\n",
    "\n",
    "                per_epoch_vl_acc.append(eval_fn(y_pred, _y).item())\n",
    "\n",
    "        # Bookkeep\n",
    "        train_acc.append(np.mean(per_epoch_tr_acc))\n",
    "        train_loss.append(np.mean(per_epoch_loss))\n",
    "        val_acc.append(np.mean(per_epoch_vl_acc))\n",
    "\n",
    "        print(\"Epoch: %(epo)03d | Loss: %(loss).5f | Tr_c: %(tracc)0.5f | Vl_c: %(vlacc)0.5f | Time: %(time).3f min\"\n",
    "              % {'epo': e,\n",
    "                 'loss': float(np.mean(per_epoch_loss)),\n",
    "                 'tracc': float(np.mean(per_epoch_tr_acc)),\n",
    "                 'vlacc': float(np.mean(per_epoch_vl_acc)),\n",
    "                 'time': timer.interval / 60.0})\n",
    "\n",
    "    return train_acc, train_loss, val_acc"
   ]
  },
  {
   "cell_type": "code",
   "execution_count": 37,
   "metadata": {
    "colab": {
     "base_uri": "https://localhost:8080/",
     "height": 13481
    },
    "colab_type": "code",
    "executionInfo": {
     "elapsed": 29834,
     "status": "ok",
     "timestamp": 1551265620254,
     "user": {
      "displayName": "Stuti Nayak",
      "photoUrl": "https://lh4.googleusercontent.com/-dCyvZuZkEEE/AAAAAAAAAAI/AAAAAAAAUDY/4NHoYh2M-mw/s64/photo.jpg",
      "userId": "10886436706821169763"
     },
     "user_tz": -60
    },
    "id": "d2Yrl6UHuWZy",
    "outputId": "8a45c529-22d3-478e-c618-b287e46782b3"
   },
   "outputs": [
    {
     "name": "stderr",
     "output_type": "stream",
     "text": [
      " 25%|██▌       | 2/8 [00:00<00:00, 14.35it/s]"
     ]
    },
    {
     "name": "stdout",
     "output_type": "stream",
     "text": [
      "torch.Size([64, 619])\n",
      "torch.Size([64, 619])\n",
      "torch.Size([64, 619])\n"
     ]
    },
    {
     "name": "stderr",
     "output_type": "stream",
     "text": [
      " 75%|███████▌  | 6/8 [00:00<00:00, 15.18it/s]"
     ]
    },
    {
     "name": "stdout",
     "output_type": "stream",
     "text": [
      "torch.Size([64, 619])\n",
      "torch.Size([64, 619])\n",
      "torch.Size([64, 619])\n",
      "torch.Size([64, 619])\n"
     ]
    },
    {
     "name": "stderr",
     "output_type": "stream",
     "text": [
      "9it [00:00, 16.05it/s]                       \n",
      "2it [00:00, 93.50it/s]               \n",
      "  0%|          | 0/8 [00:00<?, ?it/s]"
     ]
    },
    {
     "name": "stdout",
     "output_type": "stream",
     "text": [
      "torch.Size([64, 619])\n",
      "torch.Size([64, 619])\n",
      "Epoch: 000 | Loss: 0.63001 | Tr_c: 0.23029 | Vl_c: 0.19167 | Time: 0.010 min\n",
      "torch.Size([64, 619])\n"
     ]
    },
    {
     "name": "stderr",
     "output_type": "stream",
     "text": [
      " 50%|█████     | 4/8 [00:00<00:00, 18.49it/s]"
     ]
    },
    {
     "name": "stdout",
     "output_type": "stream",
     "text": [
      "torch.Size([64, 619])\n",
      "torch.Size([64, 619])\n",
      "torch.Size([64, 619])\n",
      "torch.Size([64, 619])\n"
     ]
    },
    {
     "name": "stderr",
     "output_type": "stream",
     "text": [
      "100%|██████████| 8/8 [00:00<00:00, 18.68it/s]"
     ]
    },
    {
     "name": "stdout",
     "output_type": "stream",
     "text": [
      "torch.Size([64, 619])\n",
      "torch.Size([64, 619])\n",
      "torch.Size([64, 619])\n",
      "torch.Size([64, 619])\n"
     ]
    },
    {
     "name": "stderr",
     "output_type": "stream",
     "text": [
      "9it [00:00, 18.63it/s]                       \n",
      "2it [00:00, 100.43it/s]              \n",
      " 38%|███▊      | 3/8 [00:00<00:00, 20.20it/s]"
     ]
    },
    {
     "name": "stdout",
     "output_type": "stream",
     "text": [
      "Epoch: 001 | Loss: 0.33087 | Tr_c: 0.21941 | Vl_c: 0.29936 | Time: 0.008 min\n",
      "torch.Size([64, 619])\n",
      "torch.Size([64, 619])\n",
      "torch.Size([64, 619])\n",
      "torch.Size([64, 619])\n"
     ]
    },
    {
     "name": "stderr",
     "output_type": "stream",
     "text": [
      "100%|██████████| 8/8 [00:00<00:00, 20.12it/s]"
     ]
    },
    {
     "name": "stdout",
     "output_type": "stream",
     "text": [
      "torch.Size([64, 619])\n",
      "torch.Size([64, 619])\n",
      "torch.Size([64, 619])\n",
      "torch.Size([64, 619])\n",
      "torch.Size([64, 619])\n"
     ]
    },
    {
     "name": "stderr",
     "output_type": "stream",
     "text": [
      "9it [00:00, 20.06it/s]                       \n",
      "2it [00:00, 89.30it/s]               \n",
      " 25%|██▌       | 2/8 [00:00<00:00, 19.35it/s]"
     ]
    },
    {
     "name": "stdout",
     "output_type": "stream",
     "text": [
      "Epoch: 002 | Loss: 0.23390 | Tr_c: 0.29130 | Vl_c: 0.32979 | Time: 0.008 min\n",
      "torch.Size([64, 619])\n",
      "torch.Size([64, 619])\n",
      "torch.Size([64, 619])\n",
      "torch.Size([64, 619])\n"
     ]
    },
    {
     "name": "stderr",
     "output_type": "stream",
     "text": [
      " 75%|███████▌  | 6/8 [00:00<00:00, 19.10it/s]"
     ]
    },
    {
     "name": "stdout",
     "output_type": "stream",
     "text": [
      "torch.Size([64, 619])\n",
      "torch.Size([64, 619])\n",
      "torch.Size([64, 619])\n",
      "torch.Size([64, 619])\n"
     ]
    },
    {
     "name": "stderr",
     "output_type": "stream",
     "text": [
      "9it [00:00, 19.07it/s]                       \n",
      "2it [00:00, 92.29it/s]               \n",
      "  0%|          | 0/8 [00:00<?, ?it/s]"
     ]
    },
    {
     "name": "stdout",
     "output_type": "stream",
     "text": [
      "torch.Size([64, 619])\n",
      "Epoch: 003 | Loss: 0.21293 | Tr_c: 0.30876 | Vl_c: 0.29936 | Time: 0.008 min\n",
      "torch.Size([64, 619])\n",
      "torch.Size([64, 619])\n",
      "torch.Size([64, 619])\n"
     ]
    },
    {
     "name": "stderr",
     "output_type": "stream",
     "text": [
      " 75%|███████▌  | 6/8 [00:00<00:00, 20.29it/s]"
     ]
    },
    {
     "name": "stdout",
     "output_type": "stream",
     "text": [
      "torch.Size([64, 619])\n",
      "torch.Size([64, 619])\n",
      "torch.Size([64, 619])\n",
      "torch.Size([64, 619])\n",
      "torch.Size([64, 619])\n"
     ]
    },
    {
     "name": "stderr",
     "output_type": "stream",
     "text": [
      "9it [00:00, 19.74it/s]                       \n",
      "2it [00:00, 99.53it/s]               \n",
      " 25%|██▌       | 2/8 [00:00<00:00, 19.46it/s]"
     ]
    },
    {
     "name": "stdout",
     "output_type": "stream",
     "text": [
      "torch.Size([64, 619])\n",
      "Epoch: 004 | Loss: 0.19969 | Tr_c: 0.30613 | Vl_c: 0.29936 | Time: 0.008 min\n",
      "torch.Size([64, 619])\n",
      "torch.Size([64, 619])\n",
      "torch.Size([64, 619])\n"
     ]
    },
    {
     "name": "stderr",
     "output_type": "stream",
     "text": [
      " 75%|███████▌  | 6/8 [00:00<00:00, 19.34it/s]"
     ]
    },
    {
     "name": "stdout",
     "output_type": "stream",
     "text": [
      "torch.Size([64, 619])\n",
      "torch.Size([64, 619])\n",
      "torch.Size([64, 619])\n",
      "torch.Size([64, 619])\n"
     ]
    },
    {
     "name": "stderr",
     "output_type": "stream",
     "text": [
      "9it [00:00, 19.20it/s]                       \n",
      "2it [00:00, 97.30it/s]               \n",
      "  0%|          | 0/8 [00:00<?, ?it/s]"
     ]
    },
    {
     "name": "stdout",
     "output_type": "stream",
     "text": [
      "torch.Size([64, 619])\n",
      "torch.Size([64, 619])\n",
      "Epoch: 005 | Loss: 0.19151 | Tr_c: 0.30613 | Vl_c: 0.29936 | Time: 0.008 min\n",
      "torch.Size([64, 619])\n",
      "torch.Size([64, 619])\n"
     ]
    },
    {
     "name": "stderr",
     "output_type": "stream",
     "text": [
      " 50%|█████     | 4/8 [00:00<00:00, 19.54it/s]"
     ]
    },
    {
     "name": "stdout",
     "output_type": "stream",
     "text": [
      "torch.Size([64, 619])\n",
      "torch.Size([64, 619])\n",
      "torch.Size([64, 619])\n",
      "torch.Size([64, 619])\n",
      "torch.Size([64, 619])\n"
     ]
    },
    {
     "name": "stderr",
     "output_type": "stream",
     "text": [
      "9it [00:00, 19.61it/s]                       \n",
      "2it [00:00, 100.21it/s]              \n",
      "  0%|          | 0/8 [00:00<?, ?it/s]"
     ]
    },
    {
     "name": "stdout",
     "output_type": "stream",
     "text": [
      "torch.Size([64, 619])\n",
      "torch.Size([64, 619])\n",
      "Epoch: 006 | Loss: 0.18585 | Tr_c: 0.30650 | Vl_c: 0.29936 | Time: 0.008 min\n",
      "torch.Size([64, 619])\n",
      "torch.Size([64, 619])\n"
     ]
    },
    {
     "name": "stderr",
     "output_type": "stream",
     "text": [
      " 50%|█████     | 4/8 [00:00<00:00, 19.30it/s]"
     ]
    },
    {
     "name": "stdout",
     "output_type": "stream",
     "text": [
      "torch.Size([64, 619])\n",
      "torch.Size([64, 619])\n",
      "torch.Size([64, 619])\n",
      "torch.Size([64, 619])\n"
     ]
    },
    {
     "name": "stderr",
     "output_type": "stream",
     "text": [
      "9it [00:00, 19.05it/s]                       \n",
      "2it [00:00, 91.87it/s]               \n",
      "  0%|          | 0/8 [00:00<?, ?it/s]"
     ]
    },
    {
     "name": "stdout",
     "output_type": "stream",
     "text": [
      "torch.Size([64, 619])\n",
      "torch.Size([64, 619])\n",
      "torch.Size([64, 619])\n",
      "Epoch: 007 | Loss: 0.17979 | Tr_c: 0.31926 | Vl_c: 0.30297 | Time: 0.008 min\n",
      "torch.Size([64, 619])\n"
     ]
    },
    {
     "name": "stderr",
     "output_type": "stream",
     "text": [
      " 62%|██████▎   | 5/8 [00:00<00:00, 19.93it/s]"
     ]
    },
    {
     "name": "stdout",
     "output_type": "stream",
     "text": [
      "torch.Size([64, 619])\n",
      "torch.Size([64, 619])\n",
      "torch.Size([64, 619])\n",
      "torch.Size([64, 619])\n",
      "torch.Size([64, 619])"
     ]
    },
    {
     "name": "stderr",
     "output_type": "stream",
     "text": [
      "9it [00:00, 19.99it/s]                       \n",
      "  0%|          | 0/1 [00:00<?, ?it/s]"
     ]
    },
    {
     "name": "stdout",
     "output_type": "stream",
     "text": [
      "\n",
      "torch.Size([64, 619])\n",
      "torch.Size([64, 619])\n",
      "torch.Size([64, 619])\n"
     ]
    },
    {
     "name": "stderr",
     "output_type": "stream",
     "text": [
      "2it [00:00, 93.50it/s]               \n",
      " 25%|██▌       | 2/8 [00:00<00:00, 19.08it/s]"
     ]
    },
    {
     "name": "stdout",
     "output_type": "stream",
     "text": [
      "Epoch: 008 | Loss: 0.16982 | Tr_c: 0.39463 | Vl_c: 0.33196 | Time: 0.008 min\n",
      "torch.Size([64, 619])\n",
      "torch.Size([64, 619])\n",
      "torch.Size([64, 619])\n",
      "torch.Size([64, 619])\n"
     ]
    },
    {
     "name": "stderr",
     "output_type": "stream",
     "text": [
      " 75%|███████▌  | 6/8 [00:00<00:00, 19.21it/s]"
     ]
    },
    {
     "name": "stdout",
     "output_type": "stream",
     "text": [
      "torch.Size([64, 619])\n",
      "torch.Size([64, 619])\n",
      "torch.Size([64, 619])\n",
      "torch.Size([64, 619])\n"
     ]
    },
    {
     "name": "stderr",
     "output_type": "stream",
     "text": [
      "9it [00:00, 19.21it/s]                       \n",
      "2it [00:00, 100.04it/s]              \n",
      "  0%|          | 0/8 [00:00<?, ?it/s]"
     ]
    },
    {
     "name": "stdout",
     "output_type": "stream",
     "text": [
      "torch.Size([64, 619])\n",
      "Epoch: 009 | Loss: 0.15757 | Tr_c: 0.44682 | Vl_c: 0.35936 | Time: 0.008 min\n",
      "torch.Size([64, 619])\n",
      "torch.Size([64, 619])\n",
      "torch.Size([64, 619])\n"
     ]
    },
    {
     "name": "stderr",
     "output_type": "stream",
     "text": [
      " 75%|███████▌  | 6/8 [00:00<00:00, 20.43it/s]"
     ]
    },
    {
     "name": "stdout",
     "output_type": "stream",
     "text": [
      "torch.Size([64, 619])\n",
      "torch.Size([64, 619])\n",
      "torch.Size([64, 619])\n",
      "torch.Size([64, 619])\n",
      "torch.Size([64, 619])\n"
     ]
    },
    {
     "name": "stderr",
     "output_type": "stream",
     "text": [
      "9it [00:00, 20.08it/s]                       \n",
      "2it [00:00, 97.68it/s]               \n",
      " 25%|██▌       | 2/8 [00:00<00:00, 19.02it/s]"
     ]
    },
    {
     "name": "stdout",
     "output_type": "stream",
     "text": [
      "torch.Size([64, 619])\n",
      "Epoch: 010 | Loss: 0.15117 | Tr_c: 0.44991 | Vl_c: 0.36500 | Time: 0.008 min\n",
      "torch.Size([64, 619])\n",
      "torch.Size([64, 619])\n",
      "torch.Size([64, 619])\n"
     ]
    },
    {
     "name": "stderr",
     "output_type": "stream",
     "text": [
      " 75%|███████▌  | 6/8 [00:00<00:00, 19.14it/s]"
     ]
    },
    {
     "name": "stdout",
     "output_type": "stream",
     "text": [
      "torch.Size([64, 619])\n",
      "torch.Size([64, 619])\n",
      "torch.Size([64, 619])\n",
      "torch.Size([64, 619])\n"
     ]
    },
    {
     "name": "stderr",
     "output_type": "stream",
     "text": [
      "9it [00:00, 19.18it/s]                       \n",
      "2it [00:00, 99.36it/s]               \n",
      "  0%|          | 0/8 [00:00<?, ?it/s]"
     ]
    },
    {
     "name": "stdout",
     "output_type": "stream",
     "text": [
      "torch.Size([64, 619])\n",
      "torch.Size([64, 619])\n",
      "Epoch: 011 | Loss: 0.14506 | Tr_c: 0.45705 | Vl_c: 0.31674 | Time: 0.008 min\n",
      "torch.Size([64, 619])\n",
      "torch.Size([64, 619])\n"
     ]
    },
    {
     "name": "stderr",
     "output_type": "stream",
     "text": [
      " 62%|██████▎   | 5/8 [00:00<00:00, 20.27it/s]"
     ]
    },
    {
     "name": "stdout",
     "output_type": "stream",
     "text": [
      "torch.Size([64, 619])\n",
      "torch.Size([64, 619])\n",
      "torch.Size([64, 619])\n",
      "torch.Size([64, 619])\n",
      "torch.Size([64, 619])\n"
     ]
    },
    {
     "name": "stderr",
     "output_type": "stream",
     "text": [
      "9it [00:00, 19.95it/s]                       \n",
      "2it [00:00, 99.18it/s]               \n",
      "  0%|          | 0/8 [00:00<?, ?it/s]"
     ]
    },
    {
     "name": "stdout",
     "output_type": "stream",
     "text": [
      "torch.Size([64, 619])\n",
      "torch.Size([64, 619])\n",
      "Epoch: 012 | Loss: 0.13907 | Tr_c: 0.49557 | Vl_c: 0.29070 | Time: 0.008 min\n",
      "torch.Size([64, 619])\n",
      "torch.Size([64, 619])\n"
     ]
    },
    {
     "name": "stderr",
     "output_type": "stream",
     "text": [
      " 50%|█████     | 4/8 [00:00<00:00, 19.32it/s]"
     ]
    },
    {
     "name": "stdout",
     "output_type": "stream",
     "text": [
      "torch.Size([64, 619])\n",
      "torch.Size([64, 619])\n",
      "torch.Size([64, 619])\n",
      "torch.Size([64, 619])\n"
     ]
    },
    {
     "name": "stderr",
     "output_type": "stream",
     "text": [
      "9it [00:00, 19.21it/s]                       \n",
      "2it [00:00, 96.78it/s]               \n",
      "  0%|          | 0/8 [00:00<?, ?it/s]"
     ]
    },
    {
     "name": "stdout",
     "output_type": "stream",
     "text": [
      "torch.Size([64, 619])\n",
      "torch.Size([64, 619])\n",
      "torch.Size([64, 619])\n",
      "Epoch: 013 | Loss: 0.13602 | Tr_c: 0.51492 | Vl_c: 0.35811 | Time: 0.008 min\n",
      "torch.Size([64, 619])\n"
     ]
    },
    {
     "name": "stderr",
     "output_type": "stream",
     "text": [
      " 62%|██████▎   | 5/8 [00:00<00:00, 19.75it/s]"
     ]
    },
    {
     "name": "stdout",
     "output_type": "stream",
     "text": [
      "torch.Size([64, 619])\n",
      "torch.Size([64, 619])\n",
      "torch.Size([64, 619])\n",
      "torch.Size([64, 619])\n",
      "torch.Size([64, 619])\n"
     ]
    },
    {
     "name": "stderr",
     "output_type": "stream",
     "text": [
      "9it [00:00, 20.07it/s]                       \n",
      "2it [00:00, 100.34it/s]              \n",
      "  0%|          | 0/8 [00:00<?, ?it/s]"
     ]
    },
    {
     "name": "stdout",
     "output_type": "stream",
     "text": [
      "torch.Size([64, 619])\n",
      "torch.Size([64, 619])\n",
      "torch.Size([64, 619])\n",
      "Epoch: 014 | Loss: 0.13564 | Tr_c: 0.50940 | Vl_c: 0.43536 | Time: 0.008 min\n",
      "torch.Size([64, 619])\n"
     ]
    },
    {
     "name": "stderr",
     "output_type": "stream",
     "text": [
      " 50%|█████     | 4/8 [00:00<00:00, 19.68it/s]"
     ]
    },
    {
     "name": "stdout",
     "output_type": "stream",
     "text": [
      "torch.Size([64, 619])\n",
      "torch.Size([64, 619])\n",
      "torch.Size([64, 619])\n",
      "torch.Size([64, 619])\n"
     ]
    },
    {
     "name": "stderr",
     "output_type": "stream",
     "text": [
      "100%|██████████| 8/8 [00:00<00:00, 19.57it/s]"
     ]
    },
    {
     "name": "stdout",
     "output_type": "stream",
     "text": [
      "torch.Size([64, 619])\n",
      "torch.Size([64, 619])\n",
      "torch.Size([64, 619])\n",
      "torch.Size([64, 619])\n"
     ]
    },
    {
     "name": "stderr",
     "output_type": "stream",
     "text": [
      "9it [00:00, 19.46it/s]                       \n",
      "2it [00:00, 100.81it/s]              \n",
      " 38%|███▊      | 3/8 [00:00<00:00, 20.51it/s]"
     ]
    },
    {
     "name": "stdout",
     "output_type": "stream",
     "text": [
      "Epoch: 015 | Loss: 0.14152 | Tr_c: 0.54292 | Vl_c: 0.32249 | Time: 0.008 min\n",
      "torch.Size([64, 619])\n",
      "torch.Size([64, 619])\n",
      "torch.Size([64, 619])\n",
      "torch.Size([64, 619])\n"
     ]
    },
    {
     "name": "stderr",
     "output_type": "stream",
     "text": [
      " 88%|████████▊ | 7/8 [00:00<00:00, 20.08it/s]"
     ]
    },
    {
     "name": "stdout",
     "output_type": "stream",
     "text": [
      "torch.Size([64, 619])\n",
      "torch.Size([64, 619])\n",
      "torch.Size([64, 619])\n",
      "torch.Size([64, 619])\n",
      "torch.Size([64, 619])\n"
     ]
    },
    {
     "name": "stderr",
     "output_type": "stream",
     "text": [
      "9it [00:00, 20.05it/s]                       \n",
      "2it [00:00, 100.36it/s]              \n",
      " 25%|██▌       | 2/8 [00:00<00:00, 19.39it/s]"
     ]
    },
    {
     "name": "stdout",
     "output_type": "stream",
     "text": [
      "Epoch: 016 | Loss: 0.13224 | Tr_c: 0.60239 | Vl_c: 0.43209 | Time: 0.008 min\n",
      "torch.Size([64, 619])\n",
      "torch.Size([64, 619])\n",
      "torch.Size([64, 619])\n",
      "torch.Size([64, 619])\n"
     ]
    },
    {
     "name": "stderr",
     "output_type": "stream",
     "text": [
      " 75%|███████▌  | 6/8 [00:00<00:00, 19.36it/s]"
     ]
    },
    {
     "name": "stdout",
     "output_type": "stream",
     "text": [
      "torch.Size([64, 619])\n",
      "torch.Size([64, 619])\n",
      "torch.Size([64, 619])\n",
      "torch.Size([64, 619])\n"
     ]
    },
    {
     "name": "stderr",
     "output_type": "stream",
     "text": [
      "9it [00:00, 19.32it/s]                       \n",
      "2it [00:00, 99.51it/s]               \n",
      "  0%|          | 0/8 [00:00<?, ?it/s]"
     ]
    },
    {
     "name": "stdout",
     "output_type": "stream",
     "text": [
      "torch.Size([64, 619])\n",
      "Epoch: 017 | Loss: 0.11325 | Tr_c: 0.58299 | Vl_c: 0.46727 | Time: 0.008 min\n",
      "torch.Size([64, 619])\n",
      "torch.Size([64, 619])\n",
      "torch.Size([64, 619])\n"
     ]
    },
    {
     "name": "stderr",
     "output_type": "stream",
     "text": [
      " 88%|████████▊ | 7/8 [00:00<00:00, 19.91it/s]"
     ]
    },
    {
     "name": "stdout",
     "output_type": "stream",
     "text": [
      "torch.Size([64, 619])\n",
      "torch.Size([64, 619])\n",
      "torch.Size([64, 619])\n",
      "torch.Size([64, 619])\n"
     ]
    },
    {
     "name": "stderr",
     "output_type": "stream",
     "text": [
      "9it [00:00, 19.88it/s]                       \n",
      "2it [00:00, 94.65it/s]               \n",
      "  0%|          | 0/8 [00:00<?, ?it/s]"
     ]
    },
    {
     "name": "stdout",
     "output_type": "stream",
     "text": [
      "torch.Size([64, 619])\n",
      "torch.Size([64, 619])\n",
      "Epoch: 018 | Loss: 0.10418 | Tr_c: 0.70763 | Vl_c: 0.49692 | Time: 0.008 min\n",
      "torch.Size([64, 619])\n",
      "torch.Size([64, 619])\n"
     ]
    },
    {
     "name": "stderr",
     "output_type": "stream",
     "text": [
      " 75%|███████▌  | 6/8 [00:00<00:00, 19.61it/s]"
     ]
    },
    {
     "name": "stdout",
     "output_type": "stream",
     "text": [
      "torch.Size([64, 619])\n",
      "torch.Size([64, 619])\n",
      "torch.Size([64, 619])\n",
      "torch.Size([64, 619])\n"
     ]
    },
    {
     "name": "stderr",
     "output_type": "stream",
     "text": [
      "9it [00:00, 19.53it/s]                       \n",
      "2it [00:00, 101.79it/s]              \n",
      "  0%|          | 0/8 [00:00<?, ?it/s]"
     ]
    },
    {
     "name": "stdout",
     "output_type": "stream",
     "text": [
      "torch.Size([64, 619])\n",
      "torch.Size([64, 619])\n",
      "torch.Size([64, 619])\n",
      "Epoch: 019 | Loss: 0.09675 | Tr_c: 0.70770 | Vl_c: 0.54699 | Time: 0.008 min\n",
      "torch.Size([64, 619])\n"
     ]
    },
    {
     "name": "stderr",
     "output_type": "stream",
     "text": [
      " 50%|█████     | 4/8 [00:00<00:00, 19.86it/s]"
     ]
    },
    {
     "name": "stdout",
     "output_type": "stream",
     "text": [
      "torch.Size([64, 619])\n",
      "torch.Size([64, 619])\n",
      "torch.Size([64, 619])\n",
      "torch.Size([64, 619])\n",
      "torch.Size([64, 619])\n"
     ]
    },
    {
     "name": "stderr",
     "output_type": "stream",
     "text": [
      "9it [00:00, 20.07it/s]                       \n",
      "2it [00:00, 99.91it/s]               \n",
      "  0%|          | 0/8 [00:00<?, ?it/s]"
     ]
    },
    {
     "name": "stdout",
     "output_type": "stream",
     "text": [
      "torch.Size([64, 619])\n",
      "torch.Size([64, 619])\n",
      "torch.Size([64, 619])\n",
      "Epoch: 020 | Loss: 0.08890 | Tr_c: 0.74867 | Vl_c: 0.53616 | Time: 0.008 min\n",
      "torch.Size([64, 619])\n"
     ]
    },
    {
     "name": "stderr",
     "output_type": "stream",
     "text": [
      " 50%|█████     | 4/8 [00:00<00:00, 19.74it/s]"
     ]
    },
    {
     "name": "stdout",
     "output_type": "stream",
     "text": [
      "torch.Size([64, 619])\n",
      "torch.Size([64, 619])\n",
      "torch.Size([64, 619])\n",
      "torch.Size([64, 619])\n"
     ]
    },
    {
     "name": "stderr",
     "output_type": "stream",
     "text": [
      "100%|██████████| 8/8 [00:00<00:00, 19.58it/s]"
     ]
    },
    {
     "name": "stdout",
     "output_type": "stream",
     "text": [
      "torch.Size([64, 619])\n",
      "torch.Size([64, 619])\n",
      "torch.Size([64, 619])\n",
      "torch.Size([64, 619])\n"
     ]
    },
    {
     "name": "stderr",
     "output_type": "stream",
     "text": [
      "9it [00:00, 19.39it/s]                       \n",
      "2it [00:00, 92.35it/s]               \n",
      " 38%|███▊      | 3/8 [00:00<00:00, 20.52it/s]"
     ]
    },
    {
     "name": "stdout",
     "output_type": "stream",
     "text": [
      "Epoch: 021 | Loss: 0.08513 | Tr_c: 0.75833 | Vl_c: 0.54946 | Time: 0.008 min\n",
      "torch.Size([64, 619])\n",
      "torch.Size([64, 619])\n",
      "torch.Size([64, 619])\n",
      "torch.Size([64, 619])\n",
      "torch.Size([64, 619])\n"
     ]
    },
    {
     "name": "stderr",
     "output_type": "stream",
     "text": [
      "9it [00:00, 20.39it/s]                       \n",
      "  0%|          | 0/1 [00:00<?, ?it/s]"
     ]
    },
    {
     "name": "stdout",
     "output_type": "stream",
     "text": [
      "torch.Size([64, 619])\n",
      "torch.Size([64, 619])\n",
      "torch.Size([64, 619])\n",
      "torch.Size([64, 619])\n"
     ]
    },
    {
     "name": "stderr",
     "output_type": "stream",
     "text": [
      "2it [00:00, 99.05it/s]               \n",
      " 25%|██▌       | 2/8 [00:00<00:00, 19.75it/s]"
     ]
    },
    {
     "name": "stdout",
     "output_type": "stream",
     "text": [
      "Epoch: 022 | Loss: 0.08087 | Tr_c: 0.76611 | Vl_c: 0.52024 | Time: 0.007 min\n",
      "torch.Size([64, 619])\n",
      "torch.Size([64, 619])\n",
      "torch.Size([64, 619])\n",
      "torch.Size([64, 619])\n"
     ]
    },
    {
     "name": "stderr",
     "output_type": "stream",
     "text": [
      "100%|██████████| 8/8 [00:00<00:00, 19.66it/s]"
     ]
    },
    {
     "name": "stdout",
     "output_type": "stream",
     "text": [
      "torch.Size([64, 619])\n",
      "torch.Size([64, 619])\n",
      "torch.Size([64, 619])\n",
      "torch.Size([64, 619])\n"
     ]
    },
    {
     "name": "stderr",
     "output_type": "stream",
     "text": [
      "9it [00:00, 19.62it/s]                       \n",
      "2it [00:00, 101.18it/s]              \n",
      "  0%|          | 0/8 [00:00<?, ?it/s]"
     ]
    },
    {
     "name": "stdout",
     "output_type": "stream",
     "text": [
      "torch.Size([64, 619])\n",
      "Epoch: 023 | Loss: 0.07761 | Tr_c: 0.77410 | Vl_c: 0.54990 | Time: 0.008 min\n",
      "torch.Size([64, 619])\n",
      "torch.Size([64, 619])\n",
      "torch.Size([64, 619])\n"
     ]
    },
    {
     "name": "stderr",
     "output_type": "stream",
     "text": [
      " 75%|███████▌  | 6/8 [00:00<00:00, 20.35it/s]"
     ]
    },
    {
     "name": "stdout",
     "output_type": "stream",
     "text": [
      "torch.Size([64, 619])\n",
      "torch.Size([64, 619])\n",
      "torch.Size([64, 619])\n",
      "torch.Size([64, 619])\n",
      "torch.Size([64, 619])\n"
     ]
    },
    {
     "name": "stderr",
     "output_type": "stream",
     "text": [
      "9it [00:00, 20.12it/s]                       \n",
      "2it [00:00, 101.41it/s]              \n",
      " 25%|██▌       | 2/8 [00:00<00:00, 19.35it/s]"
     ]
    },
    {
     "name": "stdout",
     "output_type": "stream",
     "text": [
      "torch.Size([64, 619])\n",
      "Epoch: 024 | Loss: 0.07369 | Tr_c: 0.78062 | Vl_c: 0.57742 | Time: 0.008 min\n",
      "torch.Size([64, 619])\n",
      "torch.Size([64, 619])\n",
      "torch.Size([64, 619])\n"
     ]
    },
    {
     "name": "stderr",
     "output_type": "stream",
     "text": [
      " 75%|███████▌  | 6/8 [00:00<00:00, 19.35it/s]"
     ]
    },
    {
     "name": "stdout",
     "output_type": "stream",
     "text": [
      "torch.Size([64, 619])\n",
      "torch.Size([64, 619])\n",
      "torch.Size([64, 619])\n",
      "torch.Size([64, 619])\n"
     ]
    },
    {
     "name": "stderr",
     "output_type": "stream",
     "text": [
      "9it [00:00, 19.28it/s]                       \n",
      "2it [00:00, 100.73it/s]              \n",
      "  0%|          | 0/8 [00:00<?, ?it/s]"
     ]
    },
    {
     "name": "stdout",
     "output_type": "stream",
     "text": [
      "torch.Size([64, 619])\n",
      "torch.Size([64, 619])\n",
      "Epoch: 025 | Loss: 0.07500 | Tr_c: 0.76845 | Vl_c: 0.56198 | Time: 0.008 min\n",
      "torch.Size([64, 619])\n",
      "torch.Size([64, 619])\n"
     ]
    },
    {
     "name": "stderr",
     "output_type": "stream",
     "text": [
      " 62%|██████▎   | 5/8 [00:00<00:00, 20.27it/s]"
     ]
    },
    {
     "name": "stdout",
     "output_type": "stream",
     "text": [
      "torch.Size([64, 619])\n",
      "torch.Size([64, 619])\n",
      "torch.Size([64, 619])\n",
      "torch.Size([64, 619])\n",
      "torch.Size([64, 619])\n"
     ]
    },
    {
     "name": "stderr",
     "output_type": "stream",
     "text": [
      "9it [00:00, 20.11it/s]                       \n",
      "2it [00:00, 99.21it/s]               \n",
      "  0%|          | 0/8 [00:00<?, ?it/s]"
     ]
    },
    {
     "name": "stdout",
     "output_type": "stream",
     "text": [
      "torch.Size([64, 619])\n",
      "torch.Size([64, 619])\n",
      "Epoch: 026 | Loss: 0.07251 | Tr_c: 0.78622 | Vl_c: 0.48506 | Time: 0.008 min\n",
      "torch.Size([64, 619])\n",
      "torch.Size([64, 619])\n"
     ]
    },
    {
     "name": "stderr",
     "output_type": "stream",
     "text": [
      " 50%|█████     | 4/8 [00:00<00:00, 18.99it/s]"
     ]
    },
    {
     "name": "stdout",
     "output_type": "stream",
     "text": [
      "torch.Size([64, 619])\n",
      "torch.Size([64, 619])\n",
      "torch.Size([64, 619])\n",
      "torch.Size([64, 619])\n"
     ]
    },
    {
     "name": "stderr",
     "output_type": "stream",
     "text": [
      "9it [00:00, 19.01it/s]                       \n",
      "2it [00:00, 97.96it/s]               \n",
      "  0%|          | 0/8 [00:00<?, ?it/s]"
     ]
    },
    {
     "name": "stdout",
     "output_type": "stream",
     "text": [
      "torch.Size([64, 619])\n",
      "torch.Size([64, 619])\n",
      "torch.Size([64, 619])\n",
      "Epoch: 027 | Loss: 0.07550 | Tr_c: 0.80028 | Vl_c: 0.58803 | Time: 0.008 min\n",
      "torch.Size([64, 619])\n"
     ]
    },
    {
     "name": "stderr",
     "output_type": "stream",
     "text": [
      "\r",
      " 38%|███▊      | 3/8 [00:00<00:00, 20.49it/s]"
     ]
    },
    {
     "name": "stdout",
     "output_type": "stream",
     "text": [
      "torch.Size([64, 619])\n",
      "torch.Size([64, 619])\n",
      "torch.Size([64, 619])\n",
      "torch.Size([64, 619])\n",
      "torch.Size([64, 619])\n"
     ]
    },
    {
     "name": "stderr",
     "output_type": "stream",
     "text": [
      "9it [00:00, 20.33it/s]                       \n",
      "2it [00:00, 100.20it/s]              \n",
      "  0%|          | 0/8 [00:00<?, ?it/s]"
     ]
    },
    {
     "name": "stdout",
     "output_type": "stream",
     "text": [
      "torch.Size([64, 619])\n",
      "torch.Size([64, 619])\n",
      "torch.Size([64, 619])\n",
      "Epoch: 028 | Loss: 0.06741 | Tr_c: 0.78899 | Vl_c: 0.58475 | Time: 0.007 min\n",
      "torch.Size([64, 619])\n"
     ]
    },
    {
     "name": "stderr",
     "output_type": "stream",
     "text": [
      " 50%|█████     | 4/8 [00:00<00:00, 19.43it/s]"
     ]
    },
    {
     "name": "stdout",
     "output_type": "stream",
     "text": [
      "torch.Size([64, 619])\n",
      "torch.Size([64, 619])\n",
      "torch.Size([64, 619])\n",
      "torch.Size([64, 619])\n"
     ]
    },
    {
     "name": "stderr",
     "output_type": "stream",
     "text": [
      "100%|██████████| 8/8 [00:00<00:00, 19.38it/s]"
     ]
    },
    {
     "name": "stdout",
     "output_type": "stream",
     "text": [
      "torch.Size([64, 619])\n",
      "torch.Size([64, 619])\n",
      "torch.Size([64, 619])\n",
      "torch.Size([64, 619])\n"
     ]
    },
    {
     "name": "stderr",
     "output_type": "stream",
     "text": [
      "9it [00:00, 19.33it/s]                       \n",
      "2it [00:00, 96.82it/s]               \n",
      " 38%|███▊      | 3/8 [00:00<00:00, 20.54it/s]"
     ]
    },
    {
     "name": "stdout",
     "output_type": "stream",
     "text": [
      "Epoch: 029 | Loss: 0.06827 | Tr_c: 0.80980 | Vl_c: 0.52735 | Time: 0.008 min\n",
      "torch.Size([64, 619])\n",
      "torch.Size([64, 619])\n",
      "torch.Size([64, 619])\n",
      "torch.Size([64, 619])\n",
      "torch.Size([64, 619])\n"
     ]
    },
    {
     "name": "stderr",
     "output_type": "stream",
     "text": [
      "9it [00:00, 20.36it/s]                       \n",
      "  0%|          | 0/1 [00:00<?, ?it/s]"
     ]
    },
    {
     "name": "stdout",
     "output_type": "stream",
     "text": [
      "torch.Size([64, 619])\n",
      "torch.Size([64, 619])\n",
      "torch.Size([64, 619])\n",
      "torch.Size([64, 619])\n"
     ]
    },
    {
     "name": "stderr",
     "output_type": "stream",
     "text": [
      "2it [00:00, 100.53it/s]              \n",
      " 25%|██▌       | 2/8 [00:00<00:00, 19.61it/s]"
     ]
    },
    {
     "name": "stdout",
     "output_type": "stream",
     "text": [
      "Epoch: 030 | Loss: 0.06730 | Tr_c: 0.82078 | Vl_c: 0.51542 | Time: 0.007 min\n",
      "torch.Size([64, 619])\n",
      "torch.Size([64, 619])\n",
      "torch.Size([64, 619])\n",
      "torch.Size([64, 619])\n"
     ]
    },
    {
     "name": "stderr",
     "output_type": "stream",
     "text": [
      " 75%|███████▌  | 6/8 [00:00<00:00, 19.48it/s]"
     ]
    },
    {
     "name": "stdout",
     "output_type": "stream",
     "text": [
      "torch.Size([64, 619])\n",
      "torch.Size([64, 619])\n",
      "torch.Size([64, 619])\n",
      "torch.Size([64, 619])\n"
     ]
    },
    {
     "name": "stderr",
     "output_type": "stream",
     "text": [
      "9it [00:00, 19.36it/s]                       \n",
      "2it [00:00, 94.14it/s]               \n",
      " 25%|██▌       | 2/8 [00:00<00:00, 19.93it/s]"
     ]
    },
    {
     "name": "stdout",
     "output_type": "stream",
     "text": [
      "torch.Size([64, 619])\n",
      "Epoch: 031 | Loss: 0.06721 | Tr_c: 0.80358 | Vl_c: 0.62173 | Time: 0.008 min\n",
      "torch.Size([64, 619])\n",
      "torch.Size([64, 619])\n",
      "torch.Size([64, 619])\n"
     ]
    },
    {
     "name": "stderr",
     "output_type": "stream",
     "text": [
      "\r",
      " 62%|██████▎   | 5/8 [00:00<00:00, 20.03it/s]"
     ]
    },
    {
     "name": "stdout",
     "output_type": "stream",
     "text": [
      "torch.Size([64, 619])\n",
      "torch.Size([64, 619])\n",
      "torch.Size([64, 619])\n",
      "torch.Size([64, 619])\n",
      "torch.Size([64, 619])\n"
     ]
    },
    {
     "name": "stderr",
     "output_type": "stream",
     "text": [
      "9it [00:00, 20.16it/s]                       \n",
      "2it [00:00, 98.67it/s]               \n",
      " 25%|██▌       | 2/8 [00:00<00:00, 19.20it/s]"
     ]
    },
    {
     "name": "stdout",
     "output_type": "stream",
     "text": [
      "torch.Size([64, 619])\n",
      "Epoch: 032 | Loss: 0.06069 | Tr_c: 0.82655 | Vl_c: 0.59433 | Time: 0.008 min\n",
      "torch.Size([64, 619])\n",
      "torch.Size([64, 619])\n",
      "torch.Size([64, 619])\n"
     ]
    },
    {
     "name": "stderr",
     "output_type": "stream",
     "text": [
      " 75%|███████▌  | 6/8 [00:00<00:00, 19.22it/s]"
     ]
    },
    {
     "name": "stdout",
     "output_type": "stream",
     "text": [
      "torch.Size([64, 619])\n",
      "torch.Size([64, 619])\n",
      "torch.Size([64, 619])\n",
      "torch.Size([64, 619])\n"
     ]
    },
    {
     "name": "stderr",
     "output_type": "stream",
     "text": [
      "9it [00:00, 19.15it/s]                       \n",
      "2it [00:00, 98.55it/s]               \n",
      "  0%|          | 0/8 [00:00<?, ?it/s]"
     ]
    },
    {
     "name": "stdout",
     "output_type": "stream",
     "text": [
      "torch.Size([64, 619])\n",
      "torch.Size([64, 619])\n",
      "Epoch: 033 | Loss: 0.05816 | Tr_c: 0.82744 | Vl_c: 0.55782 | Time: 0.008 min\n",
      "torch.Size([64, 619])\n",
      "torch.Size([64, 619])\n"
     ]
    },
    {
     "name": "stderr",
     "output_type": "stream",
     "text": [
      " 75%|███████▌  | 6/8 [00:00<00:00, 20.22it/s]"
     ]
    },
    {
     "name": "stdout",
     "output_type": "stream",
     "text": [
      "torch.Size([64, 619])\n",
      "torch.Size([64, 619])\n",
      "torch.Size([64, 619])\n",
      "torch.Size([64, 619])\n",
      "torch.Size([64, 619])\n"
     ]
    },
    {
     "name": "stderr",
     "output_type": "stream",
     "text": [
      "9it [00:00, 20.04it/s]                       \n",
      "2it [00:00, 93.27it/s]               \n",
      "  0%|          | 0/8 [00:00<?, ?it/s]"
     ]
    },
    {
     "name": "stdout",
     "output_type": "stream",
     "text": [
      "torch.Size([64, 619])\n",
      "torch.Size([64, 619])\n",
      "Epoch: 034 | Loss: 0.05337 | Tr_c: 0.84999 | Vl_c: 0.60166 | Time: 0.008 min\n",
      "torch.Size([64, 619])\n",
      "torch.Size([64, 619])\n"
     ]
    },
    {
     "name": "stderr",
     "output_type": "stream",
     "text": [
      " 50%|█████     | 4/8 [00:00<00:00, 19.36it/s]"
     ]
    },
    {
     "name": "stdout",
     "output_type": "stream",
     "text": [
      "torch.Size([64, 619])\n",
      "torch.Size([64, 619])\n",
      "torch.Size([64, 619])\n",
      "torch.Size([64, 619])\n"
     ]
    },
    {
     "name": "stderr",
     "output_type": "stream",
     "text": [
      "9it [00:00, 19.06it/s]                       \n",
      "2it [00:00, 91.42it/s]               \n",
      "  0%|          | 0/8 [00:00<?, ?it/s]"
     ]
    },
    {
     "name": "stdout",
     "output_type": "stream",
     "text": [
      "torch.Size([64, 619])\n",
      "torch.Size([64, 619])\n",
      "torch.Size([64, 619])\n",
      "Epoch: 035 | Loss: 0.04941 | Tr_c: 0.85058 | Vl_c: 0.60560 | Time: 0.008 min\n",
      "torch.Size([64, 619])\n"
     ]
    },
    {
     "name": "stderr",
     "output_type": "stream",
     "text": [
      " 50%|█████     | 4/8 [00:00<00:00, 19.77it/s]"
     ]
    },
    {
     "name": "stdout",
     "output_type": "stream",
     "text": [
      "torch.Size([64, 619])\n",
      "torch.Size([64, 619])\n",
      "torch.Size([64, 619])\n",
      "torch.Size([64, 619])\n",
      "torch.Size([64, 619])\n"
     ]
    },
    {
     "name": "stderr",
     "output_type": "stream",
     "text": [
      "9it [00:00, 20.04it/s]                       \n",
      "2it [00:00, 100.27it/s]              \n",
      "  0%|          | 0/8 [00:00<?, ?it/s]"
     ]
    },
    {
     "name": "stdout",
     "output_type": "stream",
     "text": [
      "torch.Size([64, 619])\n",
      "torch.Size([64, 619])\n",
      "torch.Size([64, 619])\n",
      "Epoch: 036 | Loss: 0.04640 | Tr_c: 0.87295 | Vl_c: 0.59422 | Time: 0.008 min\n",
      "torch.Size([64, 619])\n"
     ]
    },
    {
     "name": "stderr",
     "output_type": "stream",
     "text": [
      " 50%|█████     | 4/8 [00:00<00:00, 18.98it/s]"
     ]
    },
    {
     "name": "stdout",
     "output_type": "stream",
     "text": [
      "torch.Size([64, 619])\n",
      "torch.Size([64, 619])\n",
      "torch.Size([64, 619])\n",
      "torch.Size([64, 619])\n"
     ]
    },
    {
     "name": "stderr",
     "output_type": "stream",
     "text": [
      "100%|██████████| 8/8 [00:00<00:00, 19.19it/s]"
     ]
    },
    {
     "name": "stdout",
     "output_type": "stream",
     "text": [
      "torch.Size([64, 619])\n",
      "torch.Size([64, 619])\n",
      "torch.Size([64, 619])\n",
      "torch.Size([64, 619])\n"
     ]
    },
    {
     "name": "stderr",
     "output_type": "stream",
     "text": [
      "9it [00:00, 19.11it/s]                       \n",
      "2it [00:00, 100.37it/s]              \n",
      " 38%|███▊      | 3/8 [00:00<00:00, 20.36it/s]"
     ]
    },
    {
     "name": "stdout",
     "output_type": "stream",
     "text": [
      "Epoch: 037 | Loss: 0.04512 | Tr_c: 0.87776 | Vl_c: 0.63864 | Time: 0.008 min\n",
      "torch.Size([64, 619])\n",
      "torch.Size([64, 619])\n",
      "torch.Size([64, 619])\n",
      "torch.Size([64, 619])\n"
     ]
    },
    {
     "name": "stderr",
     "output_type": "stream",
     "text": [
      " 88%|████████▊ | 7/8 [00:00<00:00, 19.90it/s]"
     ]
    },
    {
     "name": "stdout",
     "output_type": "stream",
     "text": [
      "torch.Size([64, 619])\n",
      "torch.Size([64, 619])\n",
      "torch.Size([64, 619])\n",
      "torch.Size([64, 619])\n"
     ]
    },
    {
     "name": "stderr",
     "output_type": "stream",
     "text": [
      "9it [00:00, 19.80it/s]                       \n",
      "2it [00:00, 97.89it/s]               \n",
      " 25%|██▌       | 2/8 [00:00<00:00, 19.22it/s]"
     ]
    },
    {
     "name": "stdout",
     "output_type": "stream",
     "text": [
      "torch.Size([64, 619])\n",
      "Epoch: 038 | Loss: 0.04318 | Tr_c: 0.87626 | Vl_c: 0.61993 | Time: 0.008 min\n",
      "torch.Size([64, 619])\n",
      "torch.Size([64, 619])\n",
      "torch.Size([64, 619])\n"
     ]
    },
    {
     "name": "stderr",
     "output_type": "stream",
     "text": [
      " 75%|███████▌  | 6/8 [00:00<00:00, 19.23it/s]"
     ]
    },
    {
     "name": "stdout",
     "output_type": "stream",
     "text": [
      "torch.Size([64, 619])\n",
      "torch.Size([64, 619])\n",
      "torch.Size([64, 619])\n",
      "torch.Size([64, 619])\n"
     ]
    },
    {
     "name": "stderr",
     "output_type": "stream",
     "text": [
      "9it [00:00, 19.10it/s]                       \n",
      "2it [00:00, 93.40it/s]               \n",
      "  0%|          | 0/8 [00:00<?, ?it/s]"
     ]
    },
    {
     "name": "stdout",
     "output_type": "stream",
     "text": [
      "torch.Size([64, 619])\n",
      "torch.Size([64, 619])\n",
      "Epoch: 039 | Loss: 0.04171 | Tr_c: 0.88562 | Vl_c: 0.59580 | Time: 0.008 min\n",
      "torch.Size([64, 619])\n",
      "torch.Size([64, 619])\n"
     ]
    },
    {
     "name": "stderr",
     "output_type": "stream",
     "text": [
      " 62%|██████▎   | 5/8 [00:00<00:00, 19.90it/s]"
     ]
    },
    {
     "name": "stdout",
     "output_type": "stream",
     "text": [
      "torch.Size([64, 619])\n",
      "torch.Size([64, 619])\n",
      "torch.Size([64, 619])\n",
      "torch.Size([64, 619])\n",
      "torch.Size([64, 619])\n"
     ]
    },
    {
     "name": "stderr",
     "output_type": "stream",
     "text": [
      "9it [00:00, 20.06it/s]                       \n",
      "2it [00:00, 99.21it/s]               \n",
      "  0%|          | 0/8 [00:00<?, ?it/s]"
     ]
    },
    {
     "name": "stdout",
     "output_type": "stream",
     "text": [
      "torch.Size([64, 619])\n",
      "torch.Size([64, 619])\n",
      "Epoch: 040 | Loss: 0.04149 | Tr_c: 0.88609 | Vl_c: 0.60718 | Time: 0.008 min\n",
      "torch.Size([64, 619])\n",
      "torch.Size([64, 619])\n"
     ]
    },
    {
     "name": "stderr",
     "output_type": "stream",
     "text": [
      " 50%|█████     | 4/8 [00:00<00:00, 19.16it/s]"
     ]
    },
    {
     "name": "stdout",
     "output_type": "stream",
     "text": [
      "torch.Size([64, 619])\n",
      "torch.Size([64, 619])\n",
      "torch.Size([64, 619])\n",
      "torch.Size([64, 619])\n"
     ]
    },
    {
     "name": "stderr",
     "output_type": "stream",
     "text": [
      "9it [00:00, 19.26it/s]                       \n",
      "2it [00:00, 100.70it/s]              \n",
      "  0%|          | 0/8 [00:00<?, ?it/s]"
     ]
    },
    {
     "name": "stdout",
     "output_type": "stream",
     "text": [
      "torch.Size([64, 619])\n",
      "torch.Size([64, 619])\n",
      "torch.Size([64, 619])\n",
      "Epoch: 041 | Loss: 0.04135 | Tr_c: 0.88314 | Vl_c: 0.61846 | Time: 0.008 min\n",
      "torch.Size([64, 619])\n"
     ]
    },
    {
     "name": "stderr",
     "output_type": "stream",
     "text": [
      "\r",
      " 38%|███▊      | 3/8 [00:00<00:00, 20.38it/s]"
     ]
    },
    {
     "name": "stdout",
     "output_type": "stream",
     "text": [
      "torch.Size([64, 619])\n",
      "torch.Size([64, 619])\n",
      "torch.Size([64, 619])\n",
      "torch.Size([64, 619])\n",
      "torch.Size([64, 619])\n"
     ]
    },
    {
     "name": "stderr",
     "output_type": "stream",
     "text": [
      "9it [00:00, 20.29it/s]                       \n",
      "2it [00:00, 100.97it/s]              \n",
      "  0%|          | 0/8 [00:00<?, ?it/s]"
     ]
    },
    {
     "name": "stdout",
     "output_type": "stream",
     "text": [
      "torch.Size([64, 619])\n",
      "torch.Size([64, 619])\n",
      "torch.Size([64, 619])\n",
      "Epoch: 042 | Loss: 0.03831 | Tr_c: 0.89783 | Vl_c: 0.59805 | Time: 0.007 min\n",
      "torch.Size([64, 619])\n"
     ]
    },
    {
     "name": "stderr",
     "output_type": "stream",
     "text": [
      " 50%|█████     | 4/8 [00:00<00:00, 19.49it/s]"
     ]
    },
    {
     "name": "stdout",
     "output_type": "stream",
     "text": [
      "torch.Size([64, 619])\n",
      "torch.Size([64, 619])\n",
      "torch.Size([64, 619])\n",
      "torch.Size([64, 619])\n"
     ]
    },
    {
     "name": "stderr",
     "output_type": "stream",
     "text": [
      "100%|██████████| 8/8 [00:00<00:00, 19.36it/s]"
     ]
    },
    {
     "name": "stdout",
     "output_type": "stream",
     "text": [
      "torch.Size([64, 619])\n",
      "torch.Size([64, 619])\n",
      "torch.Size([64, 619])\n",
      "torch.Size([64, 619])\n"
     ]
    },
    {
     "name": "stderr",
     "output_type": "stream",
     "text": [
      "9it [00:00, 19.27it/s]                       \n",
      "2it [00:00, 101.21it/s]              \n",
      " 25%|██▌       | 2/8 [00:00<00:00, 19.85it/s]"
     ]
    },
    {
     "name": "stdout",
     "output_type": "stream",
     "text": [
      "Epoch: 043 | Loss: 0.03761 | Tr_c: 0.90028 | Vl_c: 0.60133 | Time: 0.008 min\n",
      "torch.Size([64, 619])\n",
      "torch.Size([64, 619])\n",
      "torch.Size([64, 619])\n",
      "torch.Size([64, 619])\n"
     ]
    },
    {
     "name": "stderr",
     "output_type": "stream",
     "text": [
      " 88%|████████▊ | 7/8 [00:00<00:00, 19.92it/s]"
     ]
    },
    {
     "name": "stdout",
     "output_type": "stream",
     "text": [
      "torch.Size([64, 619])\n",
      "torch.Size([64, 619])\n",
      "torch.Size([64, 619])\n",
      "torch.Size([64, 619])\n",
      "torch.Size([64, 619])\n"
     ]
    },
    {
     "name": "stderr",
     "output_type": "stream",
     "text": [
      "9it [00:00, 19.99it/s]                       \n",
      "2it [00:00, 96.49it/s]               \n",
      " 25%|██▌       | 2/8 [00:00<00:00, 19.33it/s]"
     ]
    },
    {
     "name": "stdout",
     "output_type": "stream",
     "text": [
      "Epoch: 044 | Loss: 0.03702 | Tr_c: 0.89719 | Vl_c: 0.63087 | Time: 0.008 min\n",
      "torch.Size([64, 619])\n",
      "torch.Size([64, 619])\n",
      "torch.Size([64, 619])\n",
      "torch.Size([64, 619])\n"
     ]
    },
    {
     "name": "stderr",
     "output_type": "stream",
     "text": [
      " 75%|███████▌  | 6/8 [00:00<00:00, 19.36it/s]"
     ]
    },
    {
     "name": "stdout",
     "output_type": "stream",
     "text": [
      "torch.Size([64, 619])\n",
      "torch.Size([64, 619])\n",
      "torch.Size([64, 619])\n",
      "torch.Size([64, 619])\n"
     ]
    },
    {
     "name": "stderr",
     "output_type": "stream",
     "text": [
      "9it [00:00, 19.18it/s]                       \n",
      "2it [00:00, 99.93it/s]               \n",
      "  0%|          | 0/8 [00:00<?, ?it/s]"
     ]
    },
    {
     "name": "stdout",
     "output_type": "stream",
     "text": [
      "torch.Size([64, 619])\n",
      "Epoch: 045 | Loss: 0.03608 | Tr_c: 0.90819 | Vl_c: 0.61238 | Time: 0.008 min\n",
      "torch.Size([64, 619])\n",
      "torch.Size([64, 619])\n",
      "torch.Size([64, 619])\n"
     ]
    },
    {
     "name": "stderr",
     "output_type": "stream",
     "text": [
      " 75%|███████▌  | 6/8 [00:00<00:00, 20.20it/s]"
     ]
    },
    {
     "name": "stdout",
     "output_type": "stream",
     "text": [
      "torch.Size([64, 619])\n",
      "torch.Size([64, 619])\n",
      "torch.Size([64, 619])\n",
      "torch.Size([64, 619])\n",
      "torch.Size([64, 619])\n"
     ]
    },
    {
     "name": "stderr",
     "output_type": "stream",
     "text": [
      "9it [00:00, 20.20it/s]                       \n",
      "2it [00:00, 98.00it/s]               \n",
      " 25%|██▌       | 2/8 [00:00<00:00, 19.62it/s]"
     ]
    },
    {
     "name": "stdout",
     "output_type": "stream",
     "text": [
      "torch.Size([64, 619])\n",
      "Epoch: 046 | Loss: 0.03477 | Tr_c: 0.90391 | Vl_c: 0.61024 | Time: 0.008 min\n",
      "torch.Size([64, 619])\n",
      "torch.Size([64, 619])\n",
      "torch.Size([64, 619])\n"
     ]
    },
    {
     "name": "stderr",
     "output_type": "stream",
     "text": [
      " 75%|███████▌  | 6/8 [00:00<00:00, 19.52it/s]"
     ]
    },
    {
     "name": "stdout",
     "output_type": "stream",
     "text": [
      "torch.Size([64, 619])\n",
      "torch.Size([64, 619])\n",
      "torch.Size([64, 619])\n",
      "torch.Size([64, 619])\n"
     ]
    },
    {
     "name": "stderr",
     "output_type": "stream",
     "text": [
      "9it [00:00, 19.40it/s]                       \n",
      "2it [00:00, 95.18it/s]               \n",
      "  0%|          | 0/8 [00:00<?, ?it/s]"
     ]
    },
    {
     "name": "stdout",
     "output_type": "stream",
     "text": [
      "torch.Size([64, 619])\n",
      "torch.Size([64, 619])\n",
      "Epoch: 047 | Loss: 0.03445 | Tr_c: 0.91525 | Vl_c: 0.61610 | Time: 0.008 min\n",
      "torch.Size([64, 619])\n",
      "torch.Size([64, 619])\n"
     ]
    },
    {
     "name": "stderr",
     "output_type": "stream",
     "text": [
      " 75%|███████▌  | 6/8 [00:00<00:00, 20.44it/s]"
     ]
    },
    {
     "name": "stdout",
     "output_type": "stream",
     "text": [
      "torch.Size([64, 619])\n",
      "torch.Size([64, 619])\n",
      "torch.Size([64, 619])\n",
      "torch.Size([64, 619])\n"
     ]
    },
    {
     "name": "stderr",
     "output_type": "stream",
     "text": [
      "9it [00:00, 20.00it/s]                       \n",
      "2it [00:00, 98.49it/s]               \n",
      "  0%|          | 0/8 [00:00<?, ?it/s]"
     ]
    },
    {
     "name": "stdout",
     "output_type": "stream",
     "text": [
      "torch.Size([64, 619])\n",
      "torch.Size([64, 619])\n",
      "torch.Size([64, 619])\n",
      "Epoch: 048 | Loss: 0.03303 | Tr_c: 0.91415 | Vl_c: 0.64575 | Time: 0.008 min\n",
      "torch.Size([64, 619])\n"
     ]
    },
    {
     "name": "stderr",
     "output_type": "stream",
     "text": [
      " 50%|█████     | 4/8 [00:00<00:00, 18.96it/s]"
     ]
    },
    {
     "name": "stdout",
     "output_type": "stream",
     "text": [
      "torch.Size([64, 619])\n",
      "torch.Size([64, 619])\n",
      "torch.Size([64, 619])\n",
      "torch.Size([64, 619])\n"
     ]
    },
    {
     "name": "stderr",
     "output_type": "stream",
     "text": [
      "100%|██████████| 8/8 [00:00<00:00, 19.07it/s]"
     ]
    },
    {
     "name": "stdout",
     "output_type": "stream",
     "text": [
      "torch.Size([64, 619])\n",
      "torch.Size([64, 619])\n",
      "torch.Size([64, 619])\n",
      "torch.Size([64, 619])\n"
     ]
    },
    {
     "name": "stderr",
     "output_type": "stream",
     "text": [
      "9it [00:00, 18.95it/s]                       \n",
      "2it [00:00, 90.71it/s]               \n",
      " 38%|███▊      | 3/8 [00:00<00:00, 20.39it/s]"
     ]
    },
    {
     "name": "stdout",
     "output_type": "stream",
     "text": [
      "Epoch: 049 | Loss: 0.03091 | Tr_c: 0.92212 | Vl_c: 0.63245 | Time: 0.008 min\n",
      "torch.Size([64, 619])\n",
      "torch.Size([64, 619])\n",
      "torch.Size([64, 619])\n",
      "torch.Size([64, 619])\n"
     ]
    },
    {
     "name": "stderr",
     "output_type": "stream",
     "text": [
      "100%|██████████| 8/8 [00:00<00:00, 20.18it/s]"
     ]
    },
    {
     "name": "stdout",
     "output_type": "stream",
     "text": [
      "torch.Size([64, 619])\n",
      "torch.Size([64, 619])\n",
      "torch.Size([64, 619])\n",
      "torch.Size([64, 619])\n"
     ]
    },
    {
     "name": "stderr",
     "output_type": "stream",
     "text": [
      "9it [00:00, 19.79it/s]                       \n",
      "2it [00:00, 87.97it/s]               \n",
      " 25%|██▌       | 2/8 [00:00<00:00, 19.09it/s]"
     ]
    },
    {
     "name": "stdout",
     "output_type": "stream",
     "text": [
      "torch.Size([64, 619])\n",
      "Epoch: 050 | Loss: 0.03145 | Tr_c: 0.92093 | Vl_c: 0.61577 | Time: 0.008 min\n",
      "torch.Size([64, 619])\n",
      "torch.Size([64, 619])\n",
      "torch.Size([64, 619])\n"
     ]
    },
    {
     "name": "stderr",
     "output_type": "stream",
     "text": [
      " 75%|███████▌  | 6/8 [00:00<00:00, 19.20it/s]"
     ]
    },
    {
     "name": "stdout",
     "output_type": "stream",
     "text": [
      "torch.Size([64, 619])\n",
      "torch.Size([64, 619])\n",
      "torch.Size([64, 619])\n",
      "torch.Size([64, 619])\n"
     ]
    },
    {
     "name": "stderr",
     "output_type": "stream",
     "text": [
      "9it [00:00, 19.21it/s]                       \n",
      "2it [00:00, 95.22it/s]               \n",
      "  0%|          | 0/8 [00:00<?, ?it/s]"
     ]
    },
    {
     "name": "stdout",
     "output_type": "stream",
     "text": [
      "torch.Size([64, 619])\n",
      "torch.Size([64, 619])\n",
      "Epoch: 051 | Loss: 0.03280 | Tr_c: 0.91620 | Vl_c: 0.64947 | Time: 0.008 min\n",
      "torch.Size([64, 619])\n",
      "torch.Size([64, 619])\n"
     ]
    },
    {
     "name": "stderr",
     "output_type": "stream",
     "text": [
      " 75%|███████▌  | 6/8 [00:00<00:00, 20.24it/s]"
     ]
    },
    {
     "name": "stdout",
     "output_type": "stream",
     "text": [
      "torch.Size([64, 619])\n",
      "torch.Size([64, 619])\n",
      "torch.Size([64, 619])\n",
      "torch.Size([64, 619])\n",
      "torch.Size([64, 619])\n"
     ]
    },
    {
     "name": "stderr",
     "output_type": "stream",
     "text": [
      "9it [00:00, 20.02it/s]                       \n",
      "2it [00:00, 100.17it/s]              \n",
      "  0%|          | 0/8 [00:00<?, ?it/s]"
     ]
    },
    {
     "name": "stdout",
     "output_type": "stream",
     "text": [
      "torch.Size([64, 619])\n",
      "torch.Size([64, 619])\n",
      "Epoch: 052 | Loss: 0.03236 | Tr_c: 0.92527 | Vl_c: 0.62162 | Time: 0.008 min\n",
      "torch.Size([64, 619])\n",
      "torch.Size([64, 619])\n"
     ]
    },
    {
     "name": "stderr",
     "output_type": "stream",
     "text": [
      " 50%|█████     | 4/8 [00:00<00:00, 19.36it/s]"
     ]
    },
    {
     "name": "stdout",
     "output_type": "stream",
     "text": [
      "torch.Size([64, 619])\n",
      "torch.Size([64, 619])\n",
      "torch.Size([64, 619])\n",
      "torch.Size([64, 619])\n"
     ]
    },
    {
     "name": "stderr",
     "output_type": "stream",
     "text": [
      "9it [00:00, 19.22it/s]                       \n",
      "2it [00:00, 91.55it/s]               \n",
      "  0%|          | 0/8 [00:00<?, ?it/s]"
     ]
    },
    {
     "name": "stdout",
     "output_type": "stream",
     "text": [
      "torch.Size([64, 619])\n",
      "torch.Size([64, 619])\n",
      "torch.Size([64, 619])\n",
      "Epoch: 053 | Loss: 0.02913 | Tr_c: 0.92996 | Vl_c: 0.60258 | Time: 0.008 min\n",
      "torch.Size([64, 619])\n"
     ]
    },
    {
     "name": "stderr",
     "output_type": "stream",
     "text": [
      "\r",
      " 38%|███▊      | 3/8 [00:00<00:00, 20.36it/s]"
     ]
    },
    {
     "name": "stdout",
     "output_type": "stream",
     "text": [
      "torch.Size([64, 619])\n",
      "torch.Size([64, 619])\n",
      "torch.Size([64, 619])\n",
      "torch.Size([64, 619])\n",
      "torch.Size([64, 619])\n"
     ]
    },
    {
     "name": "stderr",
     "output_type": "stream",
     "text": [
      "9it [00:00, 20.10it/s]                       \n",
      "2it [00:00, 98.61it/s]               \n",
      "  0%|          | 0/8 [00:00<?, ?it/s]"
     ]
    },
    {
     "name": "stdout",
     "output_type": "stream",
     "text": [
      "torch.Size([64, 619])\n",
      "torch.Size([64, 619])\n",
      "torch.Size([64, 619])\n",
      "Epoch: 054 | Loss: 0.02975 | Tr_c: 0.92690 | Vl_c: 0.66211 | Time: 0.008 min\n",
      "torch.Size([64, 619])\n"
     ]
    },
    {
     "name": "stderr",
     "output_type": "stream",
     "text": [
      " 50%|█████     | 4/8 [00:00<00:00, 19.29it/s]"
     ]
    },
    {
     "name": "stdout",
     "output_type": "stream",
     "text": [
      "torch.Size([64, 619])\n",
      "torch.Size([64, 619])\n",
      "torch.Size([64, 619])\n",
      "torch.Size([64, 619])\n"
     ]
    },
    {
     "name": "stderr",
     "output_type": "stream",
     "text": [
      "100%|██████████| 8/8 [00:00<00:00, 19.19it/s]"
     ]
    },
    {
     "name": "stdout",
     "output_type": "stream",
     "text": [
      "torch.Size([64, 619])\n",
      "torch.Size([64, 619])\n",
      "torch.Size([64, 619])\n",
      "torch.Size([64, 619])\n"
     ]
    },
    {
     "name": "stderr",
     "output_type": "stream",
     "text": [
      "9it [00:00, 19.17it/s]                       \n",
      "2it [00:00, 99.05it/s]               \n",
      " 38%|███▊      | 3/8 [00:00<00:00, 20.44it/s]"
     ]
    },
    {
     "name": "stdout",
     "output_type": "stream",
     "text": [
      "Epoch: 055 | Loss: 0.02908 | Tr_c: 0.93207 | Vl_c: 0.62512 | Time: 0.008 min\n",
      "torch.Size([64, 619])\n",
      "torch.Size([64, 619])\n",
      "torch.Size([64, 619])\n",
      "torch.Size([64, 619])\n"
     ]
    },
    {
     "name": "stderr",
     "output_type": "stream",
     "text": [
      "100%|██████████| 8/8 [00:00<00:00, 20.20it/s]"
     ]
    },
    {
     "name": "stdout",
     "output_type": "stream",
     "text": [
      "torch.Size([64, 619])\n",
      "torch.Size([64, 619])\n",
      "torch.Size([64, 619])\n",
      "torch.Size([64, 619])\n"
     ]
    },
    {
     "name": "stderr",
     "output_type": "stream",
     "text": [
      "9it [00:00, 19.97it/s]                       \n",
      "2it [00:00, 100.05it/s]              \n",
      " 25%|██▌       | 2/8 [00:00<00:00, 19.26it/s]"
     ]
    },
    {
     "name": "stdout",
     "output_type": "stream",
     "text": [
      "torch.Size([64, 619])\n",
      "Epoch: 056 | Loss: 0.02616 | Tr_c: 0.94532 | Vl_c: 0.61779 | Time: 0.008 min\n",
      "torch.Size([64, 619])\n",
      "torch.Size([64, 619])\n",
      "torch.Size([64, 619])\n"
     ]
    },
    {
     "name": "stderr",
     "output_type": "stream",
     "text": [
      " 75%|███████▌  | 6/8 [00:00<00:00, 19.29it/s]"
     ]
    },
    {
     "name": "stdout",
     "output_type": "stream",
     "text": [
      "torch.Size([64, 619])\n",
      "torch.Size([64, 619])\n",
      "torch.Size([64, 619])\n",
      "torch.Size([64, 619])\n"
     ]
    },
    {
     "name": "stderr",
     "output_type": "stream",
     "text": [
      "9it [00:00, 19.19it/s]                       \n",
      "2it [00:00, 97.43it/s]               \n",
      "  0%|          | 0/8 [00:00<?, ?it/s]"
     ]
    },
    {
     "name": "stdout",
     "output_type": "stream",
     "text": [
      "torch.Size([64, 619])\n",
      "torch.Size([64, 619])\n",
      "Epoch: 057 | Loss: 0.02422 | Tr_c: 0.94815 | Vl_c: 0.63978 | Time: 0.008 min\n",
      "torch.Size([64, 619])\n",
      "torch.Size([64, 619])\n"
     ]
    },
    {
     "name": "stderr",
     "output_type": "stream",
     "text": [
      " 75%|███████▌  | 6/8 [00:00<00:00, 19.58it/s]"
     ]
    },
    {
     "name": "stdout",
     "output_type": "stream",
     "text": [
      "torch.Size([64, 619])\n",
      "torch.Size([64, 619])\n",
      "torch.Size([64, 619])\n",
      "torch.Size([64, 619])\n",
      "torch.Size([64, 619])\n"
     ]
    },
    {
     "name": "stderr",
     "output_type": "stream",
     "text": [
      "9it [00:00, 19.74it/s]                       \n",
      "2it [00:00, 98.16it/s]               \n",
      "  0%|          | 0/8 [00:00<?, ?it/s]"
     ]
    },
    {
     "name": "stdout",
     "output_type": "stream",
     "text": [
      "torch.Size([64, 619])\n",
      "torch.Size([64, 619])\n",
      "Epoch: 058 | Loss: 0.02341 | Tr_c: 0.94392 | Vl_c: 0.63245 | Time: 0.008 min\n",
      "torch.Size([64, 619])\n",
      "torch.Size([64, 619])\n"
     ]
    },
    {
     "name": "stderr",
     "output_type": "stream",
     "text": [
      " 50%|█████     | 4/8 [00:00<00:00, 19.26it/s]"
     ]
    },
    {
     "name": "stdout",
     "output_type": "stream",
     "text": [
      "torch.Size([64, 619])\n",
      "torch.Size([64, 619])\n",
      "torch.Size([64, 619])\n",
      "torch.Size([64, 619])\n"
     ]
    },
    {
     "name": "stderr",
     "output_type": "stream",
     "text": [
      "9it [00:00, 19.28it/s]                       \n",
      "2it [00:00, 100.59it/s]              "
     ]
    },
    {
     "name": "stdout",
     "output_type": "stream",
     "text": [
      "torch.Size([64, 619])\n",
      "torch.Size([64, 619])\n",
      "torch.Size([64, 619])\n",
      "Epoch: 059 | Loss: 0.02371 | Tr_c: 0.94644 | Vl_c: 0.63120 | Time: 0.008 min\n"
     ]
    },
    {
     "name": "stderr",
     "output_type": "stream",
     "text": [
      "\n"
     ]
    }
   ],
   "source": [
    "traces = simplest_loop(epochs= 60,\n",
    "                  train_data_iter=train_fact_iter,\n",
    "                  valid_data_iter=valid_fact_iter,\n",
    "                  device=device,\n",
    "                  model = modeler,\n",
    "                  optimizer=optimizer,\n",
    "                  loss_fn=loss_fn,\n",
    "             eval_fn=eval)"
   ]
  },
  {
   "cell_type": "code",
   "execution_count": 0,
   "metadata": {
    "colab": {},
    "colab_type": "code",
    "id": "aU-YORXKuWZ5"
   },
   "outputs": [],
   "source": [
    "val_data =  tokenizer.sequences_to_texts(val_x)"
   ]
  },
  {
   "cell_type": "code",
   "execution_count": 0,
   "metadata": {
    "colab": {},
    "colab_type": "code",
    "id": "WHmmwT5DuWaD"
   },
   "outputs": [],
   "source": [
    "predictions = [get_predictions_given_text(data_points) for index, data_points in enumerate(val_data)]"
   ]
  },
  {
   "cell_type": "code",
   "execution_count": 0,
   "metadata": {
    "colab": {
     "base_uri": "https://localhost:8080/",
     "height": 36
    },
    "colab_type": "code",
    "executionInfo": {
     "elapsed": 450,
     "status": "ok",
     "timestamp": 1549840029270,
     "user": {
      "displayName": "Stuti Nayak",
      "photoUrl": "https://lh4.googleusercontent.com/-dCyvZuZkEEE/AAAAAAAAAAI/AAAAAAAAUDY/4NHoYh2M-mw/s64/photo.jpg",
      "userId": "10886436706821169763"
     },
     "user_tz": -60
    },
    "id": "GnBXEz6ruWaT",
    "outputId": "d7349dc7-5d02-482c-dd71-07f1a99bff5c"
   },
   "outputs": [
    {
     "data": {
      "text/plain": [
       "((64, 200), (64, 48))"
      ]
     },
     "execution_count": 40,
     "metadata": {
      "tags": []
     },
     "output_type": "execute_result"
    }
   ],
   "source": [
    "for dat_val in valid_fact_iter:\n",
    "    break\n",
    "dat_val[0].shape, dat_val[1].shape"
   ]
  },
  {
   "cell_type": "code",
   "execution_count": 0,
   "metadata": {
    "colab": {},
    "colab_type": "code",
    "id": "_ZKvnKT_uWah"
   },
   "outputs": [],
   "source": [
    "y_actual = []\n",
    "for result in val_y:\n",
    "  idx = np.where(result==1)\n",
    "  y_actual.append(np.take((all_class), idx))"
   ]
  },
  {
   "cell_type": "code",
   "execution_count": 0,
   "metadata": {
    "colab": {},
    "colab_type": "code",
    "id": "qmhT8VF76x1b"
   },
   "outputs": [],
   "source": [
    "val_y"
   ]
  },
  {
   "cell_type": "code",
   "execution_count": 0,
   "metadata": {
    "colab": {},
    "colab_type": "code",
    "id": "KFn--1vy6LFN"
   },
   "outputs": [],
   "source": [
    "label_names = []\n",
    "for result in label_vector:\n",
    "  idy = np.where(result==1)\n",
    "  label_names.append(np.take(all_class, idy))"
   ]
  },
  {
   "cell_type": "code",
   "execution_count": 0,
   "metadata": {
    "colab": {},
    "colab_type": "code",
    "id": "Tdjf_2MkTNHh"
   },
   "outputs": [],
   "source": [
    "all_labels = []\n",
    "for i in label_names:\n",
    "  for j in i:\n",
    "    #print(j[0])\n",
    "    all_labels.append(get_list_for_terms(j))"
   ]
  },
  {
   "cell_type": "code",
   "execution_count": 0,
   "metadata": {
    "colab": {
     "base_uri": "https://localhost:8080/",
     "height": 36
    },
    "colab_type": "code",
    "executionInfo": {
     "elapsed": 596,
     "status": "ok",
     "timestamp": 1551205343626,
     "user": {
      "displayName": "Stuti Nayak",
      "photoUrl": "https://lh4.googleusercontent.com/-dCyvZuZkEEE/AAAAAAAAAAI/AAAAAAAAUDY/4NHoYh2M-mw/s64/photo.jpg",
      "userId": "10886436706821169763"
     },
     "user_tz": -60
    },
    "id": "qrDLMU9f6aQN",
    "outputId": "326b4249-eba7-43ab-9a1e-e51af0a76bd2"
   },
   "outputs": [
    {
     "data": {
      "text/plain": [
       "774"
      ]
     },
     "execution_count": 122,
     "metadata": {
      "tags": []
     },
     "output_type": "execute_result"
    }
   ],
   "source": [
    "len(all_labels)"
   ]
  },
  {
   "cell_type": "code",
   "execution_count": 0,
   "metadata": {
    "colab": {
     "base_uri": "https://localhost:8080/",
     "height": 56
    },
    "colab_type": "code",
    "executionInfo": {
     "elapsed": 660,
     "status": "ok",
     "timestamp": 1551208058308,
     "user": {
      "displayName": "Stuti Nayak",
      "photoUrl": "https://lh4.googleusercontent.com/-dCyvZuZkEEE/AAAAAAAAAAI/AAAAAAAAUDY/4NHoYh2M-mw/s64/photo.jpg",
      "userId": "10886436706821169763"
     },
     "user_tz": -60
    },
    "id": "CHGNnlo96aLS",
    "outputId": "21a90cbe-ec59-42ae-c663-79823ad834e5"
   },
   "outputs": [
    {
     "name": "stdout",
     "output_type": "stream",
     "text": [
      "{'Environment and Public Health': 25, 'Nonsyndromic sensorineural hearing loss': 1, 'Immune System Phenomena': 5, 'Endocrine System Diseases': 128, 'Immune System Diseases': 87, 'Cells': 1, 'Therapeutics': 3, 'Population Characteristics': 25, 'Occupational Diseases': 1, 'Eye Diseases': 83, 'Skin and Connective Tissue Diseases': 167, 'Otorhinolaryngologic Diseases': 14, 'Musculoskeletal and Neural Physiological Phenomena': 5, 'Nutritional and Metabolic Diseases': 288, 'Mental Disorders': 118, 'Congenital, Hereditary, and Neonatal Diseases and Abnormalities': 639, 'Health Occupations': 25, 'Nervous System Diseases': 375, 'Health Care Quality, Access, and Evaluation': 24, 'Diagnosis': 31, 'Chemically-Induced Disorders': 5, 'Reproductive and Urinary Physiological Phenomena': 3, 'Digestive System Diseases': 72, 'Male Urogenital Diseases': 125, 'Behavior and Behavior Mechanisms': 87, 'Physical Phenomena': 1, 'Musculoskeletal Diseases': 132, 'Cardiovascular Diseases': 77, 'Psychological Phenomena': 3, 'Respiratory Tract Diseases': 5, 'Parasitic Diseases': 4, 'Tissues': 1, 'Behavioral Disciplines and Activities': 3, 'Female Urogenital Diseases and Pregnancy Complications': 130, 'Cell Physiological Phenomena': 6, 'Wounds and Injuries': 6, 'Neoplasms': 204, 'Biological Phenomena': 2, 'Hemic and Lymphatic Diseases': 98, 'Pathological Conditions, Signs and Symptoms': 254, 'Stomatognathic Diseases': 17, 'Investigative Techniques': 24, 'Bacterial Infections and Mycoses': 23, 'Genetic Phenomena': 20, 'Physiological Phenomena': 30, 'Virus Diseases': 5, 'Natural Science Disciplines': 27, 'Fluids and Secretions': 1}\n"
     ]
    }
   ],
   "source": [
    "fulldict = dict.fromkeys(newdict, 0)\n",
    "for x in range(len(all_labels)):\n",
    "  for i in all_labels[x]:\n",
    "      fulldict[i]=fulldict[i]+1\n",
    "print(fulldict)"
   ]
  },
  {
   "cell_type": "code",
   "execution_count": 0,
   "metadata": {
    "colab": {},
    "colab_type": "code",
    "id": "1Kas0SzoQcTs"
   },
   "outputs": [],
   "source": [
    "from collections import Counter\n",
    "\n",
    "fulldict = Counter(fulldict)\n",
    "fulldict.most_common()"
   ]
  },
  {
   "cell_type": "code",
   "execution_count": 0,
   "metadata": {
    "colab": {
     "base_uri": "https://localhost:8080/",
     "height": 915
    },
    "colab_type": "code",
    "executionInfo": {
     "elapsed": 1035,
     "status": "ok",
     "timestamp": 1551209132092,
     "user": {
      "displayName": "Stuti Nayak",
      "photoUrl": "https://lh4.googleusercontent.com/-dCyvZuZkEEE/AAAAAAAAAAI/AAAAAAAAUDY/4NHoYh2M-mw/s64/photo.jpg",
      "userId": "10886436706821169763"
     },
     "user_tz": -60
    },
    "id": "PzSUoSXwQ-hN",
    "outputId": "4ac20637-bd9b-431e-8a8b-25822fbcb319"
   },
   "outputs": [
    {
     "data": {
      "text/plain": [
       "[('Congenital, Hereditary, and Neonatal Diseases and Abnormalities', 126),\n",
       " ('Nervous System Diseases', 56),\n",
       " ('Neoplasms', 52),\n",
       " ('Nutritional and Metabolic Diseases', 36),\n",
       " ('Skin and Connective Tissue Diseases', 29),\n",
       " ('Female Urogenital Diseases and Pregnancy Complications', 25),\n",
       " ('Male Urogenital Diseases', 24),\n",
       " ('Pathological Conditions, Signs and Symptoms', 24),\n",
       " ('Endocrine System Diseases', 20),\n",
       " ('Musculoskeletal Diseases', 17),\n",
       " ('Cardiovascular Diseases', 12),\n",
       " ('Immune System Diseases', 11),\n",
       " ('Eye Diseases', 11),\n",
       " ('Digestive System Diseases', 9),\n",
       " ('Hemic and Lymphatic Diseases', 8),\n",
       " ('Mental Disorders', 7),\n",
       " ('Behavior and Behavior Mechanisms', 4),\n",
       " ('Environment and Public Health', 2),\n",
       " ('Population Characteristics', 2),\n",
       " ('Health Occupations', 2),\n",
       " ('Health Care Quality, Access, and Evaluation', 2),\n",
       " ('Diagnosis', 2),\n",
       " ('Investigative Techniques', 2),\n",
       " ('Physiological Phenomena', 2),\n",
       " ('Natural Science Disciplines', 2),\n",
       " ('Bacterial Infections and Mycoses', 1),\n",
       " ('Nonsyndromic sensorineural hearing loss', 0),\n",
       " ('Immune System Phenomena', 0),\n",
       " ('Cells', 0),\n",
       " ('Therapeutics', 0),\n",
       " ('Occupational Diseases', 0),\n",
       " ('Otorhinolaryngologic Diseases', 0),\n",
       " ('Musculoskeletal and Neural Physiological Phenomena', 0),\n",
       " ('Chemically-Induced Disorders', 0),\n",
       " ('Reproductive and Urinary Physiological Phenomena', 0),\n",
       " ('Physical Phenomena', 0),\n",
       " ('Psychological Phenomena', 0),\n",
       " ('Respiratory Tract Diseases', 0),\n",
       " ('Parasitic Diseases', 0),\n",
       " ('Tissues', 0),\n",
       " ('Behavioral Disciplines and Activities', 0),\n",
       " ('Cell Physiological Phenomena', 0),\n",
       " ('Wounds and Injuries', 0),\n",
       " ('Biological Phenomena', 0),\n",
       " ('Stomatognathic Diseases', 0),\n",
       " ('Genetic Phenomena', 0),\n",
       " ('Virus Diseases', 0),\n",
       " ('Fluids and Secretions', 0)]"
      ]
     },
     "execution_count": 128,
     "metadata": {
      "tags": []
     },
     "output_type": "execute_result"
    }
   ],
   "source": [
    "newdict = Counter(newdict)\n",
    "newdict.most_common()"
   ]
  },
  {
   "cell_type": "code",
   "execution_count": 0,
   "metadata": {
    "colab": {
     "base_uri": "https://localhost:8080/",
     "height": 915
    },
    "colab_type": "code",
    "executionInfo": {
     "elapsed": 696,
     "status": "ok",
     "timestamp": 1551209337688,
     "user": {
      "displayName": "Stuti Nayak",
      "photoUrl": "https://lh4.googleusercontent.com/-dCyvZuZkEEE/AAAAAAAAAAI/AAAAAAAAUDY/4NHoYh2M-mw/s64/photo.jpg",
      "userId": "10886436706821169763"
     },
     "user_tz": -60
    },
    "id": "ZGERT1qQQ_Bc",
    "outputId": "0f6da9b1-289c-4eb1-eb15-8b02e8afb2d2"
   },
   "outputs": [
    {
     "data": {
      "text/plain": [
       "[('Congenital, Hereditary, and Neonatal Diseases and Abnormalities', 126),\n",
       " ('Nervous System Diseases', 71),\n",
       " ('Neoplasms', 55),\n",
       " ('Nutritional and Metabolic Diseases', 48),\n",
       " ('Skin and Connective Tissue Diseases', 44),\n",
       " ('Pathological Conditions, Signs and Symptoms', 43),\n",
       " ('Female Urogenital Diseases and Pregnancy Complications', 35),\n",
       " ('Male Urogenital Diseases', 34),\n",
       " ('Endocrine System Diseases', 29),\n",
       " ('Cardiovascular Diseases', 23),\n",
       " ('Musculoskeletal Diseases', 22),\n",
       " ('Immune System Diseases', 21),\n",
       " ('Eye Diseases', 17),\n",
       " ('Digestive System Diseases', 17),\n",
       " ('Mental Disorders', 13),\n",
       " ('Hemic and Lymphatic Diseases', 12),\n",
       " ('Bacterial Infections and Mycoses', 7),\n",
       " ('Behavior and Behavior Mechanisms', 6),\n",
       " ('Physiological Phenomena', 6),\n",
       " ('Environment and Public Health', 4),\n",
       " ('Population Characteristics', 4),\n",
       " ('Health Occupations', 4),\n",
       " ('Health Care Quality, Access, and Evaluation', 4),\n",
       " ('Diagnosis', 4),\n",
       " ('Investigative Techniques', 4),\n",
       " ('Genetic Phenomena', 4),\n",
       " ('Natural Science Disciplines', 4),\n",
       " ('Cell Physiological Phenomena', 3),\n",
       " ('Otorhinolaryngologic Diseases', 2),\n",
       " ('Chemically-Induced Disorders', 1),\n",
       " ('Respiratory Tract Diseases', 1),\n",
       " ('Wounds and Injuries', 1),\n",
       " ('Stomatognathic Diseases', 1),\n",
       " ('Nonsyndromic sensorineural hearing loss', 0),\n",
       " ('Immune System Phenomena', 0),\n",
       " ('Cells', 0),\n",
       " ('Therapeutics', 0),\n",
       " ('Occupational Diseases', 0),\n",
       " ('Musculoskeletal and Neural Physiological Phenomena', 0),\n",
       " ('Reproductive and Urinary Physiological Phenomena', 0),\n",
       " ('Physical Phenomena', 0),\n",
       " ('Psychological Phenomena', 0),\n",
       " ('Parasitic Diseases', 0),\n",
       " ('Tissues', 0),\n",
       " ('Behavioral Disciplines and Activities', 0),\n",
       " ('Biological Phenomena', 0),\n",
       " ('Virus Diseases', 0),\n",
       " ('Fluids and Secretions', 0)]"
      ]
     },
     "execution_count": 129,
     "metadata": {
      "tags": []
     },
     "output_type": "execute_result"
    }
   ],
   "source": [
    "real1 = Counter(real1)\n",
    "real1.most_common()"
   ]
  },
  {
   "cell_type": "code",
   "execution_count": 0,
   "metadata": {
    "colab": {
     "base_uri": "https://localhost:8080/",
     "height": 915
    },
    "colab_type": "code",
    "executionInfo": {
     "elapsed": 778,
     "status": "ok",
     "timestamp": 1551209432892,
     "user": {
      "displayName": "Stuti Nayak",
      "photoUrl": "https://lh4.googleusercontent.com/-dCyvZuZkEEE/AAAAAAAAAAI/AAAAAAAAUDY/4NHoYh2M-mw/s64/photo.jpg",
      "userId": "10886436706821169763"
     },
     "user_tz": -60
    },
    "id": "f3u8hSJnSPtz",
    "outputId": "ee8bc911-68bd-4a30-e0ae-ac1499489f70"
   },
   "outputs": [
    {
     "data": {
      "text/plain": [
       "[('Congenital, Hereditary, and Neonatal Diseases and Abnormalities', 144),\n",
       " ('Nervous System Diseases', 63),\n",
       " ('Neoplasms', 54),\n",
       " ('Nutritional and Metabolic Diseases', 42),\n",
       " ('Skin and Connective Tissue Diseases', 38),\n",
       " ('Pathological Conditions, Signs and Symptoms', 32),\n",
       " ('Male Urogenital Diseases', 29),\n",
       " ('Female Urogenital Diseases and Pregnancy Complications', 29),\n",
       " ('Endocrine System Diseases', 23),\n",
       " ('Musculoskeletal Diseases', 20),\n",
       " ('Cardiovascular Diseases', 14),\n",
       " ('Immune System Diseases', 12),\n",
       " ('Eye Diseases', 11),\n",
       " ('Mental Disorders', 10),\n",
       " ('Digestive System Diseases', 10),\n",
       " ('Hemic and Lymphatic Diseases', 10),\n",
       " ('Behavior and Behavior Mechanisms', 6),\n",
       " ('Environment and Public Health', 2),\n",
       " ('Population Characteristics', 2),\n",
       " ('Health Occupations', 2),\n",
       " ('Health Care Quality, Access, and Evaluation', 2),\n",
       " ('Diagnosis', 2),\n",
       " ('Investigative Techniques', 2),\n",
       " ('Physiological Phenomena', 2),\n",
       " ('Natural Science Disciplines', 2),\n",
       " ('Bacterial Infections and Mycoses', 1),\n",
       " ('Nonsyndromic sensorineural hearing loss', 0),\n",
       " ('Immune System Phenomena', 0),\n",
       " ('Cells', 0),\n",
       " ('Therapeutics', 0),\n",
       " ('Occupational Diseases', 0),\n",
       " ('Otorhinolaryngologic Diseases', 0),\n",
       " ('Musculoskeletal and Neural Physiological Phenomena', 0),\n",
       " ('Chemically-Induced Disorders', 0),\n",
       " ('Reproductive and Urinary Physiological Phenomena', 0),\n",
       " ('Physical Phenomena', 0),\n",
       " ('Psychological Phenomena', 0),\n",
       " ('Respiratory Tract Diseases', 0),\n",
       " ('Parasitic Diseases', 0),\n",
       " ('Tissues', 0),\n",
       " ('Behavioral Disciplines and Activities', 0),\n",
       " ('Cell Physiological Phenomena', 0),\n",
       " ('Wounds and Injuries', 0),\n",
       " ('Biological Phenomena', 0),\n",
       " ('Stomatognathic Diseases', 0),\n",
       " ('Genetic Phenomena', 0),\n",
       " ('Virus Diseases', 0),\n",
       " ('Fluids and Secretions', 0)]"
      ]
     },
     "execution_count": 130,
     "metadata": {
      "tags": []
     },
     "output_type": "execute_result"
    }
   ],
   "source": [
    "preds1 = Counter(preds1)\n",
    "preds1.most_common()"
   ]
  },
  {
   "cell_type": "code",
   "execution_count": 0,
   "metadata": {
    "colab": {},
    "colab_type": "code",
    "id": "1IftTASQUBm0"
   },
   "outputs": [],
   "source": [
    "newdict = {k: v for v, k in enumerate(targets)}"
   ]
  },
  {
   "cell_type": "code",
   "execution_count": 0,
   "metadata": {
    "colab": {
     "base_uri": "https://localhost:8080/",
     "height": 915
    },
    "colab_type": "code",
    "executionInfo": {
     "elapsed": 560,
     "status": "ok",
     "timestamp": 1551193161063,
     "user": {
      "displayName": "Stuti Nayak",
      "photoUrl": "https://lh4.googleusercontent.com/-dCyvZuZkEEE/AAAAAAAAAAI/AAAAAAAAUDY/4NHoYh2M-mw/s64/photo.jpg",
      "userId": "10886436706821169763"
     },
     "user_tz": -60
    },
    "id": "BvA4CoPjxiXZ",
    "outputId": "7ed6df1d-1ce8-4c65-998f-42493469e02d"
   },
   "outputs": [
    {
     "data": {
      "text/plain": [
       "{'Bacterial Infections and Mycoses': 42,\n",
       " 'Behavior and Behavior Mechanisms': 24,\n",
       " 'Behavioral Disciplines and Activities': 32,\n",
       " 'Biological Phenomena': 37,\n",
       " 'Cardiovascular Diseases': 27,\n",
       " 'Cell Physiological Phenomena': 34,\n",
       " 'Cells': 5,\n",
       " 'Chemically-Induced Disorders': 20,\n",
       " 'Congenital, Hereditary, and Neonatal Diseases and Abnormalities': 15,\n",
       " 'Diagnosis': 19,\n",
       " 'Digestive System Diseases': 22,\n",
       " 'Endocrine System Diseases': 3,\n",
       " 'Environment and Public Health': 0,\n",
       " 'Eye Diseases': 9,\n",
       " 'Female Urogenital Diseases and Pregnancy Complications': 33,\n",
       " 'Fluids and Secretions': 47,\n",
       " 'Genetic Phenomena': 43,\n",
       " 'Health Care Quality, Access, and Evaluation': 18,\n",
       " 'Health Occupations': 16,\n",
       " 'Hemic and Lymphatic Diseases': 38,\n",
       " 'Immune System Diseases': 4,\n",
       " 'Immune System Phenomena': 2,\n",
       " 'Investigative Techniques': 41,\n",
       " 'Male Urogenital Diseases': 23,\n",
       " 'Mental Disorders': 14,\n",
       " 'Musculoskeletal Diseases': 26,\n",
       " 'Musculoskeletal and Neural Physiological Phenomena': 12,\n",
       " 'Natural Science Disciplines': 46,\n",
       " 'Neoplasms': 36,\n",
       " 'Nervous System Diseases': 17,\n",
       " 'Nonsyndromic sensorineural hearing loss': 1,\n",
       " 'Nutritional and Metabolic Diseases': 13,\n",
       " 'Occupational Diseases': 8,\n",
       " 'Otorhinolaryngologic Diseases': 11,\n",
       " 'Parasitic Diseases': 30,\n",
       " 'Pathological Conditions, Signs and Symptoms': 39,\n",
       " 'Physical Phenomena': 25,\n",
       " 'Physiological Phenomena': 44,\n",
       " 'Population Characteristics': 7,\n",
       " 'Psychological Phenomena': 28,\n",
       " 'Reproductive and Urinary Physiological Phenomena': 21,\n",
       " 'Respiratory Tract Diseases': 29,\n",
       " 'Skin and Connective Tissue Diseases': 10,\n",
       " 'Stomatognathic Diseases': 40,\n",
       " 'Therapeutics': 6,\n",
       " 'Tissues': 31,\n",
       " 'Virus Diseases': 45,\n",
       " 'Wounds and Injuries': 35}"
      ]
     },
     "execution_count": 48,
     "metadata": {
      "tags": []
     },
     "output_type": "execute_result"
    }
   ],
   "source": [
    "newdict"
   ]
  },
  {
   "cell_type": "code",
   "execution_count": 0,
   "metadata": {
    "colab": {},
    "colab_type": "code",
    "id": "eq6psif7spCP"
   },
   "outputs": [],
   "source": [
    "actual_labels"
   ]
  },
  {
   "cell_type": "code",
   "execution_count": 0,
   "metadata": {
    "colab": {},
    "colab_type": "code",
    "id": "TzgKu-vrs71w"
   },
   "outputs": [],
   "source": [
    "actual_labels = []\n",
    "for i in y_actual:\n",
    "  for j in i:\n",
    "    #print(j[0])\n",
    "    actual_labels.append(get_list_for_terms(j))"
   ]
  },
  {
   "cell_type": "code",
   "execution_count": 0,
   "metadata": {
    "colab": {},
    "colab_type": "code",
    "id": "yfa3bBqfV4SM"
   },
   "outputs": [],
   "source": [
    "predictions"
   ]
  },
  {
   "cell_type": "code",
   "execution_count": 0,
   "metadata": {
    "colab": {
     "base_uri": "https://localhost:8080/",
     "height": 36
    },
    "colab_type": "code",
    "executionInfo": {
     "elapsed": 601,
     "status": "ok",
     "timestamp": 1551194499987,
     "user": {
      "displayName": "Stuti Nayak",
      "photoUrl": "https://lh4.googleusercontent.com/-dCyvZuZkEEE/AAAAAAAAAAI/AAAAAAAAUDY/4NHoYh2M-mw/s64/photo.jpg",
      "userId": "10886436706821169763"
     },
     "user_tz": -60
    },
    "id": "mXUEtNLUV4NA",
    "outputId": "d1560704-96bb-4d24-c1e0-9fa282ceb35e"
   },
   "outputs": [
    {
     "name": "stdout",
     "output_type": "stream",
     "text": [
      "12\n"
     ]
    }
   ],
   "source": [
    "newdict = dict.fromkeys(newdict, 0)\n",
    "for x in range(len(predictions)):\n",
    "  for i in predictions[x]:\n",
    "    if i in actual_labels[x]:\n",
    "      newdict[i]=newdict[i]+1\n",
    "print(newdict['Cardiovascular Diseases'])"
   ]
  },
  {
   "cell_type": "code",
   "execution_count": 0,
   "metadata": {
    "colab": {},
    "colab_type": "code",
    "id": "ABRJntyXnfSB"
   },
   "outputs": [],
   "source": []
  },
  {
   "cell_type": "code",
   "execution_count": 0,
   "metadata": {
    "colab": {
     "base_uri": "https://localhost:8080/",
     "height": 56
    },
    "colab_type": "code",
    "executionInfo": {
     "elapsed": 531,
     "status": "ok",
     "timestamp": 1551198297692,
     "user": {
      "displayName": "Stuti Nayak",
      "photoUrl": "https://lh4.googleusercontent.com/-dCyvZuZkEEE/AAAAAAAAAAI/AAAAAAAAUDY/4NHoYh2M-mw/s64/photo.jpg",
      "userId": "10886436706821169763"
     },
     "user_tz": -60
    },
    "id": "MldyvwJxnHh2",
    "outputId": "3f71dffb-fcf5-4b30-c40c-130c5fcd681f"
   },
   "outputs": [
    {
     "name": "stdout",
     "output_type": "stream",
     "text": [
      "{'Environment and Public Health': 2, 'Nonsyndromic sensorineural hearing loss': 0, 'Immune System Phenomena': 0, 'Endocrine System Diseases': 23, 'Immune System Diseases': 12, 'Cells': 0, 'Therapeutics': 0, 'Population Characteristics': 2, 'Occupational Diseases': 0, 'Eye Diseases': 11, 'Skin and Connective Tissue Diseases': 38, 'Otorhinolaryngologic Diseases': 0, 'Musculoskeletal and Neural Physiological Phenomena': 0, 'Nutritional and Metabolic Diseases': 42, 'Mental Disorders': 10, 'Congenital, Hereditary, and Neonatal Diseases and Abnormalities': 144, 'Health Occupations': 2, 'Nervous System Diseases': 63, 'Health Care Quality, Access, and Evaluation': 2, 'Diagnosis': 2, 'Chemically-Induced Disorders': 0, 'Reproductive and Urinary Physiological Phenomena': 0, 'Digestive System Diseases': 10, 'Male Urogenital Diseases': 29, 'Behavior and Behavior Mechanisms': 6, 'Physical Phenomena': 0, 'Musculoskeletal Diseases': 20, 'Cardiovascular Diseases': 14, 'Psychological Phenomena': 0, 'Respiratory Tract Diseases': 0, 'Parasitic Diseases': 0, 'Tissues': 0, 'Behavioral Disciplines and Activities': 0, 'Female Urogenital Diseases and Pregnancy Complications': 29, 'Cell Physiological Phenomena': 0, 'Wounds and Injuries': 0, 'Neoplasms': 54, 'Biological Phenomena': 0, 'Hemic and Lymphatic Diseases': 10, 'Pathological Conditions, Signs and Symptoms': 32, 'Stomatognathic Diseases': 0, 'Investigative Techniques': 2, 'Bacterial Infections and Mycoses': 1, 'Genetic Phenomena': 0, 'Physiological Phenomena': 2, 'Virus Diseases': 0, 'Natural Science Disciplines': 2, 'Fluids and Secretions': 0}\n"
     ]
    }
   ],
   "source": [
    "preds1 = dict.fromkeys(newdict, 0)\n",
    "for x in range(len(predictions)):\n",
    "  for i in predictions[x]:\n",
    "      preds1[i]=preds1[i]+1\n",
    "print(preds1)\n"
   ]
  },
  {
   "cell_type": "code",
   "execution_count": 0,
   "metadata": {
    "colab": {
     "base_uri": "https://localhost:8080/",
     "height": 915
    },
    "colab_type": "code",
    "executionInfo": {
     "elapsed": 1431,
     "status": "ok",
     "timestamp": 1551194844235,
     "user": {
      "displayName": "Stuti Nayak",
      "photoUrl": "https://lh4.googleusercontent.com/-dCyvZuZkEEE/AAAAAAAAAAI/AAAAAAAAUDY/4NHoYh2M-mw/s64/photo.jpg",
      "userId": "10886436706821169763"
     },
     "user_tz": -60
    },
    "id": "ZlfGLDFaZuG4",
    "outputId": "00044620-232d-4184-cf12-da850463c3ff"
   },
   "outputs": [
    {
     "data": {
      "text/plain": [
       "{'Bacterial Infections and Mycoses': 1,\n",
       " 'Behavior and Behavior Mechanisms': 4,\n",
       " 'Behavioral Disciplines and Activities': 0,\n",
       " 'Biological Phenomena': 0,\n",
       " 'Cardiovascular Diseases': 12,\n",
       " 'Cell Physiological Phenomena': 0,\n",
       " 'Cells': 0,\n",
       " 'Chemically-Induced Disorders': 0,\n",
       " 'Congenital, Hereditary, and Neonatal Diseases and Abnormalities': 126,\n",
       " 'Diagnosis': 2,\n",
       " 'Digestive System Diseases': 9,\n",
       " 'Endocrine System Diseases': 20,\n",
       " 'Environment and Public Health': 2,\n",
       " 'Eye Diseases': 11,\n",
       " 'Female Urogenital Diseases and Pregnancy Complications': 25,\n",
       " 'Fluids and Secretions': 0,\n",
       " 'Genetic Phenomena': 0,\n",
       " 'Health Care Quality, Access, and Evaluation': 2,\n",
       " 'Health Occupations': 2,\n",
       " 'Hemic and Lymphatic Diseases': 8,\n",
       " 'Immune System Diseases': 11,\n",
       " 'Immune System Phenomena': 0,\n",
       " 'Investigative Techniques': 2,\n",
       " 'Male Urogenital Diseases': 24,\n",
       " 'Mental Disorders': 7,\n",
       " 'Musculoskeletal Diseases': 17,\n",
       " 'Musculoskeletal and Neural Physiological Phenomena': 0,\n",
       " 'Natural Science Disciplines': 2,\n",
       " 'Neoplasms': 52,\n",
       " 'Nervous System Diseases': 56,\n",
       " 'Nonsyndromic sensorineural hearing loss': 0,\n",
       " 'Nutritional and Metabolic Diseases': 36,\n",
       " 'Occupational Diseases': 0,\n",
       " 'Otorhinolaryngologic Diseases': 0,\n",
       " 'Parasitic Diseases': 0,\n",
       " 'Pathological Conditions, Signs and Symptoms': 24,\n",
       " 'Physical Phenomena': 0,\n",
       " 'Physiological Phenomena': 2,\n",
       " 'Population Characteristics': 2,\n",
       " 'Psychological Phenomena': 0,\n",
       " 'Reproductive and Urinary Physiological Phenomena': 0,\n",
       " 'Respiratory Tract Diseases': 0,\n",
       " 'Skin and Connective Tissue Diseases': 29,\n",
       " 'Stomatognathic Diseases': 0,\n",
       " 'Therapeutics': 0,\n",
       " 'Tissues': 0,\n",
       " 'Virus Diseases': 0,\n",
       " 'Wounds and Injuries': 0}"
      ]
     },
     "execution_count": 63,
     "metadata": {
      "tags": []
     },
     "output_type": "execute_result"
    }
   ],
   "source": [
    "newdict"
   ]
  },
  {
   "cell_type": "code",
   "execution_count": 0,
   "metadata": {
    "colab": {
     "base_uri": "https://localhost:8080/",
     "height": 56
    },
    "colab_type": "code",
    "executionInfo": {
     "elapsed": 568,
     "status": "ok",
     "timestamp": 1551198364376,
     "user": {
      "displayName": "Stuti Nayak",
      "photoUrl": "https://lh4.googleusercontent.com/-dCyvZuZkEEE/AAAAAAAAAAI/AAAAAAAAUDY/4NHoYh2M-mw/s64/photo.jpg",
      "userId": "10886436706821169763"
     },
     "user_tz": -60
    },
    "id": "ti8sX5L_oAOJ",
    "outputId": "09597407-9fb3-4d72-cfb4-7b284a83dd08"
   },
   "outputs": [
    {
     "name": "stdout",
     "output_type": "stream",
     "text": [
      "{'Environment and Public Health': 4, 'Nonsyndromic sensorineural hearing loss': 0, 'Immune System Phenomena': 0, 'Endocrine System Diseases': 29, 'Immune System Diseases': 21, 'Cells': 0, 'Therapeutics': 0, 'Population Characteristics': 4, 'Occupational Diseases': 0, 'Eye Diseases': 17, 'Skin and Connective Tissue Diseases': 44, 'Otorhinolaryngologic Diseases': 2, 'Musculoskeletal and Neural Physiological Phenomena': 0, 'Nutritional and Metabolic Diseases': 48, 'Mental Disorders': 13, 'Congenital, Hereditary, and Neonatal Diseases and Abnormalities': 126, 'Health Occupations': 4, 'Nervous System Diseases': 71, 'Health Care Quality, Access, and Evaluation': 4, 'Diagnosis': 4, 'Chemically-Induced Disorders': 1, 'Reproductive and Urinary Physiological Phenomena': 0, 'Digestive System Diseases': 17, 'Male Urogenital Diseases': 34, 'Behavior and Behavior Mechanisms': 6, 'Physical Phenomena': 0, 'Musculoskeletal Diseases': 22, 'Cardiovascular Diseases': 23, 'Psychological Phenomena': 0, 'Respiratory Tract Diseases': 1, 'Parasitic Diseases': 0, 'Tissues': 0, 'Behavioral Disciplines and Activities': 0, 'Female Urogenital Diseases and Pregnancy Complications': 35, 'Cell Physiological Phenomena': 3, 'Wounds and Injuries': 1, 'Neoplasms': 55, 'Biological Phenomena': 0, 'Hemic and Lymphatic Diseases': 12, 'Pathological Conditions, Signs and Symptoms': 43, 'Stomatognathic Diseases': 1, 'Investigative Techniques': 4, 'Bacterial Infections and Mycoses': 7, 'Genetic Phenomena': 4, 'Physiological Phenomena': 6, 'Virus Diseases': 0, 'Natural Science Disciplines': 4, 'Fluids and Secretions': 0}\n"
     ]
    }
   ],
   "source": [
    "real1 = dict.fromkeys(newdict, 0)\n",
    "for x in range(len(actual_labels)):\n",
    "  for i in actual_labels[x]:\n",
    "      real1[i]=real1[i]+1\n",
    "print(real1)"
   ]
  },
  {
   "cell_type": "code",
   "execution_count": 0,
   "metadata": {
    "colab": {},
    "colab_type": "code",
    "id": "mIJyfirTvK0D"
   },
   "outputs": [],
   "source": [
    "string1 = val_data\n",
    "string2 = predictions \n",
    "string3 = actual_labels\n",
    "\n",
    "with open(\"results_cnn_superclass.csv\",\"w\") as f:\n",
    "  writer = csv.writer(f)\n",
    "  writer.writerows(zip(string1,string2,string3))"
   ]
  },
  {
   "cell_type": "code",
   "execution_count": 0,
   "metadata": {
    "colab": {},
    "colab_type": "code",
    "id": "OXOXCDzjuWam",
    "outputId": "23310425-9950-4c6f-c5c3-c3551010ae42"
   },
   "outputs": [
    {
     "name": "stdout",
     "output_type": "stream",
     "text": [
      "Populating the interactive namespace from numpy and matplotlib\n"
     ]
    },
    {
     "name": "stderr",
     "output_type": "stream",
     "text": [
      "C:\\Users\\stuti.nayak\\AppData\\Local\\Continuum\\Anaconda3\\envs\\metawiz-keras-theano\\lib\\site-packages\\IPython\\core\\magics\\pylab.py:160: UserWarning: pylab import has clobbered these variables: ['f']\n",
      "`%matplotlib` prevents importing * from pylab and numpy\n",
      "  \"\\n`%matplotlib` prevents importing * from pylab and numpy\"\n"
     ]
    }
   ],
   "source": [
    "import matplotlib.pyplot as plt\n",
    "%pylab inline"
   ]
  },
  {
   "cell_type": "code",
   "execution_count": 0,
   "metadata": {
    "colab": {},
    "colab_type": "code",
    "id": "H7UckRj7OACk"
   },
   "outputs": [],
   "source": [
    "df = pandas.read_csv(\"results_cnn_disease_names.csv\")\n",
    "df.columns = [\"abstract\", \"preds\", \"actual_labels\"]\n"
   ]
  },
  {
   "cell_type": "code",
   "execution_count": 0,
   "metadata": {
    "colab": {},
    "colab_type": "code",
    "id": "2UVrYPpJeVO1"
   },
   "outputs": [],
   "source": [
    "predict=df[\"preds\"].tolist()\n",
    "real=df[\"actual_labels\"].tolist()\n"
   ]
  },
  {
   "cell_type": "code",
   "execution_count": 0,
   "metadata": {
    "colab": {},
    "colab_type": "code",
    "id": "Zv3AVePffTTq"
   },
   "outputs": [],
   "source": [
    "newdict2 = {k: v for v, k in enumerate(targets)}"
   ]
  },
  {
   "cell_type": "code",
   "execution_count": 0,
   "metadata": {
    "colab": {
     "base_uri": "https://localhost:8080/",
     "height": 36
    },
    "colab_type": "code",
    "executionInfo": {
     "elapsed": 565,
     "status": "ok",
     "timestamp": 1551196900276,
     "user": {
      "displayName": "Stuti Nayak",
      "photoUrl": "https://lh4.googleusercontent.com/-dCyvZuZkEEE/AAAAAAAAAAI/AAAAAAAAUDY/4NHoYh2M-mw/s64/photo.jpg",
      "userId": "10886436706821169763"
     },
     "user_tz": -60
    },
    "id": "O31N4E-ghCMg",
    "outputId": "04a456cb-3474-4c2c-a402-35e330cbbd98"
   },
   "outputs": [
    {
     "name": "stderr",
     "output_type": "stream",
     "text": [
      "100%|██████████| 793/793 [00:00<00:00, 79216.97it/s]\n"
     ]
    }
   ],
   "source": [
    "#Now chanign the hiearchy of the diseases dataset where we only consider Diseases ontology \n",
    "clean_data_ds = []\n",
    "us = []\n",
    "for c in tqdm(clean_data):\n",
    "    try:\n",
    "        labels = []\n",
    "        for l in c[1]:\n",
    "            #print(l)\n",
    "            if 'D' == l[0]:\n",
    "                labels = labels + l.replace('+','|').split(\"|\")\n",
    "                #labels = labels + l.split('+')\n",
    "         #change the class hiearchy \n",
    "        #new_labels = list(set(get_classes_for_dois(labels)))\n",
    "        clean_data_ds.append((c[0], list(set(labels))))\n",
    "    except:\n",
    "        us.append(c)\n",
    "\n",
    "clean_data1 = clean_data_ds"
   ]
  },
  {
   "cell_type": "code",
   "execution_count": 0,
   "metadata": {
    "colab": {},
    "colab_type": "code",
    "id": "4qO_SEQ8hGzZ"
   },
   "outputs": [],
   "source": [
    "all_disease = list(set([g for f in clean_data1 for g in f[1]]))"
   ]
  },
  {
   "cell_type": "code",
   "execution_count": 0,
   "metadata": {
    "colab": {
     "base_uri": "https://localhost:8080/",
     "height": 249
    },
    "colab_type": "code",
    "executionInfo": {
     "elapsed": 884,
     "status": "error",
     "timestamp": 1551197176769,
     "user": {
      "displayName": "Stuti Nayak",
      "photoUrl": "https://lh4.googleusercontent.com/-dCyvZuZkEEE/AAAAAAAAAAI/AAAAAAAAUDY/4NHoYh2M-mw/s64/photo.jpg",
      "userId": "10886436706821169763"
     },
     "user_tz": -60
    },
    "id": "-NE7-QmrhGs-",
    "outputId": "4a11c3bb-634f-4e9a-f045-451fb980e360"
   },
   "outputs": [
    {
     "ename": "KeyError",
     "evalue": "ignored",
     "output_type": "error",
     "traceback": [
      "\u001b[0;31m---------------------------------------------------------------------------\u001b[0m",
      "\u001b[0;31mKeyError\u001b[0m                                  Traceback (most recent call last)",
      "\u001b[0;32m<ipython-input-101-1610e8912595>\u001b[0m in \u001b[0;36m<module>\u001b[0;34m()\u001b[0m\n\u001b[1;32m      3\u001b[0m \u001b[0;32mfor\u001b[0m \u001b[0mx\u001b[0m \u001b[0;32min\u001b[0m \u001b[0mrange\u001b[0m\u001b[0;34m(\u001b[0m\u001b[0mlen\u001b[0m\u001b[0;34m(\u001b[0m\u001b[0mpredict\u001b[0m\u001b[0;34m)\u001b[0m\u001b[0;34m)\u001b[0m\u001b[0;34m:\u001b[0m\u001b[0;34m\u001b[0m\u001b[0;34m\u001b[0m\u001b[0m\n\u001b[1;32m      4\u001b[0m   \u001b[0;32mfor\u001b[0m \u001b[0mi\u001b[0m \u001b[0;32min\u001b[0m \u001b[0mpredict\u001b[0m\u001b[0;34m[\u001b[0m\u001b[0mx\u001b[0m\u001b[0;34m]\u001b[0m\u001b[0;34m:\u001b[0m\u001b[0;34m\u001b[0m\u001b[0;34m\u001b[0m\u001b[0m\n\u001b[0;32m----> 5\u001b[0;31m     \u001b[0mprint\u001b[0m\u001b[0;34m(\u001b[0m\u001b[0mnewdict2\u001b[0m\u001b[0;34m[\u001b[0m\u001b[0mi\u001b[0m\u001b[0;34m]\u001b[0m\u001b[0;34m)\u001b[0m\u001b[0;34m\u001b[0m\u001b[0;34m\u001b[0m\u001b[0m\n\u001b[0m\u001b[1;32m      6\u001b[0m \u001b[0;31m#     if i in real[x]:\u001b[0m\u001b[0;34m\u001b[0m\u001b[0;34m\u001b[0m\u001b[0;34m\u001b[0m\u001b[0m\n\u001b[1;32m      7\u001b[0m \u001b[0;31m#       print(newdict2[i])\u001b[0m\u001b[0;34m\u001b[0m\u001b[0;34m\u001b[0m\u001b[0;34m\u001b[0m\u001b[0m\n",
      "\u001b[0;31mKeyError\u001b[0m: '['"
     ]
    }
   ],
   "source": [
    "newdict2 = {k: v for v, k in enumerate(all_disease)}\n",
    "newdict2 = dict.fromkeys(newdict2, 0)\n",
    "for x in range(len(predict)):\n",
    "  for i in predict[x]:\n",
    "    print(newdict2[i])\n",
    "#     if i in real[x]:\n",
    "#       print(newdict2[i])\n",
    "#       newdict2[i]=newdict2[i]+1\n",
    "\n",
    "# print(newdict2)\n"
   ]
  },
  {
   "cell_type": "code",
   "execution_count": 0,
   "metadata": {
    "colab": {
     "base_uri": "https://localhost:8080/",
     "height": 175
    },
    "colab_type": "code",
    "executionInfo": {
     "elapsed": 595,
     "status": "error",
     "timestamp": 1551196685045,
     "user": {
      "displayName": "Stuti Nayak",
      "photoUrl": "https://lh4.googleusercontent.com/-dCyvZuZkEEE/AAAAAAAAAAI/AAAAAAAAUDY/4NHoYh2M-mw/s64/photo.jpg",
      "userId": "10886436706821169763"
     },
     "user_tz": -60
    },
    "id": "3tx-qtAFhX8G",
    "outputId": "6f1ce224-f916-43ad-e0a5-6ada1e2b0b59"
   },
   "outputs": [
    {
     "ename": "IndexError",
     "evalue": "ignored",
     "output_type": "error",
     "traceback": [
      "\u001b[0;31m---------------------------------------------------------------------------\u001b[0m",
      "\u001b[0;31mIndexError\u001b[0m                                Traceback (most recent call last)",
      "\u001b[0;32m<ipython-input-83-9b602aec91d7>\u001b[0m in \u001b[0;36m<module>\u001b[0;34m()\u001b[0m\n\u001b[0;32m----> 1\u001b[0;31m \u001b[0mclean_data1\u001b[0m\u001b[0;34m[\u001b[0m\u001b[0;36m0\u001b[0m\u001b[0;34m]\u001b[0m\u001b[0;34m\u001b[0m\u001b[0;34m\u001b[0m\u001b[0m\n\u001b[0m",
      "\u001b[0;31mIndexError\u001b[0m: list index out of range"
     ]
    }
   ],
   "source": [
    "clean_data1[0]"
   ]
  },
  {
   "cell_type": "code",
   "execution_count": 0,
   "metadata": {
    "colab": {},
    "colab_type": "code",
    "id": "MRgu-lQZhuRs"
   },
   "outputs": [],
   "source": []
  }
 ],
 "metadata": {
  "accelerator": "GPU",
  "colab": {
   "name": "predictions_CNN.ipynb",
   "provenance": [],
   "version": "0.3.2"
  },
  "kernelspec": {
   "display_name": "Python 3",
   "language": "python",
   "name": "python3"
  },
  "language_info": {
   "codemirror_mode": {
    "name": "ipython",
    "version": 3
   },
   "file_extension": ".py",
   "mimetype": "text/x-python",
   "name": "python",
   "nbconvert_exporter": "python",
   "pygments_lexer": "ipython3",
   "version": "3.7.1"
  }
 },
 "nbformat": 4,
 "nbformat_minor": 1
}
