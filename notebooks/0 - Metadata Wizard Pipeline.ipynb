{
 "cells": [
  {
   "cell_type": "markdown",
   "metadata": {},
   "source": [
    "### What is this?\n",
    "What are you doing in this notebook"
   ]
  },
  {
   "cell_type": "code",
   "execution_count": 201,
   "metadata": {},
   "outputs": [
    {
     "name": "stderr",
     "output_type": "stream",
     "text": [
      "Using TensorFlow backend.\n",
      "/Users/pedrohserrano/anaconda3/envs/py36/lib/python3.6/site-packages/tensorflow/python/framework/ops.py:939: DeprecationWarning: builtin type EagerTensor has no __module__ attribute\n",
      "  EagerTensor = c_api.TFE_Py_InitEagerTensor(_EagerTensorBase)\n",
      "/Users/pedrohserrano/anaconda3/envs/py36/lib/python3.6/site-packages/tensorflow/python/util/tf_inspect.py:55: DeprecationWarning: inspect.getargspec() is deprecated, use inspect.signature() or inspect.getfullargspec()\n",
      "  if d.decorator_argspec is not None), _inspect.getargspec(target))\n"
     ]
    }
   ],
   "source": [
    "import pandas as pd\n",
    "import turicreate as tc\n",
    "import numpy\n",
    "from pycm import *\n",
    "from keras.models import Sequential\n",
    "from keras.layers import Dense, Dropout\n",
    "from keras.wrappers.scikit_learn import KerasClassifier\n",
    "from keras.utils import np_utils\n",
    "from sklearn.model_selection import cross_val_score\n",
    "from sklearn.model_selection import KFold\n",
    "from sklearn.preprocessing import LabelEncoder\n",
    "from sklearn.pipeline import Pipeline"
   ]
  },
  {
   "cell_type": "markdown",
   "metadata": {},
   "source": [
    "### Dataset with annotated classes to train the model"
   ]
  },
  {
   "cell_type": "code",
   "execution_count": 16,
   "metadata": {},
   "outputs": [],
   "source": [
    "input_ncbi = pd.read_csv('../datasets/NCBIfullset.tsv', sep = '\\t', header = None)\n",
    "input_ncbi.columns = ['pubmed_id','value','class','id_ontology']"
   ]
  },
  {
   "cell_type": "code",
   "execution_count": 28,
   "metadata": {},
   "outputs": [],
   "source": [
    "table_all_diseases = input_ncbi[~input_ncbi['value'].isnull()]"
   ]
  },
  {
   "cell_type": "markdown",
   "metadata": {},
   "source": [
    "#### Creating a dataset for diseases \n",
    "*Example*"
   ]
  },
  {
   "cell_type": "code",
   "execution_count": 9,
   "metadata": {},
   "outputs": [
    {
     "data": {
      "text/html": [
       "<div>\n",
       "<style scoped>\n",
       "    .dataframe tbody tr th:only-of-type {\n",
       "        vertical-align: middle;\n",
       "    }\n",
       "\n",
       "    .dataframe tbody tr th {\n",
       "        vertical-align: top;\n",
       "    }\n",
       "\n",
       "    .dataframe thead th {\n",
       "        text-align: right;\n",
       "    }\n",
       "</style>\n",
       "<table border=\"1\" class=\"dataframe\">\n",
       "  <thead>\n",
       "    <tr style=\"text-align: right;\">\n",
       "      <th></th>\n",
       "      <th>pubmed_id</th>\n",
       "      <th>value</th>\n",
       "      <th>class</th>\n",
       "      <th>id_ontology</th>\n",
       "    </tr>\n",
       "  </thead>\n",
       "  <tbody>\n",
       "    <tr>\n",
       "      <th>2</th>\n",
       "      <td>10192393</td>\n",
       "      <td>skin tumour</td>\n",
       "      <td>DiseaseClass</td>\n",
       "      <td>D012878</td>\n",
       "    </tr>\n",
       "    <tr>\n",
       "      <th>3</th>\n",
       "      <td>10192393</td>\n",
       "      <td>cancer</td>\n",
       "      <td>DiseaseClass</td>\n",
       "      <td>D009369</td>\n",
       "    </tr>\n",
       "    <tr>\n",
       "      <th>4</th>\n",
       "      <td>10192393</td>\n",
       "      <td>colon cancers</td>\n",
       "      <td>DiseaseClass</td>\n",
       "      <td>D003110</td>\n",
       "    </tr>\n",
       "    <tr>\n",
       "      <th>5</th>\n",
       "      <td>10192393</td>\n",
       "      <td>adenomatous polyposis coli</td>\n",
       "      <td>SpecificDisease</td>\n",
       "      <td>D011125</td>\n",
       "    </tr>\n",
       "    <tr>\n",
       "      <th>6</th>\n",
       "      <td>10192393</td>\n",
       "      <td>APC</td>\n",
       "      <td>SpecificDisease</td>\n",
       "      <td>D011125</td>\n",
       "    </tr>\n",
       "  </tbody>\n",
       "</table>\n",
       "</div>"
      ],
      "text/plain": [
       "  pubmed_id                       value            class id_ontology\n",
       "2  10192393                 skin tumour     DiseaseClass     D012878\n",
       "3  10192393                      cancer     DiseaseClass     D009369\n",
       "4  10192393               colon cancers     DiseaseClass     D003110\n",
       "5  10192393  adenomatous polyposis coli  SpecificDisease     D011125\n",
       "6  10192393                         APC  SpecificDisease     D011125"
      ]
     },
     "execution_count": 9,
     "metadata": {},
     "output_type": "execute_result"
    }
   ],
   "source": [
    "table_all_diseases.head()"
   ]
  },
  {
   "cell_type": "code",
   "execution_count": 13,
   "metadata": {},
   "outputs": [
    {
     "data": {
      "text/html": [
       "<div>\n",
       "<style scoped>\n",
       "    .dataframe tbody tr th:only-of-type {\n",
       "        vertical-align: middle;\n",
       "    }\n",
       "\n",
       "    .dataframe tbody tr th {\n",
       "        vertical-align: top;\n",
       "    }\n",
       "\n",
       "    .dataframe thead th {\n",
       "        text-align: right;\n",
       "    }\n",
       "</style>\n",
       "<table border=\"1\" class=\"dataframe\">\n",
       "  <thead>\n",
       "    <tr style=\"text-align: right;\">\n",
       "      <th></th>\n",
       "      <th>pubmed_id</th>\n",
       "      <th>value</th>\n",
       "      <th>class</th>\n",
       "      <th>id_ontology</th>\n",
       "    </tr>\n",
       "  </thead>\n",
       "  <tbody>\n",
       "    <tr>\n",
       "      <th>0</th>\n",
       "      <td>10192393|t|A common human skin tumour is cause...</td>\n",
       "      <td>NaN</td>\n",
       "      <td>NaN</td>\n",
       "      <td>NaN</td>\n",
       "    </tr>\n",
       "    <tr>\n",
       "      <th>1</th>\n",
       "      <td>10192393|a|WNT signalling orchestrates a numbe...</td>\n",
       "      <td>NaN</td>\n",
       "      <td>NaN</td>\n",
       "      <td>NaN</td>\n",
       "    </tr>\n",
       "    <tr>\n",
       "      <th>2</th>\n",
       "      <td>10192393</td>\n",
       "      <td>skin tumour</td>\n",
       "      <td>DiseaseClass</td>\n",
       "      <td>D012878</td>\n",
       "    </tr>\n",
       "    <tr>\n",
       "      <th>3</th>\n",
       "      <td>10192393</td>\n",
       "      <td>cancer</td>\n",
       "      <td>DiseaseClass</td>\n",
       "      <td>D009369</td>\n",
       "    </tr>\n",
       "    <tr>\n",
       "      <th>4</th>\n",
       "      <td>10192393</td>\n",
       "      <td>colon cancers</td>\n",
       "      <td>DiseaseClass</td>\n",
       "      <td>D003110</td>\n",
       "    </tr>\n",
       "  </tbody>\n",
       "</table>\n",
       "</div>"
      ],
      "text/plain": [
       "                                           pubmed_id          value  \\\n",
       "0  10192393|t|A common human skin tumour is cause...            NaN   \n",
       "1  10192393|a|WNT signalling orchestrates a numbe...            NaN   \n",
       "2                                           10192393    skin tumour   \n",
       "3                                           10192393         cancer   \n",
       "4                                           10192393  colon cancers   \n",
       "\n",
       "          class id_ontology  \n",
       "0           NaN         NaN  \n",
       "1           NaN         NaN  \n",
       "2  DiseaseClass     D012878  \n",
       "3  DiseaseClass     D009369  \n",
       "4  DiseaseClass     D003110  "
      ]
     },
     "execution_count": 13,
     "metadata": {},
     "output_type": "execute_result"
    }
   ],
   "source": [
    "input_ncbi.head()"
   ]
  },
  {
   "cell_type": "markdown",
   "metadata": {},
   "source": [
    "#### Creating a dataset for titles and abstracts"
   ]
  },
  {
   "cell_type": "code",
   "execution_count": 40,
   "metadata": {},
   "outputs": [],
   "source": [
    "raw = input_ncbi[~input_ncbi['pubmed_id'].isnull()]\n",
    "vec_raw = raw[raw['value'].isnull()]['pubmed_id']\n",
    "vec_split = []\n",
    "for line in vec_raw:\n",
    "    vec_split.append(line.split(\"|\"))"
   ]
  },
  {
   "cell_type": "code",
   "execution_count": 43,
   "metadata": {},
   "outputs": [],
   "source": [
    "corpus = pd.DataFrame(vec_split)\n",
    "corpus.columns = ['pubmed_id','type','text']"
   ]
  },
  {
   "cell_type": "code",
   "execution_count": 48,
   "metadata": {},
   "outputs": [],
   "source": [
    "df_titles = corpus[corpus['type'] == 't'][['pubmed_id','text']]\n",
    "df_abstracts = corpus[corpus['type'] == 'a'][['pubmed_id','text']]"
   ]
  },
  {
   "cell_type": "code",
   "execution_count": 57,
   "metadata": {},
   "outputs": [],
   "source": [
    "#pd.pivot_table(corpus, values=None, index='pubmed_id', columns='type')"
   ]
  },
  {
   "cell_type": "markdown",
   "metadata": {},
   "source": [
    "#### Creating unique classes\n",
    "\n",
    "If the same disease name is annotated to more than one ontology classes - then a new synthetic class is assigned which is the one which occurs more number of times (Consensus Approach)"
   ]
  },
  {
   "cell_type": "code",
   "execution_count": 170,
   "metadata": {},
   "outputs": [],
   "source": [
    "def create_class_table(table_all_diseases):\n",
    "    df_diseases = pd.pivot_table(table_all_diseases, values = 'pubmed_id', index='value', columns='class', aggfunc= 'count').reset_index()\n",
    "    df_diseases['max_value'] = df_diseases[[\"CompositeMention\", \"DiseaseClass\", \"Modifier\",\"SpecificDisease\"]].max(axis=1)\n",
    "    matching = []\n",
    "    for index, row in df_diseases.iterrows():\n",
    "        if (row['CompositeMention']==row['max_value']):\n",
    "            matching.append('CompositeMention')\n",
    "        elif (row['DiseaseClass']==row['max_value']):\n",
    "            matching.append('DiseaseClass')\n",
    "        elif (row['Modifier']==row['max_value']):\n",
    "            matching.append('Modifer')\n",
    "        else:\n",
    "            matching.append('SpecificDisease')\n",
    "    df_diseases['synthetic_class'] = matching\n",
    "    return df_diseases"
   ]
  },
  {
   "cell_type": "code",
   "execution_count": 171,
   "metadata": {},
   "outputs": [],
   "source": [
    "df_diseases = create_class_table(table_all_diseases)"
   ]
  },
  {
   "cell_type": "code",
   "execution_count": 238,
   "metadata": {},
   "outputs": [],
   "source": [
    "grouped = df_diseases.groupby('synthetic_class').count()['value']"
   ]
  },
  {
   "cell_type": "code",
   "execution_count": 240,
   "metadata": {},
   "outputs": [
    {
     "data": {
      "text/plain": [
       "synthetic_class\n",
       "CompositeMention    0.052434\n",
       "DiseaseClass        0.267322\n",
       "Modifer             0.103933\n",
       "SpecificDisease     0.576311\n",
       "Name: value, dtype: float64"
      ]
     },
     "execution_count": 240,
     "metadata": {},
     "output_type": "execute_result"
    }
   ],
   "source": [
    "grouped/grouped.sum()"
   ]
  },
  {
   "cell_type": "markdown",
   "metadata": {},
   "source": [
    "Now that we have the dataframe, with classes let's construct features from the corpus"
   ]
  },
  {
   "cell_type": "markdown",
   "metadata": {},
   "source": [
    "### Feature generation using topic modeling\n",
    "#### Warning: Does not work in windows without Docker"
   ]
  },
  {
   "cell_type": "code",
   "execution_count": 243,
   "metadata": {},
   "outputs": [],
   "source": [
    "#sf_diseases = tc.SFrame(data=df_diseases[['value','synthetic_class']])\n",
    "sf_diseases = tc.SFrame(data=df_diseases[df_diseases['synthetic_class'] != 'CompositeMention'][['value','synthetic_class']])"
   ]
  },
  {
   "cell_type": "code",
   "execution_count": 244,
   "metadata": {},
   "outputs": [],
   "source": [
    "disease_classes = [i for i in sf_diseases['synthetic_class'].unique()]"
   ]
  },
  {
   "cell_type": "code",
   "execution_count": 245,
   "metadata": {},
   "outputs": [
    {
     "name": "stdout",
     "output_type": "stream",
     "text": [
      "The diseases classes are: ['Modifer', 'SpecificDisease', 'DiseaseClass']\n"
     ]
    }
   ],
   "source": [
    "print('The diseases classes are: {}'.format(disease_classes))"
   ]
  },
  {
   "cell_type": "code",
   "execution_count": 247,
   "metadata": {},
   "outputs": [],
   "source": [
    "#sf_diseases"
   ]
  },
  {
   "cell_type": "markdown",
   "metadata": {},
   "source": [
    "#### Create Feature using topic modeling"
   ]
  },
  {
   "cell_type": "code",
   "execution_count": 248,
   "metadata": {},
   "outputs": [],
   "source": [
    "def create_features(category_df, n_features):\n",
    "    # Remove stopwords and convert to bag of words\n",
    "    doc = tc.text_analytics.count_words(category_df['value'])\n",
    "    doc = doc.dict_trim_by_keys(tc.text_analytics.stopwords(), True)\n",
    "    \n",
    "    # Learn topic model\n",
    "    model = tc.topic_model.create(doc, verbose=False)\n",
    "    # Agreaggate the unique words\n",
    "    sf_topics = model.get_topics()\n",
    "    #append the topics from abstract text\n",
    "    \n",
    "#    sf_topics = sf_topics.append(text_topics)\n",
    "    sf_words = sf_topics.groupby(key_column_names='word', operations={'sum_scores': tc.aggregate.SUM('score')})\n",
    "    \n",
    "    # Sort the features scores and filter out all those which are key\n",
    "    sf_words = sf_words.sort('sum_scores', ascending= False).filter_by(disease_classes, 'word', exclude=True)\n",
    "    \n",
    "    # Take a look of the features related with this key class\n",
    "    features = [i for i in sf_words['word']][0:n_features] #changable\n",
    "    return sf_words, features"
   ]
  },
  {
   "cell_type": "code",
   "execution_count": 249,
   "metadata": {},
   "outputs": [],
   "source": [
    "#sf_diseases"
   ]
  },
  {
   "cell_type": "code",
   "execution_count": 250,
   "metadata": {},
   "outputs": [
    {
     "data": {
      "text/html": [
       "<pre>Learning a topic model</pre>"
      ],
      "text/plain": [
       "Learning a topic model"
      ]
     },
     "metadata": {},
     "output_type": "display_data"
    },
    {
     "data": {
      "text/html": [
       "<pre>       Number of documents      2024</pre>"
      ],
      "text/plain": [
       "       Number of documents      2024"
      ]
     },
     "metadata": {},
     "output_type": "display_data"
    },
    {
     "data": {
      "text/html": [
       "<pre>           Vocabulary size      1572</pre>"
      ],
      "text/plain": [
       "           Vocabulary size      1572"
      ]
     },
     "metadata": {},
     "output_type": "display_data"
    },
    {
     "data": {
      "text/html": [
       "<pre>   Running collapsed Gibbs sampling</pre>"
      ],
      "text/plain": [
       "   Running collapsed Gibbs sampling"
      ]
     },
     "metadata": {},
     "output_type": "display_data"
    },
    {
     "data": {
      "text/html": [
       "<pre>+-----------+---------------+----------------+-----------------+</pre>"
      ],
      "text/plain": [
       "+-----------+---------------+----------------+-----------------+"
      ]
     },
     "metadata": {},
     "output_type": "display_data"
    },
    {
     "data": {
      "text/html": [
       "<pre>| Iteration | Elapsed Time  | Tokens/Second  | Est. Perplexity |</pre>"
      ],
      "text/plain": [
       "| Iteration | Elapsed Time  | Tokens/Second  | Est. Perplexity |"
      ]
     },
     "metadata": {},
     "output_type": "display_data"
    },
    {
     "data": {
      "text/html": [
       "<pre>+-----------+---------------+----------------+-----------------+</pre>"
      ],
      "text/plain": [
       "+-----------+---------------+----------------+-----------------+"
      ]
     },
     "metadata": {},
     "output_type": "display_data"
    },
    {
     "data": {
      "text/html": [
       "<pre>| 10        | 43.057ms      | 1.37066e+06    | 0               |</pre>"
      ],
      "text/plain": [
       "| 10        | 43.057ms      | 1.37066e+06    | 0               |"
      ]
     },
     "metadata": {},
     "output_type": "display_data"
    },
    {
     "data": {
      "text/html": [
       "<pre>+-----------+---------------+----------------+-----------------+</pre>"
      ],
      "text/plain": [
       "+-----------+---------------+----------------+-----------------+"
      ]
     },
     "metadata": {},
     "output_type": "display_data"
    }
   ],
   "source": [
    "sf_words, features = create_features(sf_diseases, 40)"
   ]
  },
  {
   "cell_type": "markdown",
   "metadata": {},
   "source": [
    "### Make input matrix"
   ]
  },
  {
   "cell_type": "code",
   "execution_count": 251,
   "metadata": {},
   "outputs": [],
   "source": [
    "def get_input_matrix(features, category_df, sf_words):\n",
    "    tuples = []\n",
    "    for word in features:\n",
    "        feature_vector = [1 if (word in i) else 0 for i in category_df['value']]\n",
    "        tuples.append((word, feature_vector))\n",
    "        \n",
    "    sf_features = tc.SFrame({key: value for (key, value) in tuples})\n",
    "    #concatenating the features with the category matrix\n",
    "    category_df = category_df.add_row_number()\n",
    "    sf_features = sf_features.add_row_number()\n",
    "    final_table = category_df.join(sf_features, on='id', how='left')\n",
    "    for f in features:\n",
    "        score = sf_words[sf_words['word'] == str(f)]['sum_scores'].astype(float)[0]\n",
    "        final_table[str(f)] = [(1.0+score) * i for i in final_table[str(f)]]\n",
    "        \n",
    "    return final_table"
   ]
  },
  {
   "cell_type": "code",
   "execution_count": 252,
   "metadata": {},
   "outputs": [],
   "source": [
    "input_matrix = get_input_matrix(features, sf_diseases, sf_words)"
   ]
  },
  {
   "cell_type": "code",
   "execution_count": 253,
   "metadata": {},
   "outputs": [],
   "source": [
    "input_matrix = input_matrix.to_dataframe()"
   ]
  },
  {
   "cell_type": "markdown",
   "metadata": {},
   "source": [
    "## Multicalss classification using keras"
   ]
  },
  {
   "cell_type": "code",
   "execution_count": 254,
   "metadata": {},
   "outputs": [],
   "source": [
    "# fix random seed for reproducibility\n",
    "seed = 7\n",
    "numpy.random.seed(seed)"
   ]
  },
  {
   "cell_type": "code",
   "execution_count": 255,
   "metadata": {},
   "outputs": [],
   "source": [
    "epochs=300\n",
    "batch_size=2"
   ]
  },
  {
   "cell_type": "code",
   "execution_count": 256,
   "metadata": {},
   "outputs": [],
   "source": [
    "# load dataset\n",
    "#dataframe = pandas.read_csv(\"feature_matrix_text_topics.csv\")\n",
    "dataset = input_matrix.values"
   ]
  },
  {
   "cell_type": "code",
   "execution_count": 257,
   "metadata": {},
   "outputs": [],
   "source": [
    "X = dataset[:,3:].astype(float) #features\n",
    "Y = dataset[:,2] #target  "
   ]
  },
  {
   "cell_type": "code",
   "execution_count": 258,
   "metadata": {},
   "outputs": [],
   "source": [
    "# encode class values as integers\n",
    "encoder = LabelEncoder()\n",
    "encoder.fit(Y)\n",
    "encoded_Y = encoder.transform(Y)\n",
    "# convert integers to dummy variables (i.e. one hot encoded)\n",
    "dummy_y = np_utils.to_categorical(encoded_Y)"
   ]
  },
  {
   "cell_type": "code",
   "execution_count": 259,
   "metadata": {},
   "outputs": [
    {
     "data": {
      "text/plain": [
       "38"
      ]
     },
     "execution_count": 259,
     "metadata": {},
     "output_type": "execute_result"
    }
   ],
   "source": [
    "X.shape[1]"
   ]
  },
  {
   "cell_type": "code",
   "execution_count": 270,
   "metadata": {},
   "outputs": [
    {
     "data": {
      "text/plain": [
       "['SpecificDisease', 'DiseaseClass', 'Modifer']"
      ]
     },
     "execution_count": 270,
     "metadata": {},
     "output_type": "execute_result"
    }
   ],
   "source": [
    "list(set(Y))"
   ]
  },
  {
   "cell_type": "code",
   "execution_count": 260,
   "metadata": {},
   "outputs": [],
   "source": [
    "#dummy_y"
   ]
  },
  {
   "cell_type": "code",
   "execution_count": 261,
   "metadata": {},
   "outputs": [],
   "source": [
    "# define baseline model\n",
    "def baseline_model():\n",
    "    # create model\n",
    "    model = Sequential()\n",
    "    model.add(Dense(20, input_dim=39, activation='relu')) #dimension is number of features\n",
    "    model.add(Dense(3, activation='sigmoid')) #no of classes\n",
    "    # Compile model\n",
    "    model.compile(loss='categorical_crossentropy', optimizer='adamax', metrics=['accuracy'])\n",
    "    return model"
   ]
  },
  {
   "cell_type": "code",
   "execution_count": 277,
   "metadata": {},
   "outputs": [],
   "source": [
    "# define baseline model\n",
    "def second_model():\n",
    "    # create model\n",
    "    model = Sequential()\n",
    "    #dimension is number of features\n",
    "    model.add(Dense(20, input_dim=X.shape[1], activation='relu'))\n",
    "    model.add(Dense(20, activation='relu'))\n",
    "    model.add(Dropout(0.5))\n",
    "    model.add(Dense(20, activation='relu'))\n",
    "    model.add(Dropout(0.5))\n",
    "    model.add(Dense(len(list(set(Y))), activation='sigmoid')) #no of classes\n",
    "    # Compile model\n",
    "    model.compile(loss='categorical_crossentropy', optimizer='adamax', metrics=['accuracy'])\n",
    "    return model"
   ]
  },
  {
   "cell_type": "code",
   "execution_count": 278,
   "metadata": {},
   "outputs": [],
   "source": [
    "#estimator = KerasClassifier(build_fn=second_model, epochs=10, batch_size=5, verbose=0) #baseline"
   ]
  },
  {
   "cell_type": "code",
   "execution_count": 279,
   "metadata": {},
   "outputs": [],
   "source": [
    "estimator = KerasClassifier(build_fn=second_model, epochs=epochs, batch_size=batch_size, verbose=0)"
   ]
  },
  {
   "cell_type": "code",
   "execution_count": 280,
   "metadata": {},
   "outputs": [],
   "source": [
    "#kfold = KFold(n_splits=10, shuffle=True, random_state=seed)"
   ]
  },
  {
   "cell_type": "code",
   "execution_count": 281,
   "metadata": {},
   "outputs": [],
   "source": [
    "#results = cross_val_score(estimator, X, dummy_y, cv=kfold)\n",
    "#print(\"Baseline: %.2f%% (%.2f%%)\" % (results.mean()*100, results.std()*100))"
   ]
  },
  {
   "cell_type": "code",
   "execution_count": 282,
   "metadata": {},
   "outputs": [
    {
     "name": "stderr",
     "output_type": "stream",
     "text": [
      "/Users/pedrohserrano/anaconda3/envs/py36/lib/python3.6/site-packages/tensorflow/python/util/tf_inspect.py:55: DeprecationWarning: inspect.getargspec() is deprecated, use inspect.signature() or inspect.getfullargspec()\n",
      "  if d.decorator_argspec is not None), _inspect.getargspec(target))\n"
     ]
    },
    {
     "data": {
      "text/plain": [
       "<keras.callbacks.History at 0x1a1c35f898>"
      ]
     },
     "execution_count": 282,
     "metadata": {},
     "output_type": "execute_result"
    }
   ],
   "source": [
    "estimator.fit(X,dummy_y)"
   ]
  },
  {
   "cell_type": "code",
   "execution_count": 283,
   "metadata": {},
   "outputs": [
    {
     "name": "stdout",
     "output_type": "stream",
     "text": [
      "2024/2024 [==============================] - 0s 155us/step\n"
     ]
    }
   ],
   "source": [
    "y_predict = estimator.predict(X, batch_size=2, verbose=1, steps=None) "
   ]
  },
  {
   "cell_type": "code",
   "execution_count": 284,
   "metadata": {},
   "outputs": [
    {
     "data": {
      "text/plain": [
       "[0, 1, 2]"
      ]
     },
     "execution_count": 284,
     "metadata": {},
     "output_type": "execute_result"
    }
   ],
   "source": [
    "cm = ConfusionMatrix(actual_vector=encoded_Y, predict_vector=y_predict) # Create CM From Data\n",
    "cm.classes"
   ]
  },
  {
   "cell_type": "code",
   "execution_count": 285,
   "metadata": {},
   "outputs": [
    {
     "name": "stdout",
     "output_type": "stream",
     "text": [
      "Predict          0        1        2        \n",
      "Actual\n",
      "0                219      0        352      \n",
      "1                0        0        222      \n",
      "2                38       0        1193     \n",
      "\n",
      "\n",
      "\n",
      "\n",
      "Overall Statistics : \n",
      "\n",
      "95% CI                                                           (0.67762,0.71764)\n",
      "Bennett_S                                                        0.54644\n",
      "Chi-Squared                                                      None\n",
      "Chi-Squared DF                                                   4\n",
      "Conditional Entropy                                              0.39184\n",
      "Cramer_V                                                         None\n",
      "Cross Entropy                                                    None\n",
      "Gwet_AC1                                                         0.62046\n",
      "Joint Entropy                                                    1.69293\n",
      "KL Divergence                                                    None\n",
      "Kappa                                                            0.30201\n",
      "Kappa 95% CI                                                     (0.25582,0.3482)\n",
      "Kappa No Prevalence                                              0.39526\n",
      "Kappa Standard Error                                             0.02357\n",
      "Kappa Unbiased                                                   0.25643\n",
      "Lambda A                                                         0.22825\n",
      "Lambda B                                                         0.0\n",
      "Mutual Information                                               None\n",
      "Overall_ACC                                                      0.69763\n",
      "Overall_J                                                        (1.02055,0.34018)\n",
      "Overall_RACC                                                     0.5668\n",
      "Overall_RACCU                                                    0.59335\n",
      "PPV_Macro                                                        None\n",
      "PPV_Micro                                                        0.69763\n",
      "Phi-Squared                                                      None\n",
      "Reference Entropy                                                1.30109\n",
      "Response Entropy                                                 None\n",
      "Scott_PI                                                         0.25643\n",
      "Standard Error                                                   0.01021\n",
      "Strength_Of_Agreement(Altman)                                    Fair\n",
      "Strength_Of_Agreement(Cicchetti)                                 Poor\n",
      "Strength_Of_Agreement(Fleiss)                                    Poor\n",
      "Strength_Of_Agreement(Landis and Koch)                           Fair\n",
      "TPR_Macro                                                        0.45089\n",
      "TPR_Micro                                                        0.69763\n",
      "\n",
      "Class Statistics :\n",
      "\n",
      "Classes                                                          0                       1                       2                       \n",
      "ACC(Accuracy)                                                    0.80731                 0.89032                 0.69763                 \n",
      "BM(Informedness or bookmaker informedness)                       0.35738                 0.0                     0.2453                  \n",
      "DOR(Diagnostic odds ratio)                                       23.16724                None                    11.97813                \n",
      "ERR(Error rate)                                                  0.19269                 0.10968                 0.30237                 \n",
      "F0.5(F0.5 score)                                                 0.6848                  0.0                     0.71876                 \n",
      "F1(F1 score - harmonic mean of precision and sensitivity)        0.52899                 0.0                     0.79586                 \n",
      "F2(F2 score)                                                     0.43093                 0.0                     0.8915                  \n",
      "FDR(False discovery rate)                                        0.14786                 None                    0.32484                 \n",
      "FN(False negative/miss/type 2 error)                             352                     222                     38                      \n",
      "FNR(Miss rate or false negative rate)                            0.61646                 1.0                     0.03087                 \n",
      "FOR(False omission rate)                                         0.19921                 0.10968                 0.14786                 \n",
      "FP(False positive/type 1 error/false alarm)                      38                      0                       574                     \n",
      "FPR(Fall-out or false positive rate)                             0.02615                 0.0                     0.72383                 \n",
      "G(G-measure geometric mean of precision and sensitivity)         0.57169                 None                    0.8089                  \n",
      "J(Jaccard index)                                                 0.35961                 0.0                     0.66094                 \n",
      "LR+(Positive likelihood ratio)                                   14.66527                None                    1.33889                 \n",
      "LR-(Negative likelihood ratio)                                   0.63302                 1.0                     0.11178                 \n",
      "MCC(Matthews correlation coefficient)                            0.48306                 None                    0.35964                 \n",
      "MK(Markedness)                                                   0.65293                 None                    0.5273                  \n",
      "N(Condition negative)                                            1453                    1802                    793                     \n",
      "NPV(Negative predictive value)                                   0.80079                 0.89032                 0.85214                 \n",
      "P(Condition positive)                                            571                     222                     1231                    \n",
      "POP(Population)                                                  2024                    2024                    2024                    \n",
      "PPV(Precision or positive predictive value)                      0.85214                 None                    0.67516                 \n",
      "PRE(Prevalence)                                                  0.28211                 0.10968                 0.6082                  \n",
      "RACC(Random accuracy)                                            0.03582                 0.0                     0.53097                 \n",
      "RACCU(Random accuracy unbiased)                                  0.04184                 0.00301                 0.54851                 \n",
      "TN(True negative/correct rejection)                              1415                    1802                    219                     \n",
      "TNR(Specificity or true negative rate)                           0.97385                 1.0                     0.27617                 \n",
      "TON(Test outcome negative)                                       1767                    2024                    257                     \n",
      "TOP(Test outcome positive)                                       257                     0                       1767                    \n",
      "TP(True positive/hit)                                            219                     0                       1193                    \n",
      "TPR(Sensitivity, recall, hit rate, or true positive rate)        0.38354                 0.0                     0.96913                 \n",
      "\n"
     ]
    }
   ],
   "source": [
    "cm.table\n",
    "print(cm)"
   ]
  },
  {
   "cell_type": "code",
   "execution_count": null,
   "metadata": {},
   "outputs": [],
   "source": []
  }
 ],
 "metadata": {
  "kernelspec": {
   "display_name": "Python 3",
   "language": "python",
   "name": "python3"
  },
  "language_info": {
   "codemirror_mode": {
    "name": "ipython",
    "version": 3
   },
   "file_extension": ".py",
   "mimetype": "text/x-python",
   "name": "python",
   "nbconvert_exporter": "python",
   "pygments_lexer": "ipython3",
   "version": "3.6.5"
  }
 },
 "nbformat": 4,
 "nbformat_minor": 2
}
