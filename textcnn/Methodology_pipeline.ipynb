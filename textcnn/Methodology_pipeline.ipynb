{
 "cells": [
  {
   "cell_type": "markdown",
   "metadata": {},
   "source": [
    "## Predicting metadata using Scientific publications\n",
    "### Use Case: NCBI Disease Corpus \n",
    "* The idea is given an abstract the method predicts disease names\n",
    "* The targets are MeSH unique IDs of the disease names"
   ]
  },
  {
   "cell_type": "markdown",
   "metadata": {},
   "source": [
    "#### When using Google Colab GPU"
   ]
  },
  {
   "cell_type": "code",
   "execution_count": 0,
   "metadata": {
    "colab": {
     "base_uri": "https://localhost:8080/",
     "height": 36
    },
    "colab_type": "code",
    "executionInfo": {
     "elapsed": 1832,
     "status": "ok",
     "timestamp": 1549815888079,
     "user": {
      "displayName": "Stuti Nayak",
      "photoUrl": "https://lh4.googleusercontent.com/-dCyvZuZkEEE/AAAAAAAAAAI/AAAAAAAAUDY/4NHoYh2M-mw/s64/photo.jpg",
      "userId": "10886436706821169763"
     },
     "user_tz": -60
    },
    "id": "WD81qF8NzcxN",
    "outputId": "0837f03c-75c8-4fd4-b881-99f402add796"
   },
   "outputs": [
    {
     "name": "stdout",
     "output_type": "stream",
     "text": [
      "/content\n"
     ]
    }
   ],
   "source": [
    "!pwd"
   ]
  },
  {
   "cell_type": "code",
   "execution_count": 0,
   "metadata": {
    "colab": {
     "base_uri": "https://localhost:8080/",
     "height": 36
    },
    "colab_type": "code",
    "executionInfo": {
     "elapsed": 1303,
     "status": "ok",
     "timestamp": 1550229092467,
     "user": {
      "displayName": "Stuti Nayak",
      "photoUrl": "https://lh4.googleusercontent.com/-dCyvZuZkEEE/AAAAAAAAAAI/AAAAAAAAUDY/4NHoYh2M-mw/s64/photo.jpg",
      "userId": "10886436706821169763"
     },
     "user_tz": -60
    },
    "id": "E5ekZl-Xl_4C",
    "outputId": "cbebc575-3c34-4472-8187-0f3f1ba4584c"
   },
   "outputs": [
    {
     "name": "stdout",
     "output_type": "stream",
     "text": [
      "Drive already mounted at /content/drive/; to attempt to forcibly remount, call drive.mount(\"/content/drive/\", force_remount=True).\n"
     ]
    }
   ],
   "source": [
    "from google.colab import drive\n",
    "drive.mount('/content/drive/')"
   ]
  },
  {
   "cell_type": "code",
   "execution_count": 0,
   "metadata": {
    "colab": {},
    "colab_type": "code",
    "id": "AxkMmvb4l2KT"
   },
   "outputs": [],
   "source": [
    "import os\n",
    "os.chdir(\"drive/My Drive/textcnn_updated/textcnn\")"
   ]
  },
  {
   "cell_type": "code",
   "execution_count": 2,
   "metadata": {
    "colab": {
     "base_uri": "https://localhost:8080/",
     "height": 260
    },
    "colab_type": "code",
    "executionInfo": {
     "elapsed": 3013,
     "status": "ok",
     "timestamp": 1551221940258,
     "user": {
      "displayName": "Stuti Nayak",
      "photoUrl": "https://lh4.googleusercontent.com/-dCyvZuZkEEE/AAAAAAAAAAI/AAAAAAAAUDY/4NHoYh2M-mw/s64/photo.jpg",
      "userId": "10886436706821169763"
     },
     "user_tz": -60
    },
    "id": "L4ts7yoymM3S",
    "outputId": "d869f00f-948b-4ef8-bf22-f6ef12340154"
   },
   "outputs": [
    {
     "name": "stdout",
     "output_type": "stream",
     "text": [
      "clean_data_abstract_ln_200.pkl\tNCBItrainset.csv\n",
      "clean_data.txt\t\t\tnetwork.py\n",
      "components.py\t\t\tpredictions-Copy1.ipynb\n",
      "dropout_layers.py\t\tpredictions.ipynb\n",
      "first_review.png\t\t__pycache__\n",
      "glove.42B.300d.txt\t\trandom.csv\n",
      "glove.42B.300d.txt.1\t\trandom.gsheet\n",
      "glove.42B.300d.zip\t\tresults_cnn_disease_names.csv\n",
      "glove.42B.300d.zip.1\t\tresults_cnn_superclass.csv\n",
      "glove.42B.300d.zip.2\t\ttext.txt\n",
      "linked_diseases_abstract.csv\tUntitled.ipynb\n",
      "NCBI_corpus\t\t\tutils\n",
      "NCBI_corpus.zip\n"
     ]
    }
   ],
   "source": [
    "!ls"
   ]
  },
  {
   "cell_type": "code",
   "execution_count": 167,
   "metadata": {
    "colab": {
     "base_uri": "https://localhost:8080/",
     "height": 36
    },
    "colab_type": "code",
    "executionInfo": {
     "elapsed": 422,
     "status": "ok",
     "timestamp": 1551228499087,
     "user": {
      "displayName": "Stuti Nayak",
      "photoUrl": "https://lh4.googleusercontent.com/-dCyvZuZkEEE/AAAAAAAAAAI/AAAAAAAAUDY/4NHoYh2M-mw/s64/photo.jpg",
      "userId": "10886436706821169763"
     },
     "user_tz": -60
    },
    "id": "se7u7ccOmNBD",
    "outputId": "d910eb79-b8d3-4620-c333-876dbb19af70"
   },
   "outputs": [
    {
     "data": {
      "text/plain": [
       "'/device:GPU:0'"
      ]
     },
     "execution_count": 167,
     "metadata": {
      "tags": []
     },
     "output_type": "execute_result"
    }
   ],
   "source": [
    "import tensorflow as tf\n",
    "tf.test.gpu_device_name()"
   ]
  },
  {
   "cell_type": "code",
   "execution_count": 168,
   "metadata": {
    "colab": {
     "base_uri": "https://localhost:8080/",
     "height": 522
    },
    "colab_type": "code",
    "executionInfo": {
     "elapsed": 395,
     "status": "ok",
     "timestamp": 1551228500444,
     "user": {
      "displayName": "Stuti Nayak",
      "photoUrl": "https://lh4.googleusercontent.com/-dCyvZuZkEEE/AAAAAAAAAAI/AAAAAAAAUDY/4NHoYh2M-mw/s64/photo.jpg",
      "userId": "10886436706821169763"
     },
     "user_tz": -60
    },
    "id": "u_4Izvq1mS5v",
    "outputId": "dd8f8b71-4978-4a4b-fa93-5b43cfa63d19"
   },
   "outputs": [
    {
     "data": {
      "text/plain": [
       "[name: \"/device:CPU:0\"\n",
       " device_type: \"CPU\"\n",
       " memory_limit: 268435456\n",
       " locality {\n",
       " }\n",
       " incarnation: 13973072041570232803, name: \"/device:XLA_CPU:0\"\n",
       " device_type: \"XLA_CPU\"\n",
       " memory_limit: 17179869184\n",
       " locality {\n",
       " }\n",
       " incarnation: 61085472504264535\n",
       " physical_device_desc: \"device: XLA_CPU device\", name: \"/device:XLA_GPU:0\"\n",
       " device_type: \"XLA_GPU\"\n",
       " memory_limit: 17179869184\n",
       " locality {\n",
       " }\n",
       " incarnation: 4045528609568371374\n",
       " physical_device_desc: \"device: XLA_GPU device\", name: \"/device:GPU:0\"\n",
       " device_type: \"GPU\"\n",
       " memory_limit: 10791449396\n",
       " locality {\n",
       "   bus_id: 1\n",
       "   links {\n",
       "   }\n",
       " }\n",
       " incarnation: 2439856266245656418\n",
       " physical_device_desc: \"device: 0, name: Tesla K80, pci bus id: 0000:00:04.0, compute capability: 3.7\"]"
      ]
     },
     "execution_count": 168,
     "metadata": {
      "tags": []
     },
     "output_type": "execute_result"
    }
   ],
   "source": [
    "from tensorflow.python.client import device_lib\n",
    "device_lib.list_local_devices()"
   ]
  },
  {
   "cell_type": "code",
   "execution_count": 0,
   "metadata": {
    "colab": {},
    "colab_type": "code",
    "id": "lcMJFXHalq_V"
   },
   "outputs": [],
   "source": [
    "from keras.preprocessing.text import Tokenizer\n",
    "from keras.preprocessing.sequence import pad_sequences\n",
    "from keras.models import Sequential\n",
    "from keras.layers import Dense, Flatten, LSTM, Conv1D, MaxPooling1D, Dropout, Activation,Input\n",
    "from keras.layers.embeddings import Embedding\n",
    "\n",
    "from sklearn.preprocessing import MultiLabelBinarizer\n",
    "import csv,pandas,re\n",
    "from keras.layers import Dense, LSTM, Dropout, Bidirectional, Embedding\n",
    "from keras.layers import Embedding\n",
    "import numpy as np\n",
    "from keras.models import Model\n",
    "\n",
    "import time,os\n",
    "import components as com\n",
    "\n",
    "# Torch imports\n",
    "import torch\n",
    "import torch.nn as nn\n",
    "from torch import optim\n",
    "import network as net\n",
    "import traceback\n",
    "from utils import tensor_utils as tu\n",
    "\n",
    "from tqdm import tqdm\n",
    "\n",
    "import pickle\n",
    "import json\n",
    "import requests\n",
    "from pprint import pprint\n",
    "\n",
    "\n",
    "\n",
    "\n",
    "device = torch.device(\"cuda\")\n",
    "cpu = torch.device(\"cpu\")"
   ]
  },
  {
   "cell_type": "code",
   "execution_count": 0,
   "metadata": {
    "colab": {},
    "colab_type": "code",
    "id": "xAmL2LYOzcxS"
   },
   "outputs": [],
   "source": [
    "debug = True\n",
    "MAX_SEQUENCE_LENGTH = 200\n",
    "\n",
    "\n",
    "class BadResponseException(Exception):\n",
    "    pass\n",
    "\n",
    "\n",
    "class Timer:\n",
    "    \"\"\" Simple block which can be called as a context, to know the time of a block. \"\"\"\n",
    "    def __enter__(self):\n",
    "        self.start = time.perf_counter()\n",
    "        return self\n",
    "\n",
    "    def __exit__(self, *args):\n",
    "        self.end = time.perf_counter()\n",
    "        self.interval = self.end - self.start"
   ]
  },
  {
   "cell_type": "markdown",
   "metadata": {},
   "source": [
    "#### Preprocessing: cleaning string from characters and tokenization"
   ]
  },
  {
   "cell_type": "code",
   "execution_count": 0,
   "metadata": {
    "colab": {},
    "colab_type": "code",
    "id": "Vjzk8D7QzcxW"
   },
   "outputs": [],
   "source": [
    "#data helpers - copied from https://github.com/bhaveshoswal/CNN-text-classification-keras\n",
    "def clean_str(string):\n",
    "    \"\"\"\n",
    "    Tokenization/string cleaning for datasets.\n",
    "    Original taken from https://github.com/yoonkim/CNN_sentence/blob/master/process_data.py\n",
    "    \"\"\"\n",
    "    string = re.sub(r\"[^A-Za-z0-9(),!?\\'\\`]\", \" \", string)\n",
    "    string = re.sub(r\"\\'s\", \" \\'s\", string)\n",
    "    string = re.sub(r\"\\'ve\", \" \\'ve\", string)\n",
    "    string = re.sub(r\"n\\'t\", \" n\\'t\", string)\n",
    "    string = re.sub(r\"\\'re\", \" \\'re\", string)\n",
    "    string = re.sub(r\"\\'d\", \" \\'d\", string)\n",
    "    string = re.sub(r\"\\'ll\", \" \\'ll\", string)\n",
    "    string = re.sub(r\",\", \" , \", string)\n",
    "    string = re.sub(r\"!\", \" ! \", string)\n",
    "    string = re.sub(r\"\\(\", \" \", string)\n",
    "    string = re.sub(r\"\\)\", \" \", string)\n",
    "    string = re.sub(r\"\\?\", \" \", string)\n",
    "    string = re.sub(r\"\\s{2,}\", \" \", string)\n",
    "    return string.strip().lower()"
   ]
  },
  {
   "cell_type": "markdown",
   "metadata": {},
   "source": [
    "#### SPARQL Query for getting the super classes of disease terms"
   ]
  },
  {
   "cell_type": "code",
   "execution_count": null,
   "metadata": {},
   "outputs": [],
   "source": [
    "def _get_class_for_doi_(doi:str) -> list:\n",
    "    url = \"http://id.nlm.nih.gov/mesh/sparql\"\n",
    "    query = \"\"\"\n",
    "                PREFIX rdf: <http://www.w3.org/1999/02/22-rdf-syntax-ns#>\n",
    "                PREFIX rdfs: <http://www.w3.org/2000/01/rdf-schema#>\n",
    "                PREFIX xsd: <http://www.w3.org/2001/XMLSchema#>\n",
    "                PREFIX owl: <http://www.w3.org/2002/07/owl#>\n",
    "                PREFIX meshv: <http://id.nlm.nih.gov/mesh/vocab#>\n",
    "                PREFIX mesh: <http://id.nlm.nih.gov/mesh/>\n",
    "                PREFIX mesh2015: <http://id.nlm.nih.gov/mesh/2015/>\n",
    "                PREFIX mesh2016: <http://id.nlm.nih.gov/mesh/2016/>\n",
    "                PREFIX mesh2017: <http://id.nlm.nih.gov/mesh/2017/>\n",
    "                PREFIX mesh2018: <http://id.nlm.nih.gov/mesh/2018/>\n",
    "                PREFIX mesh2019: <http://id.nlm.nih.gov/mesh/2019/>\n",
    "                SELECT DISTINCT ?p ?label ?uri \n",
    "                WHERE { mesh:%s meshv:broaderDescriptor* ?uri .\n",
    "                    ?uri rdfs:label ?p.\n",
    "                    FILTER NOT EXISTS{\n",
    "                    ?uri meshv:broaderDescriptor ?x\n",
    "                    }\n",
    "                }\n",
    "                \"\"\" % doi\n",
    "    querystring = {\"query\":query, 'format':'json'}\n",
    "    payload = \"\"\n",
    "    headers = {\n",
    "        'cache-control': \"no-cache\",\n",
    "        'Postman-Token': \"c9ace615-1b99-4caf-bcad-97ce1060973e\"\n",
    "        }\n",
    "\n",
    "    response = requests.request(\"GET\", url, data=payload, headers=headers, params=querystring)\n",
    "    return [x['uri']['value'] for x in response.json()['results']['bindings']]\n",
    "\n",
    "\n",
    "def get_classes_for_dois(dois:list) -> list:\n",
    "    cls = []\n",
    "    for doi in dois:\n",
    "        print(\"doi: \", doi)\n",
    "        cls += _get_class_for_doi_(doi)\n",
    "       # print(\"super class\": cls)\n",
    "    return list(set(cls))"
   ]
  },
  {
   "cell_type": "markdown",
   "metadata": {},
   "source": [
    "#### Getting the MeSH terms of predictions of test data (for checking the correctness of output)"
   ]
  },
  {
   "cell_type": "code",
   "execution_count": 0,
   "metadata": {
    "colab": {},
    "colab_type": "code",
    "id": "If6IoP4pkTjA"
   },
   "outputs": [],
   "source": [
    "def get_terms_of_classes(list_terms) -> list:\n",
    "    url = \"http://id.nlm.nih.gov/mesh/sparql\"\n",
    "    query = \"\"\"\n",
    "            PREFIX rdf: <http://www.w3.org/1999/02/22-rdf-syntax-ns#>\n",
    "            PREFIX rdfs: <http://www.w3.org/2000/01/rdf-schema#>\n",
    "            PREFIX xsd: <http://www.w3.org/2001/XMLSchema#>\n",
    "            PREFIX owl: <http://www.w3.org/2002/07/owl#>\n",
    "            PREFIX meshv: <http://id.nlm.nih.gov/mesh/vocab#>\n",
    "            PREFIX mesh: <http://id.nlm.nih.gov/mesh/>\n",
    "            PREFIX mesh2015: <http://id.nlm.nih.gov/mesh/2015/>\n",
    "            PREFIX mesh2016: <http://id.nlm.nih.gov/mesh/2016/>\n",
    "            PREFIX mesh2017: <http://id.nlm.nih.gov/mesh/2017/>\n",
    "            PREFIX mesh2018: <http://id.nlm.nih.gov/mesh/2018/>\n",
    "            PREFIX mesh2019: <http://id.nlm.nih.gov/mesh/2019/>\n",
    "            SELECT DISTINCT ?class\n",
    "            WHERE { mesh:%s rdfs:label ?class . }\n",
    "            \"\"\"%list_terms\n",
    "    querystring = {\"query\":query, 'format':'json'}\n",
    "    payload = \"\"\n",
    "    headers = {\n",
    "        'cache-control': \"no-cache\",\n",
    "        'Postman-Token': \"c9ace615-1b99-4caf-bcad-97ce1060973e\"\n",
    "        }\n",
    "\n",
    "    response = requests.request(\"GET\", url, data=payload, headers=headers, params=querystring)\n",
    "    return [x['class']['value'] for x in response.json()['results']['bindings']]\n",
    "\n",
    "\n",
    "def get_list_for_terms(dois:list) -> list:\n",
    "  cls = []\n",
    "  for doi in dois:\n",
    "    #doi.replace(\"http://id.nlm.nih.gov/mesh/\", \"\")\n",
    "    print(\"doi: \", doi)\n",
    "    cls += get_terms_of_classes(doi.replace(\"http://id.nlm.nih.gov/mesh/\", \"\"))\n",
    "    print(\"class: \", cls)\n",
    "  return list(set(cls))"
   ]
  },
  {
   "cell_type": "markdown",
   "metadata": {
    "colab": {},
    "colab_type": "code",
    "id": "qjU2fRG6kTve"
   },
   "source": [
    "#### Extracting abstracts and labels from the input file and cleaning data"
   ]
  },
  {
   "cell_type": "code",
   "execution_count": 0,
   "metadata": {
    "colab": {},
    "colab_type": "code",
    "id": "DClPtpKbzcxZ"
   },
   "outputs": [],
   "source": [
    "df = pandas.read_csv('linked_diseases_abstract.csv')\n",
    "data = [x for x in df.to_records(index=False)] \n",
    "def read_till_next(data,index):\n",
    "    temp = []\n",
    "    temp_loc = 0\n",
    "    for d in data[index+1:]:\n",
    "        if 'a' in d[1] or 't' in d[1]:\n",
    "            return temp,temp_loc\n",
    "        else:\n",
    "            temp_loc = temp_loc + 1\n",
    "            temp.append([d[2],d[3],d[4]])\n",
    "#             print([d[2],d[3],d[4]])\n",
    "#             break\n",
    "    \n",
    "    return temp,temp_loc\n",
    "\n",
    "loc = 0\n",
    "final_data = []\n",
    "for index,d in enumerate(data):\n",
    "    if '|t|' in d[1]:\n",
    "        continue\n",
    "    elif loc != 0:\n",
    "        loc = loc - 1\n",
    "        continue\n",
    "    else:\n",
    "        if '|a|' in d[1]:\n",
    "            temp_holder = {\n",
    "                'abstract' : d[1],\n",
    "                'keys' : []\n",
    "            }\n",
    "            keys,loc = read_till_next(data,index)\n",
    "            temp_holder['keys'] = keys\n",
    "            final_data.append(temp_holder)\n",
    "clean_data = []\n",
    "for f in final_data:\n",
    "    abstarct = clean_str(f['abstract'].split('|')[2])\n",
    "    disease = []\n",
    "    for k in f['keys']:\n",
    "        disease.append(k[-1])\n",
    "    clean_data.append((abstarct,list(set(disease))))"
   ]
  },
  {
   "cell_type": "code",
   "execution_count": 0,
   "metadata": {
    "colab": {},
    "colab_type": "code",
    "id": "SgHRC4iNzcxd",
    "scrolled": true
   },
   "outputs": [],
   "source": [
    "#Now chanign the hiearchy of the diseases dataset where we only consider Diseases ontology \n",
    "clean_data_upper_class = []\n",
    "us = []\n",
    "for c in tqdm(clean_data):\n",
    "    try:\n",
    "        labels = []\n",
    "        for l in c[1]:\n",
    "            if 'D' == l[0]:\n",
    "                labels = labels + l.split('|')\n",
    "        #change the class hiearchy \n",
    "        new_labels = list(set(get_classes_for_dois(labels)))\n",
    "        clean_data_upper_class.append((c[0],new_labels))\n",
    "    except:\n",
    "        us.append(c)\n",
    "\n",
    "clean_data = clean_data_upper_class"
   ]
  },
  {
   "cell_type": "markdown",
   "metadata": {},
   "source": [
    "############################################## "
   ]
  },
  {
   "cell_type": "code",
   "execution_count": 0,
   "metadata": {
    "colab": {
     "base_uri": "https://localhost:8080/",
     "height": 55
    },
    "colab_type": "code",
    "executionInfo": {
     "elapsed": 9553,
     "status": "ok",
     "timestamp": 1549155933525,
     "user": {
      "displayName": "Stuti Nayak",
      "photoUrl": "https://lh4.googleusercontent.com/-dCyvZuZkEEE/AAAAAAAAAAI/AAAAAAAAUDY/4NHoYh2M-mw/s64/photo.jpg",
      "userId": "10886436706821169763"
     },
     "user_tz": -60
    },
    "id": "EgLyk2yJ4SnR",
    "outputId": "59ff629b-3d32-41c6-b79d-dd91ae916cb2"
   },
   "outputs": [
    {
     "name": "stdout",
     "output_type": "stream",
     "text": [
      "\u001b[?25l\r",
      "\u001b[K    1% |▎                               | 10kB 22.7MB/s eta 0:00:01\r",
      "\u001b[K    2% |▋                               | 20kB 1.5MB/s eta 0:00:01\r",
      "\u001b[K    3% |█                               | 30kB 2.3MB/s eta 0:00:01\r",
      "\u001b[K    4% |█▎                              | 40kB 1.6MB/s eta 0:00:01\r",
      "\u001b[K    5% |█▋                              | 51kB 2.0MB/s eta 0:00:01\r",
      "\u001b[K    6% |██                              | 61kB 2.3MB/s eta 0:00:01\r",
      "\u001b[K    7% |██▎                             | 71kB 2.7MB/s eta 0:00:01\r",
      "\u001b[K    8% |██▋                             | 81kB 3.0MB/s eta 0:00:01\r",
      "\u001b[K    9% |███                             | 92kB 3.4MB/s eta 0:00:01\r",
      "\u001b[K    10% |███▎                            | 102kB 2.6MB/s eta 0:00:01\r",
      "\u001b[K    11% |███▋                            | 112kB 2.7MB/s eta 0:00:01\r",
      "\u001b[K    12% |████                            | 122kB 3.9MB/s eta 0:00:01\r",
      "\u001b[K    13% |████▎                           | 133kB 3.8MB/s eta 0:00:01\r",
      "\u001b[K    14% |████▋                           | 143kB 7.1MB/s eta 0:00:01\r",
      "\u001b[K    15% |█████                           | 153kB 7.1MB/s eta 0:00:01\r",
      "\u001b[K    16% |█████▎                          | 163kB 7.1MB/s eta 0:00:01\r",
      "\u001b[K    17% |█████▋                          | 174kB 7.1MB/s eta 0:00:01\r",
      "\u001b[K    18% |██████                          | 184kB 7.2MB/s eta 0:00:01\r",
      "\u001b[K    19% |██████▎                         | 194kB 7.2MB/s eta 0:00:01\r",
      "\u001b[K    20% |██████▋                         | 204kB 35.1MB/s eta 0:00:01\r",
      "\u001b[K    21% |███████                         | 215kB 8.2MB/s eta 0:00:01\r",
      "\u001b[K    22% |███████▎                        | 225kB 8.2MB/s eta 0:00:01\r",
      "\u001b[K    23% |███████▋                        | 235kB 8.8MB/s eta 0:00:01\r",
      "\u001b[K    24% |████████                        | 245kB 8.8MB/s eta 0:00:01\r",
      "\u001b[K    25% |████████▎                       | 256kB 8.8MB/s eta 0:00:01\r",
      "\u001b[K    26% |████████▋                       | 266kB 8.6MB/s eta 0:00:01\r",
      "\u001b[K    27% |█████████                       | 276kB 8.7MB/s eta 0:00:01\r",
      "\u001b[K    29% |█████████▎                      | 286kB 8.7MB/s eta 0:00:01\r",
      "\u001b[K    30% |█████████▋                      | 296kB 8.7MB/s eta 0:00:01\r",
      "\u001b[K    31% |██████████                      | 307kB 8.8MB/s eta 0:00:01\r",
      "\u001b[K    32% |██████████▎                     | 317kB 49.2MB/s eta 0:00:01\r",
      "\u001b[K    33% |██████████▋                     | 327kB 49.9MB/s eta 0:00:01\r",
      "\u001b[K    34% |███████████                     | 337kB 49.9MB/s eta 0:00:01\r",
      "\u001b[K    35% |███████████▎                    | 348kB 45.2MB/s eta 0:00:01\r",
      "\u001b[K    36% |███████████▋                    | 358kB 43.6MB/s eta 0:00:01\r",
      "\u001b[K    37% |████████████                    | 368kB 49.3MB/s eta 0:00:01\r",
      "\u001b[K    38% |████████████▎                   | 378kB 49.1MB/s eta 0:00:01\r",
      "\u001b[K    39% |████████████▋                   | 389kB 49.7MB/s eta 0:00:01\r",
      "\u001b[K    40% |█████████████                   | 399kB 9.1MB/s eta 0:00:01\r",
      "\u001b[K    41% |█████████████▎                  | 409kB 9.1MB/s eta 0:00:01\r",
      "\u001b[K    42% |█████████████▋                  | 419kB 9.0MB/s eta 0:00:01\r",
      "\u001b[K    43% |██████████████                  | 430kB 9.0MB/s eta 0:00:01\r",
      "\u001b[K    44% |██████████████▎                 | 440kB 8.9MB/s eta 0:00:01\r",
      "\u001b[K    45% |██████████████▋                 | 450kB 9.0MB/s eta 0:00:01\r",
      "\u001b[K    46% |███████████████                 | 460kB 9.1MB/s eta 0:00:01\r",
      "\u001b[K    47% |███████████████▎                | 471kB 9.1MB/s eta 0:00:01\r",
      "\u001b[K    48% |███████████████▋                | 481kB 9.1MB/s eta 0:00:01\r",
      "\u001b[K    49% |████████████████                | 491kB 9.1MB/s eta 0:00:01\r",
      "\u001b[K    50% |████████████████▎               | 501kB 49.5MB/s eta 0:00:01\r",
      "\u001b[K    51% |████████████████▋               | 512kB 49.0MB/s eta 0:00:01\r",
      "\u001b[K    52% |█████████████████               | 522kB 50.6MB/s eta 0:00:01\r",
      "\u001b[K    53% |█████████████████▎              | 532kB 51.3MB/s eta 0:00:01\r",
      "\u001b[K    54% |█████████████████▋              | 542kB 8.7MB/s eta 0:00:01\r",
      "\u001b[K    55% |██████████████████              | 552kB 8.7MB/s eta 0:00:01\r",
      "\u001b[K    57% |██████████████████▎             | 563kB 8.7MB/s eta 0:00:01\r",
      "\u001b[K    58% |██████████████████▋             | 573kB 8.6MB/s eta 0:00:01\r",
      "\u001b[K    59% |███████████████████             | 583kB 8.6MB/s eta 0:00:01\r",
      "\u001b[K    60% |███████████████████▎            | 593kB 8.6MB/s eta 0:00:01\r",
      "\u001b[K    61% |███████████████████▋            | 604kB 8.7MB/s eta 0:00:01\r",
      "\u001b[K    62% |████████████████████            | 614kB 8.8MB/s eta 0:00:01\r",
      "\u001b[K    63% |████████████████████▎           | 624kB 8.8MB/s eta 0:00:01\r",
      "\u001b[K    64% |████████████████████▋           | 634kB 8.8MB/s eta 0:00:01\r",
      "\u001b[K    65% |█████████████████████           | 645kB 60.2MB/s eta 0:00:01\r",
      "\u001b[K    66% |█████████████████████▎          | 655kB 62.7MB/s eta 0:00:01\r",
      "\u001b[K    67% |█████████████████████▋          | 665kB 50.3MB/s eta 0:00:01\r",
      "\u001b[K    68% |██████████████████████          | 675kB 50.1MB/s eta 0:00:01\r",
      "\u001b[K    69% |██████████████████████▎         | 686kB 50.4MB/s eta 0:00:01\r",
      "\u001b[K    70% |██████████████████████▋         | 696kB 50.1MB/s eta 0:00:01\r",
      "\u001b[K    71% |███████████████████████         | 706kB 50.4MB/s eta 0:00:01\r",
      "\u001b[K    72% |███████████████████████▎        | 716kB 50.5MB/s eta 0:00:01\r",
      "\u001b[K    73% |███████████████████████▋        | 727kB 50.0MB/s eta 0:00:01\r",
      "\u001b[K    74% |████████████████████████        | 737kB 49.3MB/s eta 0:00:01\r",
      "\u001b[K    75% |████████████████████████▎       | 747kB 49.9MB/s eta 0:00:01\r",
      "\u001b[K    76% |████████████████████████▋       | 757kB 49.8MB/s eta 0:00:01\r",
      "\u001b[K    77% |████████████████████████▉       | 768kB 63.9MB/s eta 0:00:01\r",
      "\u001b[K    78% |█████████████████████████▏      | 778kB 65.1MB/s eta 0:00:01\r",
      "\u001b[K    79% |█████████████████████████▌      | 788kB 64.1MB/s eta 0:00:01\r",
      "\u001b[K    80% |█████████████████████████▉      | 798kB 65.5MB/s eta 0:00:01\r",
      "\u001b[K    81% |██████████████████████████▏     | 808kB 65.0MB/s eta 0:00:01\r",
      "\u001b[K    82% |██████████████████████████▌     | 819kB 64.3MB/s eta 0:00:01\r",
      "\u001b[K    83% |██████████████████████████▉     | 829kB 67.7MB/s eta 0:00:01\r",
      "\u001b[K    85% |███████████████████████████▏    | 839kB 68.4MB/s eta 0:00:01\r",
      "\u001b[K    86% |███████████████████████████▌    | 849kB 68.1MB/s eta 0:00:01\r",
      "\u001b[K    87% |███████████████████████████▉    | 860kB 59.1MB/s eta 0:00:01\r",
      "\u001b[K    88% |████████████████████████████▏   | 870kB 59.2MB/s eta 0:00:01\r",
      "\u001b[K    89% |████████████████████████████▌   | 880kB 59.6MB/s eta 0:00:01\r",
      "\u001b[K    90% |████████████████████████████▉   | 890kB 60.9MB/s eta 0:00:01\r",
      "\u001b[K    91% |█████████████████████████████▏  | 901kB 60.6MB/s eta 0:00:01\r",
      "\u001b[K    92% |█████████████████████████████▌  | 911kB 60.5MB/s eta 0:00:01\r",
      "\u001b[K    93% |█████████████████████████████▉  | 921kB 60.1MB/s eta 0:00:01\r",
      "\u001b[K    94% |██████████████████████████████▏ | 931kB 59.4MB/s eta 0:00:01\r",
      "\u001b[K    95% |██████████████████████████████▌ | 942kB 60.4MB/s eta 0:00:01\r",
      "\u001b[K    96% |██████████████████████████████▉ | 952kB 60.5MB/s eta 0:00:01\r",
      "\u001b[K    97% |███████████████████████████████▏| 962kB 70.5MB/s eta 0:00:01\r",
      "\u001b[K    98% |███████████████████████████████▌| 972kB 70.3MB/s eta 0:00:01\r",
      "\u001b[K    99% |███████████████████████████████▉| 983kB 66.5MB/s eta 0:00:01\r",
      "\u001b[K    100% |████████████████████████████████| 993kB 22.0MB/s \n",
      "\u001b[?25h  Building wheel for PyDrive (setup.py) ... \u001b[?25ldone\n",
      "\u001b[?25h"
     ]
    }
   ],
   "source": [
    "!pip install -U -q PyDrive"
   ]
  },
  {
   "cell_type": "code",
   "execution_count": 0,
   "metadata": {
    "colab": {},
    "colab_type": "code",
    "id": "RUjC-tvsIVcj"
   },
   "outputs": [],
   "source": [
    "with open(f'clean_data_abstract_ln_{MAX_SEQUENCE_LENGTH}.pkl', 'wb') as fp:\n",
    "  pickle.dump(clean_data, fp)"
   ]
  },
  {
   "cell_type": "code",
   "execution_count": 0,
   "metadata": {
    "colab": {},
    "colab_type": "code",
    "id": "gKl59J4Z1PUW"
   },
   "outputs": [],
   "source": [
    "with open ('clean_data_abstract_ln_200.pkl', 'rb') as fp:\n",
    "  clean_data = pickle.load(fp)"
   ]
  },
  {
   "cell_type": "markdown",
   "metadata": {},
   "source": [
    "#########################################################"
   ]
  },
  {
   "cell_type": "markdown",
   "metadata": {},
   "source": [
    "#### Preprocessing data to a form usable for neural networks"
   ]
  },
  {
   "cell_type": "code",
   "execution_count": 0,
   "metadata": {
    "colab": {},
    "colab_type": "code",
    "id": "2jEuPS0Kzcxr"
   },
   "outputs": [],
   "source": [
    "#creating id map of class that is each label is given a unique id\n",
    "all_class = list(set([g for f in clean_data for g in f[1]]))\n",
    "all_class_to_id = {}\n",
    "for index,value in enumerate(all_class):\n",
    "    all_class_to_id[value] = index\n",
    "    \n",
    "\n",
    "texts = [f[0] for f in clean_data]\n",
    "\n",
    "#Tokenize,idfy,pad\n",
    "tokenizer = Tokenizer()\n",
    "tokenizer.fit_on_texts(texts)\n",
    "sequences = tokenizer.texts_to_sequences(texts)\n",
    "word_index = tokenizer.word_index\n",
    "data = pad_sequences(sequences, maxlen=MAX_SEQUENCE_LENGTH, padding='post')"
   ]
  },
  {
   "cell_type": "markdown",
   "metadata": {},
   "source": [
    "Storing names of all the labels for superclasses that are extracted using SPARQL query"
   ]
  },
  {
   "cell_type": "code",
   "execution_count": 25,
   "metadata": {
    "colab": {
     "base_uri": "https://localhost:8080/",
     "height": 1832
    },
    "colab_type": "code",
    "executionInfo": {
     "elapsed": 9680,
     "status": "ok",
     "timestamp": 1551222457179,
     "user": {
      "displayName": "Stuti Nayak",
      "photoUrl": "https://lh4.googleusercontent.com/-dCyvZuZkEEE/AAAAAAAAAAI/AAAAAAAAUDY/4NHoYh2M-mw/s64/photo.jpg",
      "userId": "10886436706821169763"
     },
     "user_tz": -60
    },
    "id": "mtNkAT6mkKq-",
    "outputId": "6f3d0b88-0ac9-4ea4-a8c9-df11d7fa06e0"
   },
   "outputs": [
    {
     "name": "stdout",
     "output_type": "stream",
     "text": [
      "doi:  http://id.nlm.nih.gov/mesh/D012140\n",
      "class:  ['Respiratory Tract Diseases']\n",
      "doi:  http://id.nlm.nih.gov/mesh/D055614\n",
      "class:  ['Respiratory Tract Diseases', 'Genetic Phenomena']\n",
      "doi:  http://id.nlm.nih.gov/mesh/D005441\n",
      "class:  ['Respiratory Tract Diseases', 'Genetic Phenomena', 'Fluids and Secretions']\n",
      "doi:  http://id.nlm.nih.gov/mesh/D017437\n",
      "class:  ['Respiratory Tract Diseases', 'Genetic Phenomena', 'Fluids and Secretions', 'Skin and Connective Tissue Diseases']\n",
      "doi:  http://id.nlm.nih.gov/mesh/D002318\n",
      "class:  ['Respiratory Tract Diseases', 'Genetic Phenomena', 'Fluids and Secretions', 'Skin and Connective Tissue Diseases', 'Cardiovascular Diseases']\n",
      "doi:  http://id.nlm.nih.gov/mesh/D004066\n",
      "class:  ['Respiratory Tract Diseases', 'Genetic Phenomena', 'Fluids and Secretions', 'Skin and Connective Tissue Diseases', 'Cardiovascular Diseases', 'Digestive System Diseases']\n",
      "doi:  http://id.nlm.nih.gov/mesh/D002468\n",
      "class:  ['Respiratory Tract Diseases', 'Genetic Phenomena', 'Fluids and Secretions', 'Skin and Connective Tissue Diseases', 'Cardiovascular Diseases', 'Digestive System Diseases', 'Cell Physiological Phenomena']\n",
      "doi:  http://id.nlm.nih.gov/mesh/D007154\n",
      "class:  ['Respiratory Tract Diseases', 'Genetic Phenomena', 'Fluids and Secretions', 'Skin and Connective Tissue Diseases', 'Cardiovascular Diseases', 'Digestive System Diseases', 'Cell Physiological Phenomena', 'Immune System Diseases']\n",
      "doi:  http://id.nlm.nih.gov/mesh/D052801\n",
      "class:  ['Respiratory Tract Diseases', 'Genetic Phenomena', 'Fluids and Secretions', 'Skin and Connective Tissue Diseases', 'Cardiovascular Diseases', 'Digestive System Diseases', 'Cell Physiological Phenomena', 'Immune System Diseases', 'Male Urogenital Diseases']\n",
      "doi:  http://id.nlm.nih.gov/mesh/D001423\n",
      "class:  ['Respiratory Tract Diseases', 'Genetic Phenomena', 'Fluids and Secretions', 'Skin and Connective Tissue Diseases', 'Cardiovascular Diseases', 'Digestive System Diseases', 'Cell Physiological Phenomena', 'Immune System Diseases', 'Male Urogenital Diseases', 'Bacterial Infections and Mycoses']\n",
      "doi:  http://id.nlm.nih.gov/mesh/D055687\n",
      "class:  ['Respiratory Tract Diseases', 'Genetic Phenomena', 'Fluids and Secretions', 'Skin and Connective Tissue Diseases', 'Cardiovascular Diseases', 'Digestive System Diseases', 'Cell Physiological Phenomena', 'Immune System Diseases', 'Male Urogenital Diseases', 'Bacterial Infections and Mycoses', 'Musculoskeletal and Neural Physiological Phenomena']\n",
      "doi:  http://id.nlm.nih.gov/mesh/D014947\n",
      "class:  ['Respiratory Tract Diseases', 'Genetic Phenomena', 'Fluids and Secretions', 'Skin and Connective Tissue Diseases', 'Cardiovascular Diseases', 'Digestive System Diseases', 'Cell Physiological Phenomena', 'Immune System Diseases', 'Male Urogenital Diseases', 'Bacterial Infections and Mycoses', 'Musculoskeletal and Neural Physiological Phenomena', 'Wounds and Injuries']\n",
      "doi:  http://id.nlm.nih.gov/mesh/D004700\n",
      "class:  ['Respiratory Tract Diseases', 'Genetic Phenomena', 'Fluids and Secretions', 'Skin and Connective Tissue Diseases', 'Cardiovascular Diseases', 'Digestive System Diseases', 'Cell Physiological Phenomena', 'Immune System Diseases', 'Male Urogenital Diseases', 'Bacterial Infections and Mycoses', 'Musculoskeletal and Neural Physiological Phenomena', 'Wounds and Injuries', 'Endocrine System Diseases']\n",
      "doi:  http://id.nlm.nih.gov/mesh/D005261\n",
      "class:  ['Respiratory Tract Diseases', 'Genetic Phenomena', 'Fluids and Secretions', 'Skin and Connective Tissue Diseases', 'Cardiovascular Diseases', 'Digestive System Diseases', 'Cell Physiological Phenomena', 'Immune System Diseases', 'Male Urogenital Diseases', 'Bacterial Infections and Mycoses', 'Musculoskeletal and Neural Physiological Phenomena', 'Wounds and Injuries', 'Endocrine System Diseases', 'Female Urogenital Diseases and Pregnancy Complications']\n",
      "doi:  http://id.nlm.nih.gov/mesh/D013568\n",
      "class:  ['Respiratory Tract Diseases', 'Genetic Phenomena', 'Fluids and Secretions', 'Skin and Connective Tissue Diseases', 'Cardiovascular Diseases', 'Digestive System Diseases', 'Cell Physiological Phenomena', 'Immune System Diseases', 'Male Urogenital Diseases', 'Bacterial Infections and Mycoses', 'Musculoskeletal and Neural Physiological Phenomena', 'Wounds and Injuries', 'Endocrine System Diseases', 'Female Urogenital Diseases and Pregnancy Complications', 'Pathological Conditions, Signs and Symptoms']\n",
      "doi:  http://id.nlm.nih.gov/mesh/D009784\n",
      "class:  ['Respiratory Tract Diseases', 'Genetic Phenomena', 'Fluids and Secretions', 'Skin and Connective Tissue Diseases', 'Cardiovascular Diseases', 'Digestive System Diseases', 'Cell Physiological Phenomena', 'Immune System Diseases', 'Male Urogenital Diseases', 'Bacterial Infections and Mycoses', 'Musculoskeletal and Neural Physiological Phenomena', 'Wounds and Injuries', 'Endocrine System Diseases', 'Female Urogenital Diseases and Pregnancy Complications', 'Pathological Conditions, Signs and Symptoms', 'Occupational Diseases']\n",
      "doi:  http://id.nlm.nih.gov/mesh/D010811\n",
      "class:  ['Respiratory Tract Diseases', 'Genetic Phenomena', 'Fluids and Secretions', 'Skin and Connective Tissue Diseases', 'Cardiovascular Diseases', 'Digestive System Diseases', 'Cell Physiological Phenomena', 'Immune System Diseases', 'Male Urogenital Diseases', 'Bacterial Infections and Mycoses', 'Musculoskeletal and Neural Physiological Phenomena', 'Wounds and Injuries', 'Endocrine System Diseases', 'Female Urogenital Diseases and Pregnancy Complications', 'Pathological Conditions, Signs and Symptoms', 'Occupational Diseases', 'Natural Science Disciplines']\n",
      "doi:  http://id.nlm.nih.gov/mesh/D001520\n",
      "class:  ['Respiratory Tract Diseases', 'Genetic Phenomena', 'Fluids and Secretions', 'Skin and Connective Tissue Diseases', 'Cardiovascular Diseases', 'Digestive System Diseases', 'Cell Physiological Phenomena', 'Immune System Diseases', 'Male Urogenital Diseases', 'Bacterial Infections and Mycoses', 'Musculoskeletal and Neural Physiological Phenomena', 'Wounds and Injuries', 'Endocrine System Diseases', 'Female Urogenital Diseases and Pregnancy Complications', 'Pathological Conditions, Signs and Symptoms', 'Occupational Diseases', 'Natural Science Disciplines', 'Behavior and Behavior Mechanisms']\n",
      "doi:  http://id.nlm.nih.gov/mesh/D008919\n",
      "class:  ['Respiratory Tract Diseases', 'Genetic Phenomena', 'Fluids and Secretions', 'Skin and Connective Tissue Diseases', 'Cardiovascular Diseases', 'Digestive System Diseases', 'Cell Physiological Phenomena', 'Immune System Diseases', 'Male Urogenital Diseases', 'Bacterial Infections and Mycoses', 'Musculoskeletal and Neural Physiological Phenomena', 'Wounds and Injuries', 'Endocrine System Diseases', 'Female Urogenital Diseases and Pregnancy Complications', 'Pathological Conditions, Signs and Symptoms', 'Occupational Diseases', 'Natural Science Disciplines', 'Behavior and Behavior Mechanisms', 'Investigative Techniques']\n",
      "doi:  http://id.nlm.nih.gov/mesh/D014024\n",
      "class:  ['Respiratory Tract Diseases', 'Genetic Phenomena', 'Fluids and Secretions', 'Skin and Connective Tissue Diseases', 'Cardiovascular Diseases', 'Digestive System Diseases', 'Cell Physiological Phenomena', 'Immune System Diseases', 'Male Urogenital Diseases', 'Bacterial Infections and Mycoses', 'Musculoskeletal and Neural Physiological Phenomena', 'Wounds and Injuries', 'Endocrine System Diseases', 'Female Urogenital Diseases and Pregnancy Complications', 'Pathological Conditions, Signs and Symptoms', 'Occupational Diseases', 'Natural Science Disciplines', 'Behavior and Behavior Mechanisms', 'Investigative Techniques', 'Tissues']\n",
      "doi:  http://id.nlm.nih.gov/mesh/D011154\n",
      "class:  ['Respiratory Tract Diseases', 'Genetic Phenomena', 'Fluids and Secretions', 'Skin and Connective Tissue Diseases', 'Cardiovascular Diseases', 'Digestive System Diseases', 'Cell Physiological Phenomena', 'Immune System Diseases', 'Male Urogenital Diseases', 'Bacterial Infections and Mycoses', 'Musculoskeletal and Neural Physiological Phenomena', 'Wounds and Injuries', 'Endocrine System Diseases', 'Female Urogenital Diseases and Pregnancy Complications', 'Pathological Conditions, Signs and Symptoms', 'Occupational Diseases', 'Natural Science Disciplines', 'Behavior and Behavior Mechanisms', 'Investigative Techniques', 'Tissues', 'Population Characteristics']\n",
      "doi:  http://id.nlm.nih.gov/mesh/D055633\n",
      "class:  ['Respiratory Tract Diseases', 'Genetic Phenomena', 'Fluids and Secretions', 'Skin and Connective Tissue Diseases', 'Cardiovascular Diseases', 'Digestive System Diseases', 'Cell Physiological Phenomena', 'Immune System Diseases', 'Male Urogenital Diseases', 'Bacterial Infections and Mycoses', 'Musculoskeletal and Neural Physiological Phenomena', 'Wounds and Injuries', 'Endocrine System Diseases', 'Female Urogenital Diseases and Pregnancy Complications', 'Pathological Conditions, Signs and Symptoms', 'Occupational Diseases', 'Natural Science Disciplines', 'Behavior and Behavior Mechanisms', 'Investigative Techniques', 'Tissues', 'Population Characteristics', 'Immune System Phenomena']\n",
      "doi:  http://id.nlm.nih.gov/mesh/D002477\n",
      "class:  ['Respiratory Tract Diseases', 'Genetic Phenomena', 'Fluids and Secretions', 'Skin and Connective Tissue Diseases', 'Cardiovascular Diseases', 'Digestive System Diseases', 'Cell Physiological Phenomena', 'Immune System Diseases', 'Male Urogenital Diseases', 'Bacterial Infections and Mycoses', 'Musculoskeletal and Neural Physiological Phenomena', 'Wounds and Injuries', 'Endocrine System Diseases', 'Female Urogenital Diseases and Pregnancy Complications', 'Pathological Conditions, Signs and Symptoms', 'Occupational Diseases', 'Natural Science Disciplines', 'Behavior and Behavior Mechanisms', 'Investigative Techniques', 'Tissues', 'Population Characteristics', 'Immune System Phenomena', 'Cells']\n",
      "doi:  http://id.nlm.nih.gov/mesh/D055585\n",
      "class:  ['Respiratory Tract Diseases', 'Genetic Phenomena', 'Fluids and Secretions', 'Skin and Connective Tissue Diseases', 'Cardiovascular Diseases', 'Digestive System Diseases', 'Cell Physiological Phenomena', 'Immune System Diseases', 'Male Urogenital Diseases', 'Bacterial Infections and Mycoses', 'Musculoskeletal and Neural Physiological Phenomena', 'Wounds and Injuries', 'Endocrine System Diseases', 'Female Urogenital Diseases and Pregnancy Complications', 'Pathological Conditions, Signs and Symptoms', 'Occupational Diseases', 'Natural Science Disciplines', 'Behavior and Behavior Mechanisms', 'Investigative Techniques', 'Tissues', 'Population Characteristics', 'Immune System Phenomena', 'Cells', 'Physical Phenomena']\n",
      "doi:  http://id.nlm.nih.gov/mesh/D004778\n",
      "class:  ['Respiratory Tract Diseases', 'Genetic Phenomena', 'Fluids and Secretions', 'Skin and Connective Tissue Diseases', 'Cardiovascular Diseases', 'Digestive System Diseases', 'Cell Physiological Phenomena', 'Immune System Diseases', 'Male Urogenital Diseases', 'Bacterial Infections and Mycoses', 'Musculoskeletal and Neural Physiological Phenomena', 'Wounds and Injuries', 'Endocrine System Diseases', 'Female Urogenital Diseases and Pregnancy Complications', 'Pathological Conditions, Signs and Symptoms', 'Occupational Diseases', 'Natural Science Disciplines', 'Behavior and Behavior Mechanisms', 'Investigative Techniques', 'Tissues', 'Population Characteristics', 'Immune System Phenomena', 'Cells', 'Physical Phenomena', 'Environment and Public Health']\n",
      "doi:  http://id.nlm.nih.gov/mesh/D009750\n",
      "class:  ['Respiratory Tract Diseases', 'Genetic Phenomena', 'Fluids and Secretions', 'Skin and Connective Tissue Diseases', 'Cardiovascular Diseases', 'Digestive System Diseases', 'Cell Physiological Phenomena', 'Immune System Diseases', 'Male Urogenital Diseases', 'Bacterial Infections and Mycoses', 'Musculoskeletal and Neural Physiological Phenomena', 'Wounds and Injuries', 'Endocrine System Diseases', 'Female Urogenital Diseases and Pregnancy Complications', 'Pathological Conditions, Signs and Symptoms', 'Occupational Diseases', 'Natural Science Disciplines', 'Behavior and Behavior Mechanisms', 'Investigative Techniques', 'Tissues', 'Population Characteristics', 'Immune System Phenomena', 'Cells', 'Physical Phenomena', 'Environment and Public Health', 'Nutritional and Metabolic Diseases']\n",
      "doi:  http://id.nlm.nih.gov/mesh/D006281\n",
      "class:  ['Respiratory Tract Diseases', 'Genetic Phenomena', 'Fluids and Secretions', 'Skin and Connective Tissue Diseases', 'Cardiovascular Diseases', 'Digestive System Diseases', 'Cell Physiological Phenomena', 'Immune System Diseases', 'Male Urogenital Diseases', 'Bacterial Infections and Mycoses', 'Musculoskeletal and Neural Physiological Phenomena', 'Wounds and Injuries', 'Endocrine System Diseases', 'Female Urogenital Diseases and Pregnancy Complications', 'Pathological Conditions, Signs and Symptoms', 'Occupational Diseases', 'Natural Science Disciplines', 'Behavior and Behavior Mechanisms', 'Investigative Techniques', 'Tissues', 'Population Characteristics', 'Immune System Phenomena', 'Cells', 'Physical Phenomena', 'Environment and Public Health', 'Nutritional and Metabolic Diseases', 'Health Occupations']\n",
      "doi:  http://id.nlm.nih.gov/mesh/D003933\n",
      "class:  ['Respiratory Tract Diseases', 'Genetic Phenomena', 'Fluids and Secretions', 'Skin and Connective Tissue Diseases', 'Cardiovascular Diseases', 'Digestive System Diseases', 'Cell Physiological Phenomena', 'Immune System Diseases', 'Male Urogenital Diseases', 'Bacterial Infections and Mycoses', 'Musculoskeletal and Neural Physiological Phenomena', 'Wounds and Injuries', 'Endocrine System Diseases', 'Female Urogenital Diseases and Pregnancy Complications', 'Pathological Conditions, Signs and Symptoms', 'Occupational Diseases', 'Natural Science Disciplines', 'Behavior and Behavior Mechanisms', 'Investigative Techniques', 'Tissues', 'Population Characteristics', 'Immune System Phenomena', 'Cells', 'Physical Phenomena', 'Environment and Public Health', 'Nutritional and Metabolic Diseases', 'Health Occupations', 'Diagnosis']\n",
      "doi:  http://id.nlm.nih.gov/mesh/D009057\n",
      "class:  ['Respiratory Tract Diseases', 'Genetic Phenomena', 'Fluids and Secretions', 'Skin and Connective Tissue Diseases', 'Cardiovascular Diseases', 'Digestive System Diseases', 'Cell Physiological Phenomena', 'Immune System Diseases', 'Male Urogenital Diseases', 'Bacterial Infections and Mycoses', 'Musculoskeletal and Neural Physiological Phenomena', 'Wounds and Injuries', 'Endocrine System Diseases', 'Female Urogenital Diseases and Pregnancy Complications', 'Pathological Conditions, Signs and Symptoms', 'Occupational Diseases', 'Natural Science Disciplines', 'Behavior and Behavior Mechanisms', 'Investigative Techniques', 'Tissues', 'Population Characteristics', 'Immune System Phenomena', 'Cells', 'Physical Phenomena', 'Environment and Public Health', 'Nutritional and Metabolic Diseases', 'Health Occupations', 'Diagnosis', 'Stomatognathic Diseases']\n",
      "doi:  http://id.nlm.nih.gov/mesh/D064419\n",
      "class:  ['Respiratory Tract Diseases', 'Genetic Phenomena', 'Fluids and Secretions', 'Skin and Connective Tissue Diseases', 'Cardiovascular Diseases', 'Digestive System Diseases', 'Cell Physiological Phenomena', 'Immune System Diseases', 'Male Urogenital Diseases', 'Bacterial Infections and Mycoses', 'Musculoskeletal and Neural Physiological Phenomena', 'Wounds and Injuries', 'Endocrine System Diseases', 'Female Urogenital Diseases and Pregnancy Complications', 'Pathological Conditions, Signs and Symptoms', 'Occupational Diseases', 'Natural Science Disciplines', 'Behavior and Behavior Mechanisms', 'Investigative Techniques', 'Tissues', 'Population Characteristics', 'Immune System Phenomena', 'Cells', 'Physical Phenomena', 'Environment and Public Health', 'Nutritional and Metabolic Diseases', 'Health Occupations', 'Diagnosis', 'Stomatognathic Diseases', 'Chemically-Induced Disorders']\n",
      "doi:  http://id.nlm.nih.gov/mesh/C537845\n",
      "class:  ['Respiratory Tract Diseases', 'Genetic Phenomena', 'Fluids and Secretions', 'Skin and Connective Tissue Diseases', 'Cardiovascular Diseases', 'Digestive System Diseases', 'Cell Physiological Phenomena', 'Immune System Diseases', 'Male Urogenital Diseases', 'Bacterial Infections and Mycoses', 'Musculoskeletal and Neural Physiological Phenomena', 'Wounds and Injuries', 'Endocrine System Diseases', 'Female Urogenital Diseases and Pregnancy Complications', 'Pathological Conditions, Signs and Symptoms', 'Occupational Diseases', 'Natural Science Disciplines', 'Behavior and Behavior Mechanisms', 'Investigative Techniques', 'Tissues', 'Population Characteristics', 'Immune System Phenomena', 'Cells', 'Physical Phenomena', 'Environment and Public Health', 'Nutritional and Metabolic Diseases', 'Health Occupations', 'Diagnosis', 'Stomatognathic Diseases', 'Chemically-Induced Disorders', 'Nonsyndromic sensorineural hearing loss']\n",
      "doi:  http://id.nlm.nih.gov/mesh/D001523\n",
      "class:  ['Respiratory Tract Diseases', 'Genetic Phenomena', 'Fluids and Secretions', 'Skin and Connective Tissue Diseases', 'Cardiovascular Diseases', 'Digestive System Diseases', 'Cell Physiological Phenomena', 'Immune System Diseases', 'Male Urogenital Diseases', 'Bacterial Infections and Mycoses', 'Musculoskeletal and Neural Physiological Phenomena', 'Wounds and Injuries', 'Endocrine System Diseases', 'Female Urogenital Diseases and Pregnancy Complications', 'Pathological Conditions, Signs and Symptoms', 'Occupational Diseases', 'Natural Science Disciplines', 'Behavior and Behavior Mechanisms', 'Investigative Techniques', 'Tissues', 'Population Characteristics', 'Immune System Phenomena', 'Cells', 'Physical Phenomena', 'Environment and Public Health', 'Nutritional and Metabolic Diseases', 'Health Occupations', 'Diagnosis', 'Stomatognathic Diseases', 'Chemically-Induced Disorders', 'Nonsyndromic sensorineural hearing loss', 'Mental Disorders']\n",
      "doi:  http://id.nlm.nih.gov/mesh/D010272\n",
      "class:  ['Respiratory Tract Diseases', 'Genetic Phenomena', 'Fluids and Secretions', 'Skin and Connective Tissue Diseases', 'Cardiovascular Diseases', 'Digestive System Diseases', 'Cell Physiological Phenomena', 'Immune System Diseases', 'Male Urogenital Diseases', 'Bacterial Infections and Mycoses', 'Musculoskeletal and Neural Physiological Phenomena', 'Wounds and Injuries', 'Endocrine System Diseases', 'Female Urogenital Diseases and Pregnancy Complications', 'Pathological Conditions, Signs and Symptoms', 'Occupational Diseases', 'Natural Science Disciplines', 'Behavior and Behavior Mechanisms', 'Investigative Techniques', 'Tissues', 'Population Characteristics', 'Immune System Phenomena', 'Cells', 'Physical Phenomena', 'Environment and Public Health', 'Nutritional and Metabolic Diseases', 'Health Occupations', 'Diagnosis', 'Stomatognathic Diseases', 'Chemically-Induced Disorders', 'Nonsyndromic sensorineural hearing loss', 'Mental Disorders', 'Parasitic Diseases']\n",
      "doi:  http://id.nlm.nih.gov/mesh/D001686\n",
      "class:  ['Respiratory Tract Diseases', 'Genetic Phenomena', 'Fluids and Secretions', 'Skin and Connective Tissue Diseases', 'Cardiovascular Diseases', 'Digestive System Diseases', 'Cell Physiological Phenomena', 'Immune System Diseases', 'Male Urogenital Diseases', 'Bacterial Infections and Mycoses', 'Musculoskeletal and Neural Physiological Phenomena', 'Wounds and Injuries', 'Endocrine System Diseases', 'Female Urogenital Diseases and Pregnancy Complications', 'Pathological Conditions, Signs and Symptoms', 'Occupational Diseases', 'Natural Science Disciplines', 'Behavior and Behavior Mechanisms', 'Investigative Techniques', 'Tissues', 'Population Characteristics', 'Immune System Phenomena', 'Cells', 'Physical Phenomena', 'Environment and Public Health', 'Nutritional and Metabolic Diseases', 'Health Occupations', 'Diagnosis', 'Stomatognathic Diseases', 'Chemically-Induced Disorders', 'Nonsyndromic sensorineural hearing loss', 'Mental Disorders', 'Parasitic Diseases', 'Biological Phenomena']\n",
      "doi:  http://id.nlm.nih.gov/mesh/D009358\n",
      "class:  ['Respiratory Tract Diseases', 'Genetic Phenomena', 'Fluids and Secretions', 'Skin and Connective Tissue Diseases', 'Cardiovascular Diseases', 'Digestive System Diseases', 'Cell Physiological Phenomena', 'Immune System Diseases', 'Male Urogenital Diseases', 'Bacterial Infections and Mycoses', 'Musculoskeletal and Neural Physiological Phenomena', 'Wounds and Injuries', 'Endocrine System Diseases', 'Female Urogenital Diseases and Pregnancy Complications', 'Pathological Conditions, Signs and Symptoms', 'Occupational Diseases', 'Natural Science Disciplines', 'Behavior and Behavior Mechanisms', 'Investigative Techniques', 'Tissues', 'Population Characteristics', 'Immune System Phenomena', 'Cells', 'Physical Phenomena', 'Environment and Public Health', 'Nutritional and Metabolic Diseases', 'Health Occupations', 'Diagnosis', 'Stomatognathic Diseases', 'Chemically-Induced Disorders', 'Nonsyndromic sensorineural hearing loss', 'Mental Disorders', 'Parasitic Diseases', 'Biological Phenomena', 'Congenital, Hereditary, and Neonatal Diseases and Abnormalities']\n",
      "doi:  http://id.nlm.nih.gov/mesh/D011579\n",
      "class:  ['Respiratory Tract Diseases', 'Genetic Phenomena', 'Fluids and Secretions', 'Skin and Connective Tissue Diseases', 'Cardiovascular Diseases', 'Digestive System Diseases', 'Cell Physiological Phenomena', 'Immune System Diseases', 'Male Urogenital Diseases', 'Bacterial Infections and Mycoses', 'Musculoskeletal and Neural Physiological Phenomena', 'Wounds and Injuries', 'Endocrine System Diseases', 'Female Urogenital Diseases and Pregnancy Complications', 'Pathological Conditions, Signs and Symptoms', 'Occupational Diseases', 'Natural Science Disciplines', 'Behavior and Behavior Mechanisms', 'Investigative Techniques', 'Tissues', 'Population Characteristics', 'Immune System Phenomena', 'Cells', 'Physical Phenomena', 'Environment and Public Health', 'Nutritional and Metabolic Diseases', 'Health Occupations', 'Diagnosis', 'Stomatognathic Diseases', 'Chemically-Induced Disorders', 'Nonsyndromic sensorineural hearing loss', 'Mental Disorders', 'Parasitic Diseases', 'Biological Phenomena', 'Congenital, Hereditary, and Neonatal Diseases and Abnormalities', 'Psychological Phenomena']\n",
      "doi:  http://id.nlm.nih.gov/mesh/D004191\n",
      "class:  ['Respiratory Tract Diseases', 'Genetic Phenomena', 'Fluids and Secretions', 'Skin and Connective Tissue Diseases', 'Cardiovascular Diseases', 'Digestive System Diseases', 'Cell Physiological Phenomena', 'Immune System Diseases', 'Male Urogenital Diseases', 'Bacterial Infections and Mycoses', 'Musculoskeletal and Neural Physiological Phenomena', 'Wounds and Injuries', 'Endocrine System Diseases', 'Female Urogenital Diseases and Pregnancy Complications', 'Pathological Conditions, Signs and Symptoms', 'Occupational Diseases', 'Natural Science Disciplines', 'Behavior and Behavior Mechanisms', 'Investigative Techniques', 'Tissues', 'Population Characteristics', 'Immune System Phenomena', 'Cells', 'Physical Phenomena', 'Environment and Public Health', 'Nutritional and Metabolic Diseases', 'Health Occupations', 'Diagnosis', 'Stomatognathic Diseases', 'Chemically-Induced Disorders', 'Nonsyndromic sensorineural hearing loss', 'Mental Disorders', 'Parasitic Diseases', 'Biological Phenomena', 'Congenital, Hereditary, and Neonatal Diseases and Abnormalities', 'Psychological Phenomena', 'Behavioral Disciplines and Activities']\n",
      "doi:  http://id.nlm.nih.gov/mesh/D017530\n",
      "class:  ['Respiratory Tract Diseases', 'Genetic Phenomena', 'Fluids and Secretions', 'Skin and Connective Tissue Diseases', 'Cardiovascular Diseases', 'Digestive System Diseases', 'Cell Physiological Phenomena', 'Immune System Diseases', 'Male Urogenital Diseases', 'Bacterial Infections and Mycoses', 'Musculoskeletal and Neural Physiological Phenomena', 'Wounds and Injuries', 'Endocrine System Diseases', 'Female Urogenital Diseases and Pregnancy Complications', 'Pathological Conditions, Signs and Symptoms', 'Occupational Diseases', 'Natural Science Disciplines', 'Behavior and Behavior Mechanisms', 'Investigative Techniques', 'Tissues', 'Population Characteristics', 'Immune System Phenomena', 'Cells', 'Physical Phenomena', 'Environment and Public Health', 'Nutritional and Metabolic Diseases', 'Health Occupations', 'Diagnosis', 'Stomatognathic Diseases', 'Chemically-Induced Disorders', 'Nonsyndromic sensorineural hearing loss', 'Mental Disorders', 'Parasitic Diseases', 'Biological Phenomena', 'Congenital, Hereditary, and Neonatal Diseases and Abnormalities', 'Psychological Phenomena', 'Behavioral Disciplines and Activities', 'Health Care Quality, Access, and Evaluation']\n",
      "doi:  http://id.nlm.nih.gov/mesh/D013812\n",
      "class:  ['Respiratory Tract Diseases', 'Genetic Phenomena', 'Fluids and Secretions', 'Skin and Connective Tissue Diseases', 'Cardiovascular Diseases', 'Digestive System Diseases', 'Cell Physiological Phenomena', 'Immune System Diseases', 'Male Urogenital Diseases', 'Bacterial Infections and Mycoses', 'Musculoskeletal and Neural Physiological Phenomena', 'Wounds and Injuries', 'Endocrine System Diseases', 'Female Urogenital Diseases and Pregnancy Complications', 'Pathological Conditions, Signs and Symptoms', 'Occupational Diseases', 'Natural Science Disciplines', 'Behavior and Behavior Mechanisms', 'Investigative Techniques', 'Tissues', 'Population Characteristics', 'Immune System Phenomena', 'Cells', 'Physical Phenomena', 'Environment and Public Health', 'Nutritional and Metabolic Diseases', 'Health Occupations', 'Diagnosis', 'Stomatognathic Diseases', 'Chemically-Induced Disorders', 'Nonsyndromic sensorineural hearing loss', 'Mental Disorders', 'Parasitic Diseases', 'Biological Phenomena', 'Congenital, Hereditary, and Neonatal Diseases and Abnormalities', 'Psychological Phenomena', 'Behavioral Disciplines and Activities', 'Health Care Quality, Access, and Evaluation', 'Therapeutics']\n",
      "doi:  http://id.nlm.nih.gov/mesh/D014777\n",
      "class:  ['Respiratory Tract Diseases', 'Genetic Phenomena', 'Fluids and Secretions', 'Skin and Connective Tissue Diseases', 'Cardiovascular Diseases', 'Digestive System Diseases', 'Cell Physiological Phenomena', 'Immune System Diseases', 'Male Urogenital Diseases', 'Bacterial Infections and Mycoses', 'Musculoskeletal and Neural Physiological Phenomena', 'Wounds and Injuries', 'Endocrine System Diseases', 'Female Urogenital Diseases and Pregnancy Complications', 'Pathological Conditions, Signs and Symptoms', 'Occupational Diseases', 'Natural Science Disciplines', 'Behavior and Behavior Mechanisms', 'Investigative Techniques', 'Tissues', 'Population Characteristics', 'Immune System Phenomena', 'Cells', 'Physical Phenomena', 'Environment and Public Health', 'Nutritional and Metabolic Diseases', 'Health Occupations', 'Diagnosis', 'Stomatognathic Diseases', 'Chemically-Induced Disorders', 'Nonsyndromic sensorineural hearing loss', 'Mental Disorders', 'Parasitic Diseases', 'Biological Phenomena', 'Congenital, Hereditary, and Neonatal Diseases and Abnormalities', 'Psychological Phenomena', 'Behavioral Disciplines and Activities', 'Health Care Quality, Access, and Evaluation', 'Therapeutics', 'Virus Diseases']\n",
      "doi:  http://id.nlm.nih.gov/mesh/D009140\n",
      "class:  ['Respiratory Tract Diseases', 'Genetic Phenomena', 'Fluids and Secretions', 'Skin and Connective Tissue Diseases', 'Cardiovascular Diseases', 'Digestive System Diseases', 'Cell Physiological Phenomena', 'Immune System Diseases', 'Male Urogenital Diseases', 'Bacterial Infections and Mycoses', 'Musculoskeletal and Neural Physiological Phenomena', 'Wounds and Injuries', 'Endocrine System Diseases', 'Female Urogenital Diseases and Pregnancy Complications', 'Pathological Conditions, Signs and Symptoms', 'Occupational Diseases', 'Natural Science Disciplines', 'Behavior and Behavior Mechanisms', 'Investigative Techniques', 'Tissues', 'Population Characteristics', 'Immune System Phenomena', 'Cells', 'Physical Phenomena', 'Environment and Public Health', 'Nutritional and Metabolic Diseases', 'Health Occupations', 'Diagnosis', 'Stomatognathic Diseases', 'Chemically-Induced Disorders', 'Nonsyndromic sensorineural hearing loss', 'Mental Disorders', 'Parasitic Diseases', 'Biological Phenomena', 'Congenital, Hereditary, and Neonatal Diseases and Abnormalities', 'Psychological Phenomena', 'Behavioral Disciplines and Activities', 'Health Care Quality, Access, and Evaluation', 'Therapeutics', 'Virus Diseases', 'Musculoskeletal Diseases']\n",
      "doi:  http://id.nlm.nih.gov/mesh/D010038\n",
      "class:  ['Respiratory Tract Diseases', 'Genetic Phenomena', 'Fluids and Secretions', 'Skin and Connective Tissue Diseases', 'Cardiovascular Diseases', 'Digestive System Diseases', 'Cell Physiological Phenomena', 'Immune System Diseases', 'Male Urogenital Diseases', 'Bacterial Infections and Mycoses', 'Musculoskeletal and Neural Physiological Phenomena', 'Wounds and Injuries', 'Endocrine System Diseases', 'Female Urogenital Diseases and Pregnancy Complications', 'Pathological Conditions, Signs and Symptoms', 'Occupational Diseases', 'Natural Science Disciplines', 'Behavior and Behavior Mechanisms', 'Investigative Techniques', 'Tissues', 'Population Characteristics', 'Immune System Phenomena', 'Cells', 'Physical Phenomena', 'Environment and Public Health', 'Nutritional and Metabolic Diseases', 'Health Occupations', 'Diagnosis', 'Stomatognathic Diseases', 'Chemically-Induced Disorders', 'Nonsyndromic sensorineural hearing loss', 'Mental Disorders', 'Parasitic Diseases', 'Biological Phenomena', 'Congenital, Hereditary, and Neonatal Diseases and Abnormalities', 'Psychological Phenomena', 'Behavioral Disciplines and Activities', 'Health Care Quality, Access, and Evaluation', 'Therapeutics', 'Virus Diseases', 'Musculoskeletal Diseases', 'Otorhinolaryngologic Diseases']\n",
      "doi:  http://id.nlm.nih.gov/mesh/D005128\n",
      "class:  ['Respiratory Tract Diseases', 'Genetic Phenomena', 'Fluids and Secretions', 'Skin and Connective Tissue Diseases', 'Cardiovascular Diseases', 'Digestive System Diseases', 'Cell Physiological Phenomena', 'Immune System Diseases', 'Male Urogenital Diseases', 'Bacterial Infections and Mycoses', 'Musculoskeletal and Neural Physiological Phenomena', 'Wounds and Injuries', 'Endocrine System Diseases', 'Female Urogenital Diseases and Pregnancy Complications', 'Pathological Conditions, Signs and Symptoms', 'Occupational Diseases', 'Natural Science Disciplines', 'Behavior and Behavior Mechanisms', 'Investigative Techniques', 'Tissues', 'Population Characteristics', 'Immune System Phenomena', 'Cells', 'Physical Phenomena', 'Environment and Public Health', 'Nutritional and Metabolic Diseases', 'Health Occupations', 'Diagnosis', 'Stomatognathic Diseases', 'Chemically-Induced Disorders', 'Nonsyndromic sensorineural hearing loss', 'Mental Disorders', 'Parasitic Diseases', 'Biological Phenomena', 'Congenital, Hereditary, and Neonatal Diseases and Abnormalities', 'Psychological Phenomena', 'Behavioral Disciplines and Activities', 'Health Care Quality, Access, and Evaluation', 'Therapeutics', 'Virus Diseases', 'Musculoskeletal Diseases', 'Otorhinolaryngologic Diseases', 'Eye Diseases']\n",
      "doi:  http://id.nlm.nih.gov/mesh/D010829\n",
      "class:  ['Respiratory Tract Diseases', 'Genetic Phenomena', 'Fluids and Secretions', 'Skin and Connective Tissue Diseases', 'Cardiovascular Diseases', 'Digestive System Diseases', 'Cell Physiological Phenomena', 'Immune System Diseases', 'Male Urogenital Diseases', 'Bacterial Infections and Mycoses', 'Musculoskeletal and Neural Physiological Phenomena', 'Wounds and Injuries', 'Endocrine System Diseases', 'Female Urogenital Diseases and Pregnancy Complications', 'Pathological Conditions, Signs and Symptoms', 'Occupational Diseases', 'Natural Science Disciplines', 'Behavior and Behavior Mechanisms', 'Investigative Techniques', 'Tissues', 'Population Characteristics', 'Immune System Phenomena', 'Cells', 'Physical Phenomena', 'Environment and Public Health', 'Nutritional and Metabolic Diseases', 'Health Occupations', 'Diagnosis', 'Stomatognathic Diseases', 'Chemically-Induced Disorders', 'Nonsyndromic sensorineural hearing loss', 'Mental Disorders', 'Parasitic Diseases', 'Biological Phenomena', 'Congenital, Hereditary, and Neonatal Diseases and Abnormalities', 'Psychological Phenomena', 'Behavioral Disciplines and Activities', 'Health Care Quality, Access, and Evaluation', 'Therapeutics', 'Virus Diseases', 'Musculoskeletal Diseases', 'Otorhinolaryngologic Diseases', 'Eye Diseases', 'Physiological Phenomena']\n",
      "doi:  http://id.nlm.nih.gov/mesh/D006425\n",
      "class:  ['Respiratory Tract Diseases', 'Genetic Phenomena', 'Fluids and Secretions', 'Skin and Connective Tissue Diseases', 'Cardiovascular Diseases', 'Digestive System Diseases', 'Cell Physiological Phenomena', 'Immune System Diseases', 'Male Urogenital Diseases', 'Bacterial Infections and Mycoses', 'Musculoskeletal and Neural Physiological Phenomena', 'Wounds and Injuries', 'Endocrine System Diseases', 'Female Urogenital Diseases and Pregnancy Complications', 'Pathological Conditions, Signs and Symptoms', 'Occupational Diseases', 'Natural Science Disciplines', 'Behavior and Behavior Mechanisms', 'Investigative Techniques', 'Tissues', 'Population Characteristics', 'Immune System Phenomena', 'Cells', 'Physical Phenomena', 'Environment and Public Health', 'Nutritional and Metabolic Diseases', 'Health Occupations', 'Diagnosis', 'Stomatognathic Diseases', 'Chemically-Induced Disorders', 'Nonsyndromic sensorineural hearing loss', 'Mental Disorders', 'Parasitic Diseases', 'Biological Phenomena', 'Congenital, Hereditary, and Neonatal Diseases and Abnormalities', 'Psychological Phenomena', 'Behavioral Disciplines and Activities', 'Health Care Quality, Access, and Evaluation', 'Therapeutics', 'Virus Diseases', 'Musculoskeletal Diseases', 'Otorhinolaryngologic Diseases', 'Eye Diseases', 'Physiological Phenomena', 'Hemic and Lymphatic Diseases']\n",
      "doi:  http://id.nlm.nih.gov/mesh/D009422\n",
      "class:  ['Respiratory Tract Diseases', 'Genetic Phenomena', 'Fluids and Secretions', 'Skin and Connective Tissue Diseases', 'Cardiovascular Diseases', 'Digestive System Diseases', 'Cell Physiological Phenomena', 'Immune System Diseases', 'Male Urogenital Diseases', 'Bacterial Infections and Mycoses', 'Musculoskeletal and Neural Physiological Phenomena', 'Wounds and Injuries', 'Endocrine System Diseases', 'Female Urogenital Diseases and Pregnancy Complications', 'Pathological Conditions, Signs and Symptoms', 'Occupational Diseases', 'Natural Science Disciplines', 'Behavior and Behavior Mechanisms', 'Investigative Techniques', 'Tissues', 'Population Characteristics', 'Immune System Phenomena', 'Cells', 'Physical Phenomena', 'Environment and Public Health', 'Nutritional and Metabolic Diseases', 'Health Occupations', 'Diagnosis', 'Stomatognathic Diseases', 'Chemically-Induced Disorders', 'Nonsyndromic sensorineural hearing loss', 'Mental Disorders', 'Parasitic Diseases', 'Biological Phenomena', 'Congenital, Hereditary, and Neonatal Diseases and Abnormalities', 'Psychological Phenomena', 'Behavioral Disciplines and Activities', 'Health Care Quality, Access, and Evaluation', 'Therapeutics', 'Virus Diseases', 'Musculoskeletal Diseases', 'Otorhinolaryngologic Diseases', 'Eye Diseases', 'Physiological Phenomena', 'Hemic and Lymphatic Diseases', 'Nervous System Diseases']\n",
      "doi:  http://id.nlm.nih.gov/mesh/D009369\n",
      "class:  ['Respiratory Tract Diseases', 'Genetic Phenomena', 'Fluids and Secretions', 'Skin and Connective Tissue Diseases', 'Cardiovascular Diseases', 'Digestive System Diseases', 'Cell Physiological Phenomena', 'Immune System Diseases', 'Male Urogenital Diseases', 'Bacterial Infections and Mycoses', 'Musculoskeletal and Neural Physiological Phenomena', 'Wounds and Injuries', 'Endocrine System Diseases', 'Female Urogenital Diseases and Pregnancy Complications', 'Pathological Conditions, Signs and Symptoms', 'Occupational Diseases', 'Natural Science Disciplines', 'Behavior and Behavior Mechanisms', 'Investigative Techniques', 'Tissues', 'Population Characteristics', 'Immune System Phenomena', 'Cells', 'Physical Phenomena', 'Environment and Public Health', 'Nutritional and Metabolic Diseases', 'Health Occupations', 'Diagnosis', 'Stomatognathic Diseases', 'Chemically-Induced Disorders', 'Nonsyndromic sensorineural hearing loss', 'Mental Disorders', 'Parasitic Diseases', 'Biological Phenomena', 'Congenital, Hereditary, and Neonatal Diseases and Abnormalities', 'Psychological Phenomena', 'Behavioral Disciplines and Activities', 'Health Care Quality, Access, and Evaluation', 'Therapeutics', 'Virus Diseases', 'Musculoskeletal Diseases', 'Otorhinolaryngologic Diseases', 'Eye Diseases', 'Physiological Phenomena', 'Hemic and Lymphatic Diseases', 'Nervous System Diseases', 'Neoplasms']\n",
      "doi:  http://id.nlm.nih.gov/mesh/D012101\n",
      "class:  ['Respiratory Tract Diseases', 'Genetic Phenomena', 'Fluids and Secretions', 'Skin and Connective Tissue Diseases', 'Cardiovascular Diseases', 'Digestive System Diseases', 'Cell Physiological Phenomena', 'Immune System Diseases', 'Male Urogenital Diseases', 'Bacterial Infections and Mycoses', 'Musculoskeletal and Neural Physiological Phenomena', 'Wounds and Injuries', 'Endocrine System Diseases', 'Female Urogenital Diseases and Pregnancy Complications', 'Pathological Conditions, Signs and Symptoms', 'Occupational Diseases', 'Natural Science Disciplines', 'Behavior and Behavior Mechanisms', 'Investigative Techniques', 'Tissues', 'Population Characteristics', 'Immune System Phenomena', 'Cells', 'Physical Phenomena', 'Environment and Public Health', 'Nutritional and Metabolic Diseases', 'Health Occupations', 'Diagnosis', 'Stomatognathic Diseases', 'Chemically-Induced Disorders', 'Nonsyndromic sensorineural hearing loss', 'Mental Disorders', 'Parasitic Diseases', 'Biological Phenomena', 'Congenital, Hereditary, and Neonatal Diseases and Abnormalities', 'Psychological Phenomena', 'Behavioral Disciplines and Activities', 'Health Care Quality, Access, and Evaluation', 'Therapeutics', 'Virus Diseases', 'Musculoskeletal Diseases', 'Otorhinolaryngologic Diseases', 'Eye Diseases', 'Physiological Phenomena', 'Hemic and Lymphatic Diseases', 'Nervous System Diseases', 'Neoplasms', 'Reproductive and Urinary Physiological Phenomena']\n"
     ]
    }
   ],
   "source": [
    "targets = get_list_for_terms(all_class)"
   ]
  },
  {
   "cell_type": "code",
   "execution_count": 27,
   "metadata": {
    "colab": {
     "base_uri": "https://localhost:8080/",
     "height": 915
    },
    "colab_type": "code",
    "executionInfo": {
     "elapsed": 468,
     "status": "ok",
     "timestamp": 1551222479897,
     "user": {
      "displayName": "Stuti Nayak",
      "photoUrl": "https://lh4.googleusercontent.com/-dCyvZuZkEEE/AAAAAAAAAAI/AAAAAAAAUDY/4NHoYh2M-mw/s64/photo.jpg",
      "userId": "10886436706821169763"
     },
     "user_tz": -60
    },
    "id": "veZsgrjDk6Lx",
    "outputId": "3cd7462a-bfdd-4a9d-d19a-0c98e549f12a"
   },
   "outputs": [
    {
     "data": {
      "text/plain": [
       "['Musculoskeletal Diseases',\n",
       " 'Wounds and Injuries',\n",
       " 'Hemic and Lymphatic Diseases',\n",
       " 'Immune System Diseases',\n",
       " 'Cell Physiological Phenomena',\n",
       " 'Skin and Connective Tissue Diseases',\n",
       " 'Physiological Phenomena',\n",
       " 'Stomatognathic Diseases',\n",
       " 'Behavioral Disciplines and Activities',\n",
       " 'Eye Diseases',\n",
       " 'Reproductive and Urinary Physiological Phenomena',\n",
       " 'Musculoskeletal and Neural Physiological Phenomena',\n",
       " 'Digestive System Diseases',\n",
       " 'Parasitic Diseases',\n",
       " 'Respiratory Tract Diseases',\n",
       " 'Fluids and Secretions',\n",
       " 'Nonsyndromic sensorineural hearing loss',\n",
       " 'Diagnosis',\n",
       " 'Genetic Phenomena',\n",
       " 'Mental Disorders',\n",
       " 'Nutritional and Metabolic Diseases',\n",
       " 'Chemically-Induced Disorders',\n",
       " 'Health Occupations',\n",
       " 'Investigative Techniques',\n",
       " 'Behavior and Behavior Mechanisms',\n",
       " 'Cardiovascular Diseases',\n",
       " 'Population Characteristics',\n",
       " 'Endocrine System Diseases',\n",
       " 'Cells',\n",
       " 'Pathological Conditions, Signs and Symptoms',\n",
       " 'Tissues',\n",
       " 'Neoplasms',\n",
       " 'Health Care Quality, Access, and Evaluation',\n",
       " 'Natural Science Disciplines',\n",
       " 'Environment and Public Health',\n",
       " 'Female Urogenital Diseases and Pregnancy Complications',\n",
       " 'Immune System Phenomena',\n",
       " 'Occupational Diseases',\n",
       " 'Bacterial Infections and Mycoses',\n",
       " 'Nervous System Diseases',\n",
       " 'Biological Phenomena',\n",
       " 'Congenital, Hereditary, and Neonatal Diseases and Abnormalities',\n",
       " 'Virus Diseases',\n",
       " 'Otorhinolaryngologic Diseases',\n",
       " 'Physical Phenomena',\n",
       " 'Therapeutics',\n",
       " 'Male Urogenital Diseases',\n",
       " 'Psychological Phenomena']"
      ]
     },
     "execution_count": 27,
     "metadata": {
      "tags": []
     },
     "output_type": "execute_result"
    }
   ],
   "source": [
    "targets"
   ]
  },
  {
   "cell_type": "code",
   "execution_count": 0,
   "metadata": {
    "colab": {
     "base_uri": "https://localhost:8080/",
     "height": 131
    },
    "colab_type": "code",
    "executionInfo": {
     "elapsed": 6296,
     "status": "ok",
     "timestamp": 1549544619441,
     "user": {
      "displayName": "Stuti Nayak",
      "photoUrl": "https://lh4.googleusercontent.com/-dCyvZuZkEEE/AAAAAAAAAAI/AAAAAAAAUDY/4NHoYh2M-mw/s64/photo.jpg",
      "userId": "10886436706821169763"
     },
     "user_tz": -60
    },
    "id": "qZyEE0pD9j5P",
    "outputId": "4b499e15-0c38-425a-bcee-4a4c47fa8a05"
   },
   "outputs": [
    {
     "name": "stdout",
     "output_type": "stream",
     "text": [
      "Collecting scikit-multilearn\n",
      "\u001b[?25l  Downloading https://files.pythonhosted.org/packages/bb/1f/e6ff649c72a1cdf2c7a1d31eb21705110ce1c5d3e7e26b2cc300e1637272/scikit_multilearn-0.2.0-py3-none-any.whl (89kB)\n",
      "\u001b[K    100% |████████████████████████████████| 92kB 3.4MB/s \n",
      "\u001b[?25hInstalling collected packages: scikit-multilearn\n",
      "Successfully installed scikit-multilearn-0.2.0\n"
     ]
    }
   ],
   "source": [
    "!pip install scikit-multilearn"
   ]
  },
  {
   "cell_type": "markdown",
   "metadata": {},
   "source": [
    "#### Constructing label matrix"
   ]
  },
  {
   "cell_type": "code",
   "execution_count": 18,
   "metadata": {
    "colab": {
     "base_uri": "https://localhost:8080/",
     "height": 73
    },
    "colab_type": "code",
    "executionInfo": {
     "elapsed": 447,
     "status": "ok",
     "timestamp": 1551222257648,
     "user": {
      "displayName": "Stuti Nayak",
      "photoUrl": "https://lh4.googleusercontent.com/-dCyvZuZkEEE/AAAAAAAAAAI/AAAAAAAAUDY/4NHoYh2M-mw/s64/photo.jpg",
      "userId": "10886436706821169763"
     },
     "user_tz": -60
    },
    "id": "fQDHHI8qzcxu",
    "outputId": "578b4c6a-e1ca-4690-8a83-d6772dc89574"
   },
   "outputs": [
    {
     "data": {
      "text/plain": [
       "array([0., 1., 0., 0., 0., 0., 0., 0., 0., 0., 0., 0., 0., 0., 0., 0., 0.,\n",
       "       0., 0., 0., 0., 0., 0., 0., 0., 0., 0., 0., 0., 0., 0., 0., 0., 0.,\n",
       "       0., 0., 0., 0., 0., 0., 0., 0., 0., 0., 0., 0., 0., 0.])"
      ]
     },
     "execution_count": 18,
     "metadata": {
      "tags": []
     },
     "output_type": "execute_result"
    }
   ],
   "source": [
    "#constructing the label matrix \n",
    "label_matrix = np.zeros((len(all_class),len(all_class)))\n",
    "for index,value in enumerate(all_class):\n",
    "    label_matrix[index][index] = 1\n",
    "    \n",
    "#Testing \n",
    "label_matrix[all_class_to_id[all_class[1]]]"
   ]
  },
  {
   "cell_type": "code",
   "execution_count": 0,
   "metadata": {
    "colab": {},
    "colab_type": "code",
    "id": "v6pbIIF8zcx0"
   },
   "outputs": [],
   "source": [
    "def create_multi_hot_label(label_matrix,labels):\n",
    "    '''\n",
    "    \n",
    "        label_matrix --> matrix having one hot vectors\n",
    "        labels --> [idfy]--> [2,5,6]\n",
    "        return [0,0,1,0,0,1....]\n",
    "    '''\n",
    "    vector = np.zeros((label_matrix.shape[0]))\n",
    "    for i in labels:\n",
    "        vector = vector + label_matrix[all_class_to_id[all_class[i]]]\n",
    "    \n",
    "    return vector"
   ]
  },
  {
   "cell_type": "code",
   "execution_count": 0,
   "metadata": {
    "colab": {},
    "colab_type": "code",
    "id": "n0ZHSdpOzcx3"
   },
   "outputs": [],
   "source": [
    "label_vector = []\n",
    "for f in clean_data:\n",
    "    label_id = [all_class_to_id[l] for l in f[1]]\n",
    "    multi_hot_vector = create_multi_hot_label(label_matrix,label_id)\n",
    "    label_vector.append(multi_hot_vector)"
   ]
  },
  {
   "cell_type": "markdown",
   "metadata": {},
   "source": [
    "#### Splitting data into taining and validation sets"
   ]
  },
  {
   "cell_type": "code",
   "execution_count": 0,
   "metadata": {
    "colab": {},
    "colab_type": "code",
    "id": "N_5-51LXzcx7"
   },
   "outputs": [],
   "source": [
    "X = data\n",
    "Y = label_vector\n",
    "split_index = int(len(X)*.80)\n",
    "train_x,val_x = X[:split_index],X[split_index:]\n",
    "train_y,val_y = Y[:split_index],Y[split_index:]"
   ]
  },
  {
   "cell_type": "markdown",
   "metadata": {},
   "source": [
    "### Defining the NN Model"
   ]
  },
  {
   "cell_type": "code",
   "execution_count": 0,
   "metadata": {
    "colab": {},
    "colab_type": "code",
    "id": "GwNw2Z9JzcyB"
   },
   "outputs": [],
   "source": [
    "class BiLstmDot(net.Model):\n",
    "\n",
    "    def __init__(self, _parameter_dict, _word_to_id, _device, _pointwise=False, _debug=False):\n",
    "\n",
    "        self.debug = _debug\n",
    "        self.parameter_dict = _parameter_dict\n",
    "        self.device = _device\n",
    "        self.pointwise = _pointwise\n",
    "        self.word_to_id = _word_to_id\n",
    "        \n",
    "        self.hiddendim = self.parameter_dict['hidden_size'] * (2 * int(self.parameter_dict['bidirectional']))\n",
    "        self.number_of_labels = self.parameter_dict['number_of_labels']\n",
    "\n",
    "        if self.debug:\n",
    "            print(\"Init Models\")\n",
    "\n",
    "        self.encoder = com.NotSuchABetterEncoder(\n",
    "            number_of_layer=self.parameter_dict['number_of_layer'],\n",
    "            bidirectional=self.parameter_dict['bidirectional'],\n",
    "            embedding_dim=self.parameter_dict['embedding_dim'],\n",
    "            max_length = self.parameter_dict['max_length'],\n",
    "            hidden_dim=self.parameter_dict['hidden_size'],\n",
    "            vocab_size=self.parameter_dict['vocab_size'],\n",
    "            dropout=self.parameter_dict['dropout'],\n",
    "            vectors=self.parameter_dict['vectors'],\n",
    "            enable_layer_norm=False,\n",
    "            mode = 'LSTM',\n",
    "            debug = self.debug).to(self.device)\n",
    "        \n",
    "        \n",
    "        self.dense = com.DenseClf(inputdim=self.hiddendim,        # *2 because we have two things concatinated here\n",
    "                                  hiddendim=self.hiddendim/2,\n",
    "                                  outputdim=self.number_of_labels).to(self.device)\n",
    "\n",
    "    def train(self, data, optimizer, loss_fn, device):\n",
    "    #\n",
    "        if self.pointwise:\n",
    "            return self._train_pointwise_(data, optimizer, loss_fn, device)\n",
    "        else:\n",
    "            return self._train_pairwise_(data, optimizer, loss_fn, device)\n",
    "\n",
    "    def _train_pairwise_(self, data, optimizer, loss_fn, device):\n",
    "        '''\n",
    "            Given data, passes it through model, inited in constructor, returns loss and updates the weight\n",
    "            :params data: {batch of question, pos paths, neg paths and dummy y labels}\n",
    "            :params optimizer: torch.optim object\n",
    "            :params loss fn: torch.nn loss object\n",
    "            :params device: torch.device object\n",
    "\n",
    "            returns loss\n",
    "        '''\n",
    "\n",
    "        # Unpacking the data and model from args\n",
    "        sent_batch, y_label = data['sent_batch'], data['y_label']\n",
    "\n",
    "        optimizer.zero_grad()\n",
    "\n",
    "        # Encoding all the data\n",
    "        hidden = self.encoder.init_hidden(sent_batch.shape[0],self.device)\n",
    "        _, sent_batch_encoded, _, _ = self.encoder(tu.trim(sent_batch), hidden)\n",
    "\n",
    "        # Calculating dot score\n",
    "        pred = self.dense(sent_batch_encoded)\n",
    "\n",
    "\n",
    "        '''\n",
    "            If `y == 1` then it assumed the first input should be ranked higher\n",
    "            (have a larger value) than the second input, and vice-versa for `y == -1`\n",
    "        '''\n",
    "        try:\n",
    "#             print(torch.max(pred), torch.max(y_label))\n",
    "            loss = loss_fn(pred, y_label.float())\n",
    "        except RuntimeError:\n",
    "            traceback.print_exc()\n",
    "            print(torch.max(pred.to(cpu)), torch.max(y_label.to(cpu)))\n",
    "#             print(pos_scores.shape, neg_scores.shape, y_label.shape,  ques_batch.shape, pos_batch.shape, neg_batch.shape)\n",
    "        loss.backward()\n",
    "        torch.nn.utils.clip_grad_norm_(self.encoder.parameters(), .5)\n",
    "        optimizer.step()\n",
    "        return loss\n",
    "\n",
    "\n",
    "\n",
    "    def predict(self, sent, device):\n",
    "        \"\"\"\n",
    "            Same code works for both pairwise or pointwise\n",
    "        \"\"\"\n",
    "        with torch.no_grad():\n",
    "\n",
    "            self.encoder.eval()\n",
    "            self.dense.eval()\n",
    "            \n",
    "            hidden = self.encoder.init_hidden(sent.shape[0], self.device)\n",
    "            _, sent_encoded, _, _ = self.encoder(tu.trim(sent.long()), hidden)\n",
    "            pred = self.dense(sent_encoded)\n",
    "\n",
    "\n",
    "            self.encoder.train()\n",
    "            self.dense.train()\n",
    "            return pred\n",
    "\n",
    "    def prepare_save(self):\n",
    "        \"\"\"\n",
    "\n",
    "            This function is called when someone wants to save the underlying models.\n",
    "            Returns a tuple of key:model pairs which is to be interpreted within save model.\n",
    "\n",
    "        :return: [(key, model)]\n",
    "        \"\"\"\n",
    "        return [('encoder', self.encoder), ('dense', self.dense)]\n",
    "\n",
    "    def load_from(self, location):\n",
    "        # Pull the data from disk\n",
    "        if self.debug: print(\"loading Bilstmdot model from\", location)\n",
    "        self.encoder.load_state_dict(torch.load(location)['encoder'])\n",
    "        if self.debug: print(\"model loaded with weights ,\", self.get_parameter_sum())"
   ]
  },
  {
   "cell_type": "markdown",
   "metadata": {},
   "source": [
    "#### Extracting the word embedding file and constructing the embedding matrix"
   ]
  },
  {
   "cell_type": "code",
   "execution_count": null,
   "metadata": {
    "colab": {},
    "colab_type": "code",
    "id": "qs1Ar-GZmzDo"
   },
   "outputs": [],
   "source": [
    "#glove_file = \"https://s3.eu-central-1.amazonaws.com/maastrichtuniversity-ids-open/metadata/glove.42B.300d.txt\" #'glove.42B.300d.txt'"
   ]
  },
  {
   "cell_type": "code",
   "execution_count": 0,
   "metadata": {
    "colab": {
     "base_uri": "https://localhost:8080/",
     "height": 223
    },
    "colab_type": "code",
    "executionInfo": {
     "elapsed": 544258,
     "status": "ok",
     "timestamp": 1550229692838,
     "user": {
      "displayName": "Stuti Nayak",
      "photoUrl": "https://lh4.googleusercontent.com/-dCyvZuZkEEE/AAAAAAAAAAI/AAAAAAAAUDY/4NHoYh2M-mw/s64/photo.jpg",
      "userId": "10886436706821169763"
     },
     "user_tz": -60
    },
    "id": "9GOS4H4gt9Co",
    "outputId": "9a017368-8561-420d-f695-badb10e90bdd"
   },
   "outputs": [
    {
     "name": "stdout",
     "output_type": "stream",
     "text": [
      "--2019-02-15 11:12:29--  https://s3.eu-central-1.amazonaws.com/maastrichtuniversity-ids-open/metadata/glove.42B.300d.txt\n",
      "Resolving s3.eu-central-1.amazonaws.com (s3.eu-central-1.amazonaws.com)... 52.219.72.20\n",
      "Connecting to s3.eu-central-1.amazonaws.com (s3.eu-central-1.amazonaws.com)|52.219.72.20|:443... connected.\n",
      "HTTP request sent, awaiting response... 200 OK\n",
      "Length: 5025028820 (4.7G) [text/plain]\n",
      "Saving to: ‘glove.42B.300d.txt.2’\n",
      "\n",
      "glove.42B.300d.txt. 100%[===================>]   4.68G  11.1MB/s    in 9m 0s   \n",
      "\n",
      "2019-02-15 11:21:31 (8.87 MB/s) - ‘glove.42B.300d.txt.2’ saved [5025028820/5025028820]\n",
      "\n"
     ]
    }
   ],
   "source": [
    "!wget 'https://s3.eu-central-1.amazonaws.com/maastrichtuniversity-ids-open/metadata/glove.42B.300d.txt'"
   ]
  },
  {
   "cell_type": "code",
   "execution_count": 23,
   "metadata": {
    "colab": {
     "base_uri": "https://localhost:8080/",
     "height": 36
    },
    "colab_type": "code",
    "executionInfo": {
     "elapsed": 159210,
     "status": "ok",
     "timestamp": 1551222428489,
     "user": {
      "displayName": "Stuti Nayak",
      "photoUrl": "https://lh4.googleusercontent.com/-dCyvZuZkEEE/AAAAAAAAAAI/AAAAAAAAUDY/4NHoYh2M-mw/s64/photo.jpg",
      "userId": "10886436706821169763"
     },
     "user_tz": -60
    },
    "id": "dEpI8Ic0tkyT",
    "outputId": "fe44d6ba-9290-4751-a4d8-263f9c36c7e5"
   },
   "outputs": [
    {
     "name": "stdout",
     "output_type": "stream",
     "text": [
      "Found 1917494 word vectors.\n"
     ]
    }
   ],
   "source": [
    "vecs = np.random.randn(len(word_index),300)\n",
    "embeddings_index = {}\n",
    "f = open('glove.42B.300d.txt', encoding = 'utf-8')\n",
    "for line in f:\n",
    "    values = line.split()\n",
    "    word = values[0]\n",
    "    coefs = np.asarray(values[1:], dtype='float32')\n",
    "    embeddings_index[word] = coefs\n",
    "f.close()\n",
    "\n",
    "print('Found %s word vectors.' % len(embeddings_index))"
   ]
  },
  {
   "cell_type": "code",
   "execution_count": 0,
   "metadata": {
    "colab": {},
    "colab_type": "code",
    "id": "oA5oRFPczcyL"
   },
   "outputs": [],
   "source": [
    "embedding_matrix = np.zeros((len(word_index) + 1, 300))\n",
    "for word, i in word_index.items():\n",
    "    embedding_vector = embeddings_index.get(word)\n",
    "    if embedding_vector is not None:\n",
    "        # words not found in embedding index will be all-zeros.\n",
    "        embedding_matrix[i] = embedding_vector"
   ]
  },
  {
   "cell_type": "code",
   "execution_count": 0,
   "metadata": {
    "colab": {},
    "colab_type": "code",
    "id": "3-DhL2K5zcyP"
   },
   "outputs": [],
   "source": [
    "vecs = embedding_matrix"
   ]
  },
  {
   "cell_type": "markdown",
   "metadata": {},
   "source": [
    "#### Defining the parameter dictionary"
   ]
  },
  {
   "cell_type": "code",
   "execution_count": 0,
   "metadata": {
    "colab": {},
    "colab_type": "code",
    "id": "_DLO8kfNzcyS"
   },
   "outputs": [],
   "source": [
    "parameter_dict = {\n",
    "    'number_of_layer' : 1,\n",
    "    'bidirectional' : True,\n",
    "    'embedding_dim' : 300,\n",
    "    'max_length' : MAX_SEQUENCE_LENGTH,\n",
    "    'hidden_size':256,\n",
    "    'vocab_size':len(word_index),\n",
    "    'dropout':0.2,\n",
    "    'vectors':vecs,\n",
    "    'number_of_labels' : len(all_class)\n",
    "}"
   ]
  },
  {
   "cell_type": "markdown",
   "metadata": {},
   "source": [
    "#### Defining the loss and optimization function"
   ]
  },
  {
   "cell_type": "code",
   "execution_count": 0,
   "metadata": {
    "colab": {},
    "colab_type": "code",
    "id": "sEkc8Ng4zcyY"
   },
   "outputs": [],
   "source": [
    "loss_fn = nn.BCELoss()\n",
    "modeler = BiLstmDot( _parameter_dict = parameter_dict,_word_to_id=None,\n",
    "                                     _device=device,_pointwise=False, _debug=False)\n",
    "\n",
    "optimizer = optim.Adam(list(filter(lambda p: p.requires_grad, modeler.encoder.parameters()))+\n",
    "                       list(filter(lambda p: p.requires_grad, modeler.dense.parameters())))"
   ]
  },
  {
   "cell_type": "markdown",
   "metadata": {},
   "source": [
    "Sampling the data"
   ]
  },
  {
   "cell_type": "code",
   "execution_count": 0,
   "metadata": {
    "colab": {},
    "colab_type": "code",
    "id": "3h5hIZGFzcyl"
   },
   "outputs": [],
   "source": [
    "class SimplestSampler:\n",
    "    \"\"\"\n",
    "        Given X and Y matrices (or lists of lists),\n",
    "            it returns a batch worth of stuff upon __next__\n",
    "    :return:\n",
    "    \"\"\"\n",
    "\n",
    "    def __init__(self, data, bs: int = 64):\n",
    "\n",
    "        try:\n",
    "            assert len(data[\"x\"]) == len(data[\"y\"])\n",
    "        except AssertionError:\n",
    "\n",
    "            raise MismatchedDataError(f\"Length of x is {len(data['x'])} while of y is {len(data['y'])}\")\n",
    "\n",
    "        self.x = data[\"x\"]\n",
    "        self.y = data[\"y\"]\n",
    "        self.n = len(self.x)\n",
    "        self.bs = bs  # Batch Size\n",
    "\n",
    "    def __len__(self):\n",
    "        return self.n // self.bs - (1 if self.n % self.bs else 0)\n",
    "\n",
    "    def __iter__(self):\n",
    "        self.i, self.iter = 0, 0\n",
    "        return self\n",
    "\n",
    "    def __next__(self):\n",
    "        if self.i + self.bs >= self.n:\n",
    "            raise StopIteration\n",
    "\n",
    "        _x, _y = self.x[self.i:self.i + self.bs], self.y[self.i:self.i + self.bs]\n",
    "        self.i += self.bs\n",
    "\n",
    "        return _x, _y"
   ]
  },
  {
   "cell_type": "code",
   "execution_count": 0,
   "metadata": {
    "colab": {},
    "colab_type": "code",
    "id": "FRJsd61azcyp"
   },
   "outputs": [],
   "source": [
    "train_data = {\n",
    "    'x' : train_x,\n",
    "    'y': np.asarray(train_y)\n",
    "}\n",
    "\n",
    "valid_data = {\n",
    "    'x' : val_x,\n",
    "    'y' : np.asarray(val_y)\n",
    "}\n",
    "\n",
    "train_fact_iter = SimplestSampler(train_data)\n",
    "valid_fact_iter = SimplestSampler(valid_data)"
   ]
  },
  {
   "cell_type": "code",
   "execution_count": 0,
   "metadata": {
    "colab": {
     "base_uri": "https://localhost:8080/",
     "height": 36
    },
    "colab_type": "code",
    "executionInfo": {
     "elapsed": 1139,
     "status": "ok",
     "timestamp": 1550230921962,
     "user": {
      "displayName": "Stuti Nayak",
      "photoUrl": "https://lh4.googleusercontent.com/-dCyvZuZkEEE/AAAAAAAAAAI/AAAAAAAAUDY/4NHoYh2M-mw/s64/photo.jpg",
      "userId": "10886436706821169763"
     },
     "user_tz": -60
    },
    "id": "xaGGTFnrYMmb",
    "outputId": "04b22845-cf76-4652-bd13-7e00afd361f1"
   },
   "outputs": [
    {
     "data": {
      "text/plain": [
       "False"
      ]
     },
     "execution_count": 42,
     "metadata": {
      "tags": []
     },
     "output_type": "execute_result"
    }
   ],
   "source": [
    "(train_x.sum(axis=0) == 0).any()\n"
   ]
  },
  {
   "cell_type": "code",
   "execution_count": 0,
   "metadata": {
    "colab": {
     "base_uri": "https://localhost:8080/",
     "height": 36
    },
    "colab_type": "code",
    "executionInfo": {
     "elapsed": 851,
     "status": "ok",
     "timestamp": 1550230922392,
     "user": {
      "displayName": "Stuti Nayak",
      "photoUrl": "https://lh4.googleusercontent.com/-dCyvZuZkEEE/AAAAAAAAAAI/AAAAAAAAUDY/4NHoYh2M-mw/s64/photo.jpg",
      "userId": "10886436706821169763"
     },
     "user_tz": -60
    },
    "id": "SftOd_lIzcys",
    "outputId": "a4626b56-7cc1-44bb-c4be-155e85baeb03"
   },
   "outputs": [
    {
     "data": {
      "text/plain": [
       "((64, 250), (64, 48))"
      ]
     },
     "execution_count": 43,
     "metadata": {
      "tags": []
     },
     "output_type": "execute_result"
    }
   ],
   "source": [
    "for dat in train_fact_iter:\n",
    "    break\n",
    "dat[0].shape, dat[1].shape"
   ]
  },
  {
   "cell_type": "code",
   "execution_count": 0,
   "metadata": {
    "colab": {},
    "colab_type": "code",
    "id": "m-nHj2GTzcyv"
   },
   "outputs": [],
   "source": [
    "_x = torch.tensor(dat[0], dtype=torch.long, device=device)\n",
    "_y = torch.tensor(dat[1], dtype=torch.long, device=device)\n",
    "\n",
    "data = {\n",
    "    'sent_batch' : _x,\n",
    "    'y_label' : _y\n",
    "}\n",
    "\n",
    "loss = modeler.train(data, optimizer, loss_fn, device)\n",
    "op = modeler.predict(_x,device)"
   ]
  },
  {
   "cell_type": "code",
   "execution_count": 0,
   "metadata": {
    "colab": {
     "base_uri": "https://localhost:8080/",
     "height": 36
    },
    "colab_type": "code",
    "executionInfo": {
     "elapsed": 1393,
     "status": "ok",
     "timestamp": 1550230926700,
     "user": {
      "displayName": "Stuti Nayak",
      "photoUrl": "https://lh4.googleusercontent.com/-dCyvZuZkEEE/AAAAAAAAAAI/AAAAAAAAUDY/4NHoYh2M-mw/s64/photo.jpg",
      "userId": "10886436706821169763"
     },
     "user_tz": -60
    },
    "id": "Pe3vtAZczcyy",
    "outputId": "8209b359-5570-43c2-a979-2f881a3698f1"
   },
   "outputs": [
    {
     "data": {
      "text/plain": [
       "tensor(0.6884, device='cuda:0', grad_fn=<BinaryCrossEntropyBackward>)"
      ]
     },
     "execution_count": 45,
     "metadata": {
      "tags": []
     },
     "output_type": "execute_result"
    }
   ],
   "source": [
    "loss"
   ]
  },
  {
   "cell_type": "code",
   "execution_count": 0,
   "metadata": {
    "colab": {},
    "colab_type": "code",
    "id": "jG4w6yNUzcy3"
   },
   "outputs": [],
   "source": [
    "def eval(op,_y):\n",
    "    return torch.mean(op.round()[_y==1])"
   ]
  },
  {
   "cell_type": "markdown",
   "metadata": {},
   "source": [
    "### Training the network "
   ]
  },
  {
   "cell_type": "code",
   "execution_count": 0,
   "metadata": {
    "colab": {},
    "colab_type": "code",
    "id": "sZQ7Jc8Izcy8"
   },
   "outputs": [],
   "source": [
    "def simplest_loop(epochs: int,\n",
    "                  train_data_iter,\n",
    "                  valid_data_iter,\n",
    "                  device: torch.device,\n",
    "                  model,\n",
    "                  optimizer,\n",
    "                  loss_fn,\n",
    "                  eval_fn= None) -> (list, list, list):\n",
    "    \"\"\"\n",
    "        A fn which can be used to train a language model.\n",
    "        The model doesn't need to be an nn.Module,\n",
    "            but have an eval (optional), a train and a predict function.\n",
    "        Data should be a dict like so:\n",
    "            {\"train\":{\"x\":np.arr, \"y\":np.arr}, \"val\":{\"x\":np.arr, \"y\":np.arr} }\n",
    "        Train_fn must return both loss and y_pred\n",
    "        :param epochs: number of epochs to train for\n",
    "        :param data: a dict having keys train_x, test_x, train_y, test_y\n",
    "        :param device: torch device to create new tensor from data\n",
    "        :param opt: optimizer\n",
    "        :param loss_fn: loss function\n",
    "        :param train_fn: function to call with x and y\n",
    "        :param predict_fn: function to call with x (test)\n",
    "        :param data_fn: a class to which we can pass X and Y, and get an iterator.\n",
    "        :param eval_fn: (optional) function which when given pred and true, returns acc\n",
    "        :return: traces\n",
    "    \"\"\"\n",
    "\n",
    "    train_loss = []\n",
    "    train_acc = []\n",
    "    val_acc = []\n",
    "    lrs = []\n",
    "\n",
    "    # Epoch level\n",
    "    for e in range(epochs):\n",
    "\n",
    "        per_epoch_loss = []\n",
    "        per_epoch_tr_acc = []\n",
    "\n",
    "        # Train\n",
    "        with Timer() as timer:\n",
    "\n",
    "            # Make data\n",
    "\n",
    "            for x, y in tqdm(train_data_iter):\n",
    "                optimizer.zero_grad()\n",
    "\n",
    "                _x = torch.tensor(x, dtype=torch.long, device=device)\n",
    "                _y = torch.tensor(y, dtype=torch.long, device=device)\n",
    "                \n",
    "                data = {\n",
    "                    'sent_batch' : _x,\n",
    "                    'y_label' : _y\n",
    "                }\n",
    "                \n",
    "                loss = model.train(data, optimizer, loss_fn, device)\n",
    "                y_pred = model.predict(_x,device)\n",
    "\n",
    "                per_epoch_tr_acc.append(eval_fn(y_pred,_y).item())\n",
    "                per_epoch_loss.append(loss.item())\n",
    "\n",
    "\n",
    "        # Val\n",
    "        with torch.no_grad():\n",
    "\n",
    "            per_epoch_vl_acc = []\n",
    "            for x, y in tqdm(valid_data_iter):\n",
    "                _x = torch.tensor(x, dtype=torch.long, device=device)\n",
    "                _y = torch.tensor(y, dtype=torch.long, device=device)\n",
    "\n",
    "                y_pred = model.predict(_x,device)\n",
    "\n",
    "                per_epoch_vl_acc.append(eval_fn(y_pred, _y).item())\n",
    "\n",
    "        # Bookkeep\n",
    "        train_acc.append(np.mean(per_epoch_tr_acc))\n",
    "        train_loss.append(np.mean(per_epoch_loss))\n",
    "        val_acc.append(np.mean(per_epoch_vl_acc))\n",
    "\n",
    "        print(\"Epoch: %(epo)03d | Loss: %(loss).5f | Tr_c: %(tracc)0.5f | Vl_c: %(vlacc)0.5f | Time: %(time).3f min\"\n",
    "              % {'epo': e,\n",
    "                 'loss': float(np.mean(per_epoch_loss)),\n",
    "                 'tracc': float(np.mean(per_epoch_tr_acc)),\n",
    "                 'vlacc': float(np.mean(per_epoch_vl_acc)),\n",
    "                 'time': timer.interval / 60.0})\n",
    "\n",
    "    return train_acc, train_loss, val_acc"
   ]
  },
  {
   "cell_type": "code",
   "execution_count": 0,
   "metadata": {
    "colab": {
     "base_uri": "https://localhost:8080/",
     "height": 4225
    },
    "colab_type": "code",
    "executionInfo": {
     "elapsed": 114391,
     "status": "ok",
     "timestamp": 1550231046619,
     "user": {
      "displayName": "Stuti Nayak",
      "photoUrl": "https://lh4.googleusercontent.com/-dCyvZuZkEEE/AAAAAAAAAAI/AAAAAAAAUDY/4NHoYh2M-mw/s64/photo.jpg",
      "userId": "10886436706821169763"
     },
     "user_tz": -60
    },
    "id": "CZaOoMyTzcy_",
    "outputId": "6106cd32-0443-418f-acca-75ceef69dd86"
   },
   "outputs": [
    {
     "name": "stderr",
     "output_type": "stream",
     "text": [
      "9it [00:01,  6.06it/s]                       \n",
      "2it [00:00, 24.96it/s]               \n",
      " 12%|█▎        | 1/8 [00:00<00:01,  6.18it/s]"
     ]
    },
    {
     "name": "stdout",
     "output_type": "stream",
     "text": [
      "Epoch: 000 | Loss: 0.46521 | Tr_c: 0.23453 | Vl_c: 0.29936 | Time: 0.027 min\n"
     ]
    },
    {
     "name": "stderr",
     "output_type": "stream",
     "text": [
      "9it [00:01,  6.33it/s]                       \n",
      "2it [00:00, 24.85it/s]               \n",
      " 12%|█▎        | 1/8 [00:00<00:01,  6.36it/s]"
     ]
    },
    {
     "name": "stdout",
     "output_type": "stream",
     "text": [
      "Epoch: 001 | Loss: 0.23740 | Tr_c: 0.28793 | Vl_c: 0.29936 | Time: 0.024 min\n"
     ]
    },
    {
     "name": "stderr",
     "output_type": "stream",
     "text": [
      "9it [00:01,  6.38it/s]                       \n",
      "2it [00:00, 25.37it/s]               \n",
      " 12%|█▎        | 1/8 [00:00<00:01,  6.35it/s]"
     ]
    },
    {
     "name": "stdout",
     "output_type": "stream",
     "text": [
      "Epoch: 002 | Loss: 0.21371 | Tr_c: 0.24214 | Vl_c: 0.19167 | Time: 0.024 min\n"
     ]
    },
    {
     "name": "stderr",
     "output_type": "stream",
     "text": [
      "9it [00:01,  6.33it/s]                       \n",
      "2it [00:00, 24.62it/s]               \n",
      " 12%|█▎        | 1/8 [00:00<00:01,  6.40it/s]"
     ]
    },
    {
     "name": "stdout",
     "output_type": "stream",
     "text": [
      "Epoch: 003 | Loss: 0.20836 | Tr_c: 0.24772 | Vl_c: 0.29936 | Time: 0.024 min\n"
     ]
    },
    {
     "name": "stderr",
     "output_type": "stream",
     "text": [
      "9it [00:01,  6.38it/s]                       \n",
      "2it [00:00, 24.80it/s]               \n",
      " 12%|█▎        | 1/8 [00:00<00:01,  6.33it/s]"
     ]
    },
    {
     "name": "stdout",
     "output_type": "stream",
     "text": [
      "Epoch: 004 | Loss: 0.20439 | Tr_c: 0.24286 | Vl_c: 0.19167 | Time: 0.024 min\n"
     ]
    },
    {
     "name": "stderr",
     "output_type": "stream",
     "text": [
      "9it [00:01,  6.39it/s]                       \n",
      "2it [00:00, 24.89it/s]               \n",
      " 12%|█▎        | 1/8 [00:00<00:01,  6.40it/s]"
     ]
    },
    {
     "name": "stdout",
     "output_type": "stream",
     "text": [
      "Epoch: 005 | Loss: 0.20213 | Tr_c: 0.22665 | Vl_c: 0.29563 | Time: 0.024 min\n"
     ]
    },
    {
     "name": "stderr",
     "output_type": "stream",
     "text": [
      "9it [00:01,  6.33it/s]                       \n",
      "2it [00:00, 24.64it/s]               \n",
      " 12%|█▎        | 1/8 [00:00<00:01,  6.31it/s]"
     ]
    },
    {
     "name": "stdout",
     "output_type": "stream",
     "text": [
      "Epoch: 006 | Loss: 0.19925 | Tr_c: 0.26617 | Vl_c: 0.25651 | Time: 0.024 min\n"
     ]
    },
    {
     "name": "stderr",
     "output_type": "stream",
     "text": [
      "9it [00:01,  6.34it/s]                       \n",
      "2it [00:00, 24.51it/s]               \n",
      " 12%|█▎        | 1/8 [00:00<00:01,  6.25it/s]"
     ]
    },
    {
     "name": "stdout",
     "output_type": "stream",
     "text": [
      "Epoch: 007 | Loss: 0.19530 | Tr_c: 0.27163 | Vl_c: 0.28841 | Time: 0.024 min\n"
     ]
    },
    {
     "name": "stderr",
     "output_type": "stream",
     "text": [
      "9it [00:01,  6.36it/s]                       \n",
      "2it [00:00, 25.02it/s]               \n",
      " 12%|█▎        | 1/8 [00:00<00:01,  6.33it/s]"
     ]
    },
    {
     "name": "stdout",
     "output_type": "stream",
     "text": [
      "Epoch: 008 | Loss: 0.19008 | Tr_c: 0.29814 | Vl_c: 0.29372 | Time: 0.024 min\n"
     ]
    },
    {
     "name": "stderr",
     "output_type": "stream",
     "text": [
      "9it [00:01,  6.37it/s]                       \n",
      "2it [00:00, 24.28it/s]               \n",
      " 12%|█▎        | 1/8 [00:00<00:01,  6.40it/s]"
     ]
    },
    {
     "name": "stdout",
     "output_type": "stream",
     "text": [
      "Epoch: 009 | Loss: 0.18315 | Tr_c: 0.31449 | Vl_c: 0.28267 | Time: 0.024 min\n"
     ]
    },
    {
     "name": "stderr",
     "output_type": "stream",
     "text": [
      "9it [00:01,  6.36it/s]                       \n",
      "2it [00:00, 24.89it/s]               \n",
      " 12%|█▎        | 1/8 [00:00<00:01,  6.29it/s]"
     ]
    },
    {
     "name": "stdout",
     "output_type": "stream",
     "text": [
      "Epoch: 010 | Loss: 0.17422 | Tr_c: 0.37094 | Vl_c: 0.25471 | Time: 0.024 min\n"
     ]
    },
    {
     "name": "stderr",
     "output_type": "stream",
     "text": [
      "9it [00:01,  6.46it/s]                       \n",
      "2it [00:00, 25.04it/s]               \n",
      " 12%|█▎        | 1/8 [00:00<00:01,  6.37it/s]"
     ]
    },
    {
     "name": "stdout",
     "output_type": "stream",
     "text": [
      "Epoch: 011 | Loss: 0.16582 | Tr_c: 0.40900 | Vl_c: 0.31232 | Time: 0.023 min\n"
     ]
    },
    {
     "name": "stderr",
     "output_type": "stream",
     "text": [
      "9it [00:01,  6.38it/s]                       \n",
      "2it [00:00, 24.66it/s]               \n",
      " 12%|█▎        | 1/8 [00:00<00:01,  6.44it/s]"
     ]
    },
    {
     "name": "stdout",
     "output_type": "stream",
     "text": [
      "Epoch: 012 | Loss: 0.15859 | Tr_c: 0.43851 | Vl_c: 0.41087 | Time: 0.024 min\n"
     ]
    },
    {
     "name": "stderr",
     "output_type": "stream",
     "text": [
      "9it [00:01,  6.43it/s]                       \n",
      "2it [00:00, 25.06it/s]               \n",
      " 12%|█▎        | 1/8 [00:00<00:01,  6.47it/s]"
     ]
    },
    {
     "name": "stdout",
     "output_type": "stream",
     "text": [
      "Epoch: 013 | Loss: 0.14603 | Tr_c: 0.50000 | Vl_c: 0.44819 | Time: 0.024 min\n"
     ]
    },
    {
     "name": "stderr",
     "output_type": "stream",
     "text": [
      "9it [00:01,  6.42it/s]                       \n",
      "2it [00:00, 25.05it/s]               \n",
      " 12%|█▎        | 1/8 [00:00<00:01,  6.34it/s]"
     ]
    },
    {
     "name": "stdout",
     "output_type": "stream",
     "text": [
      "Epoch: 014 | Loss: 0.13423 | Tr_c: 0.57598 | Vl_c: 0.49611 | Time: 0.023 min\n"
     ]
    },
    {
     "name": "stderr",
     "output_type": "stream",
     "text": [
      "9it [00:01,  6.29it/s]                       \n",
      "2it [00:00, 24.54it/s]               \n",
      " 12%|█▎        | 1/8 [00:00<00:01,  6.40it/s]"
     ]
    },
    {
     "name": "stdout",
     "output_type": "stream",
     "text": [
      "Epoch: 015 | Loss: 0.12579 | Tr_c: 0.62727 | Vl_c: 0.56659 | Time: 0.024 min\n"
     ]
    },
    {
     "name": "stderr",
     "output_type": "stream",
     "text": [
      "9it [00:01,  6.39it/s]                       \n",
      "2it [00:00, 24.45it/s]               \n",
      " 12%|█▎        | 1/8 [00:00<00:01,  6.33it/s]"
     ]
    },
    {
     "name": "stdout",
     "output_type": "stream",
     "text": [
      "Epoch: 016 | Loss: 0.11565 | Tr_c: 0.66540 | Vl_c: 0.59974 | Time: 0.024 min\n"
     ]
    },
    {
     "name": "stderr",
     "output_type": "stream",
     "text": [
      "9it [00:01,  6.33it/s]                       \n",
      "2it [00:00, 24.72it/s]               \n",
      " 12%|█▎        | 1/8 [00:00<00:01,  6.32it/s]"
     ]
    },
    {
     "name": "stdout",
     "output_type": "stream",
     "text": [
      "Epoch: 017 | Loss: 0.10661 | Tr_c: 0.70523 | Vl_c: 0.58261 | Time: 0.024 min\n"
     ]
    },
    {
     "name": "stderr",
     "output_type": "stream",
     "text": [
      "9it [00:01,  6.39it/s]                       \n",
      "2it [00:00, 25.09it/s]               \n",
      " 12%|█▎        | 1/8 [00:00<00:01,  6.36it/s]"
     ]
    },
    {
     "name": "stdout",
     "output_type": "stream",
     "text": [
      "Epoch: 018 | Loss: 0.10169 | Tr_c: 0.70800 | Vl_c: 0.56073 | Time: 0.024 min\n"
     ]
    },
    {
     "name": "stderr",
     "output_type": "stream",
     "text": [
      "9it [00:01,  6.34it/s]                       \n",
      "2it [00:00, 24.53it/s]               \n",
      " 12%|█▎        | 1/8 [00:00<00:01,  6.34it/s]"
     ]
    },
    {
     "name": "stdout",
     "output_type": "stream",
     "text": [
      "Epoch: 019 | Loss: 0.09820 | Tr_c: 0.71242 | Vl_c: 0.60888 | Time: 0.024 min\n"
     ]
    },
    {
     "name": "stderr",
     "output_type": "stream",
     "text": [
      "9it [00:01,  6.38it/s]                       \n",
      "2it [00:00, 24.56it/s]               \n",
      " 12%|█▎        | 1/8 [00:00<00:01,  6.35it/s]"
     ]
    },
    {
     "name": "stdout",
     "output_type": "stream",
     "text": [
      "Epoch: 020 | Loss: 0.09516 | Tr_c: 0.72112 | Vl_c: 0.55340 | Time: 0.024 min\n"
     ]
    },
    {
     "name": "stderr",
     "output_type": "stream",
     "text": [
      "9it [00:01,  6.32it/s]                       \n",
      "2it [00:00, 23.80it/s]               \n",
      " 12%|█▎        | 1/8 [00:00<00:01,  6.36it/s]"
     ]
    },
    {
     "name": "stdout",
     "output_type": "stream",
     "text": [
      "Epoch: 021 | Loss: 0.09149 | Tr_c: 0.74786 | Vl_c: 0.49656 | Time: 0.024 min\n"
     ]
    },
    {
     "name": "stderr",
     "output_type": "stream",
     "text": [
      "9it [00:01,  6.33it/s]                       \n",
      "2it [00:00, 24.80it/s]               \n",
      " 12%|█▎        | 1/8 [00:00<00:01,  6.24it/s]"
     ]
    },
    {
     "name": "stdout",
     "output_type": "stream",
     "text": [
      "Epoch: 022 | Loss: 0.09522 | Tr_c: 0.72986 | Vl_c: 0.52702 | Time: 0.024 min\n"
     ]
    },
    {
     "name": "stderr",
     "output_type": "stream",
     "text": [
      "9it [00:01,  6.33it/s]                       \n",
      "2it [00:00, 25.05it/s]               \n",
      " 12%|█▎        | 1/8 [00:00<00:01,  6.39it/s]"
     ]
    },
    {
     "name": "stdout",
     "output_type": "stream",
     "text": [
      "Epoch: 023 | Loss: 0.08933 | Tr_c: 0.74668 | Vl_c: 0.52927 | Time: 0.024 min\n"
     ]
    },
    {
     "name": "stderr",
     "output_type": "stream",
     "text": [
      "9it [00:01,  6.34it/s]                       \n",
      "2it [00:00, 25.09it/s]               \n",
      " 12%|█▎        | 1/8 [00:00<00:01,  6.34it/s]"
     ]
    },
    {
     "name": "stdout",
     "output_type": "stream",
     "text": [
      "Epoch: 024 | Loss: 0.08667 | Tr_c: 0.74550 | Vl_c: 0.63514 | Time: 0.024 min\n"
     ]
    },
    {
     "name": "stderr",
     "output_type": "stream",
     "text": [
      "9it [00:01,  6.32it/s]                       \n",
      "2it [00:00, 24.57it/s]               \n",
      " 12%|█▎        | 1/8 [00:00<00:01,  6.35it/s]"
     ]
    },
    {
     "name": "stdout",
     "output_type": "stream",
     "text": [
      "Epoch: 025 | Loss: 0.08018 | Tr_c: 0.74824 | Vl_c: 0.60177 | Time: 0.024 min\n"
     ]
    },
    {
     "name": "stderr",
     "output_type": "stream",
     "text": [
      "9it [00:01,  6.39it/s]                       \n",
      "2it [00:00, 25.34it/s]               \n",
      " 12%|█▎        | 1/8 [00:00<00:01,  6.38it/s]"
     ]
    },
    {
     "name": "stdout",
     "output_type": "stream",
     "text": [
      "Epoch: 026 | Loss: 0.07437 | Tr_c: 0.78614 | Vl_c: 0.59996 | Time: 0.024 min\n"
     ]
    },
    {
     "name": "stderr",
     "output_type": "stream",
     "text": [
      "9it [00:01,  6.38it/s]                       \n",
      "2it [00:00, 24.32it/s]               \n",
      " 12%|█▎        | 1/8 [00:00<00:01,  6.36it/s]"
     ]
    },
    {
     "name": "stdout",
     "output_type": "stream",
     "text": [
      "Epoch: 027 | Loss: 0.06417 | Tr_c: 0.80562 | Vl_c: 0.63367 | Time: 0.024 min\n"
     ]
    },
    {
     "name": "stderr",
     "output_type": "stream",
     "text": [
      "9it [00:01,  6.37it/s]                       \n",
      "2it [00:00, 24.96it/s]               \n",
      " 12%|█▎        | 1/8 [00:00<00:01,  6.23it/s]"
     ]
    },
    {
     "name": "stdout",
     "output_type": "stream",
     "text": [
      "Epoch: 028 | Loss: 0.05969 | Tr_c: 0.82438 | Vl_c: 0.63920 | Time: 0.024 min\n"
     ]
    },
    {
     "name": "stderr",
     "output_type": "stream",
     "text": [
      "9it [00:01,  6.35it/s]                       \n",
      "2it [00:00, 24.97it/s]               \n",
      " 12%|█▎        | 1/8 [00:00<00:01,  6.41it/s]"
     ]
    },
    {
     "name": "stdout",
     "output_type": "stream",
     "text": [
      "Epoch: 029 | Loss: 0.05486 | Tr_c: 0.83778 | Vl_c: 0.61709 | Time: 0.024 min\n"
     ]
    },
    {
     "name": "stderr",
     "output_type": "stream",
     "text": [
      "9it [00:01,  6.39it/s]                       \n",
      "2it [00:00, 24.55it/s]               \n",
      " 12%|█▎        | 1/8 [00:00<00:01,  6.26it/s]"
     ]
    },
    {
     "name": "stdout",
     "output_type": "stream",
     "text": [
      "Epoch: 030 | Loss: 0.05109 | Tr_c: 0.85886 | Vl_c: 0.63367 | Time: 0.024 min\n"
     ]
    },
    {
     "name": "stderr",
     "output_type": "stream",
     "text": [
      "9it [00:01,  6.34it/s]                       \n",
      "2it [00:00, 24.92it/s]               \n",
      " 12%|█▎        | 1/8 [00:00<00:01,  6.35it/s]"
     ]
    },
    {
     "name": "stdout",
     "output_type": "stream",
     "text": [
      "Epoch: 031 | Loss: 0.04755 | Tr_c: 0.86949 | Vl_c: 0.64686 | Time: 0.024 min\n"
     ]
    },
    {
     "name": "stderr",
     "output_type": "stream",
     "text": [
      "9it [00:01,  6.38it/s]                       \n",
      "2it [00:00, 25.06it/s]               \n",
      " 12%|█▎        | 1/8 [00:00<00:01,  6.35it/s]"
     ]
    },
    {
     "name": "stdout",
     "output_type": "stream",
     "text": [
      "Epoch: 032 | Loss: 0.04441 | Tr_c: 0.88022 | Vl_c: 0.66344 | Time: 0.024 min\n"
     ]
    },
    {
     "name": "stderr",
     "output_type": "stream",
     "text": [
      "9it [00:01,  6.40it/s]                       \n",
      "2it [00:00, 24.77it/s]               \n",
      " 12%|█▎        | 1/8 [00:00<00:01,  6.26it/s]"
     ]
    },
    {
     "name": "stdout",
     "output_type": "stream",
     "text": [
      "Epoch: 033 | Loss: 0.04209 | Tr_c: 0.88912 | Vl_c: 0.68193 | Time: 0.024 min\n"
     ]
    },
    {
     "name": "stderr",
     "output_type": "stream",
     "text": [
      "9it [00:01,  6.35it/s]                       \n",
      "2it [00:00, 24.54it/s]               \n",
      " 12%|█▎        | 1/8 [00:00<00:01,  6.30it/s]"
     ]
    },
    {
     "name": "stdout",
     "output_type": "stream",
     "text": [
      "Epoch: 034 | Loss: 0.04023 | Tr_c: 0.89448 | Vl_c: 0.67088 | Time: 0.024 min\n"
     ]
    },
    {
     "name": "stderr",
     "output_type": "stream",
     "text": [
      "9it [00:01,  6.35it/s]                       \n",
      "2it [00:00, 24.69it/s]               \n",
      " 12%|█▎        | 1/8 [00:00<00:01,  6.29it/s]"
     ]
    },
    {
     "name": "stdout",
     "output_type": "stream",
     "text": [
      "Epoch: 035 | Loss: 0.03755 | Tr_c: 0.90722 | Vl_c: 0.63920 | Time: 0.024 min\n"
     ]
    },
    {
     "name": "stderr",
     "output_type": "stream",
     "text": [
      "9it [00:01,  6.27it/s]                       \n",
      "2it [00:00, 24.93it/s]               \n",
      " 12%|█▎        | 1/8 [00:00<00:01,  6.27it/s]"
     ]
    },
    {
     "name": "stdout",
     "output_type": "stream",
     "text": [
      "Epoch: 036 | Loss: 0.03484 | Tr_c: 0.91841 | Vl_c: 0.62612 | Time: 0.024 min\n"
     ]
    },
    {
     "name": "stderr",
     "output_type": "stream",
     "text": [
      "9it [00:01,  6.36it/s]                       \n",
      "2it [00:00, 24.42it/s]               \n",
      " 12%|█▎        | 1/8 [00:00<00:01,  6.37it/s]"
     ]
    },
    {
     "name": "stdout",
     "output_type": "stream",
     "text": [
      "Epoch: 037 | Loss: 0.03357 | Tr_c: 0.92218 | Vl_c: 0.62081 | Time: 0.024 min\n"
     ]
    },
    {
     "name": "stderr",
     "output_type": "stream",
     "text": [
      "9it [00:01,  6.36it/s]                       \n",
      "2it [00:00, 24.94it/s]               \n",
      " 12%|█▎        | 1/8 [00:00<00:01,  6.32it/s]"
     ]
    },
    {
     "name": "stdout",
     "output_type": "stream",
     "text": [
      "Epoch: 038 | Loss: 0.03087 | Tr_c: 0.93503 | Vl_c: 0.65813 | Time: 0.024 min\n"
     ]
    },
    {
     "name": "stderr",
     "output_type": "stream",
     "text": [
      "9it [00:01,  6.33it/s]                       \n",
      "2it [00:00, 24.75it/s]               \n",
      " 12%|█▎        | 1/8 [00:00<00:01,  6.33it/s]"
     ]
    },
    {
     "name": "stdout",
     "output_type": "stream",
     "text": [
      "Epoch: 039 | Loss: 0.02755 | Tr_c: 0.93592 | Vl_c: 0.68757 | Time: 0.024 min\n"
     ]
    },
    {
     "name": "stderr",
     "output_type": "stream",
     "text": [
      "9it [00:01,  6.34it/s]                       \n",
      "2it [00:00, 25.30it/s]               \n",
      " 12%|█▎        | 1/8 [00:00<00:01,  6.31it/s]"
     ]
    },
    {
     "name": "stdout",
     "output_type": "stream",
     "text": [
      "Epoch: 040 | Loss: 0.02472 | Tr_c: 0.94458 | Vl_c: 0.69118 | Time: 0.024 min\n"
     ]
    },
    {
     "name": "stderr",
     "output_type": "stream",
     "text": [
      "9it [00:01,  6.39it/s]                       \n",
      "2it [00:00, 24.38it/s]               \n",
      " 12%|█▎        | 1/8 [00:00<00:01,  6.35it/s]"
     ]
    },
    {
     "name": "stdout",
     "output_type": "stream",
     "text": [
      "Epoch: 041 | Loss: 0.02238 | Tr_c: 0.95418 | Vl_c: 0.65791 | Time: 0.024 min\n"
     ]
    },
    {
     "name": "stderr",
     "output_type": "stream",
     "text": [
      "9it [00:01,  6.31it/s]                       \n",
      "2it [00:00, 24.57it/s]               \n",
      " 12%|█▎        | 1/8 [00:00<00:01,  6.33it/s]"
     ]
    },
    {
     "name": "stdout",
     "output_type": "stream",
     "text": [
      "Epoch: 042 | Loss: 0.02037 | Tr_c: 0.96373 | Vl_c: 0.67843 | Time: 0.024 min\n"
     ]
    },
    {
     "name": "stderr",
     "output_type": "stream",
     "text": [
      "9it [00:01,  6.32it/s]                       \n",
      "2it [00:00, 24.36it/s]               \n",
      " 12%|█▎        | 1/8 [00:00<00:01,  6.33it/s]"
     ]
    },
    {
     "name": "stdout",
     "output_type": "stream",
     "text": [
      "Epoch: 043 | Loss: 0.01836 | Tr_c: 0.96433 | Vl_c: 0.70628 | Time: 0.024 min\n"
     ]
    },
    {
     "name": "stderr",
     "output_type": "stream",
     "text": [
      "9it [00:01,  6.33it/s]                       \n",
      "2it [00:00, 24.90it/s]               \n",
      " 12%|█▎        | 1/8 [00:00<00:01,  6.27it/s]"
     ]
    },
    {
     "name": "stdout",
     "output_type": "stream",
     "text": [
      "Epoch: 044 | Loss: 0.01690 | Tr_c: 0.97079 | Vl_c: 0.68723 | Time: 0.024 min\n"
     ]
    },
    {
     "name": "stderr",
     "output_type": "stream",
     "text": [
      "9it [00:01,  6.35it/s]                       \n",
      "2it [00:00, 24.53it/s]               \n",
      " 12%|█▎        | 1/8 [00:00<00:01,  6.36it/s]"
     ]
    },
    {
     "name": "stdout",
     "output_type": "stream",
     "text": [
      "Epoch: 045 | Loss: 0.01653 | Tr_c: 0.97511 | Vl_c: 0.67438 | Time: 0.024 min\n"
     ]
    },
    {
     "name": "stderr",
     "output_type": "stream",
     "text": [
      "9it [00:01,  6.33it/s]                       \n",
      "2it [00:00, 24.97it/s]               \n",
      " 12%|█▎        | 1/8 [00:00<00:01,  6.36it/s]"
     ]
    },
    {
     "name": "stdout",
     "output_type": "stream",
     "text": [
      "Epoch: 046 | Loss: 0.01561 | Tr_c: 0.97468 | Vl_c: 0.66524 | Time: 0.024 min\n"
     ]
    },
    {
     "name": "stderr",
     "output_type": "stream",
     "text": [
      "9it [00:01,  6.37it/s]                       \n",
      "2it [00:00, 25.46it/s]               \n",
      " 12%|█▎        | 1/8 [00:00<00:01,  6.22it/s]"
     ]
    },
    {
     "name": "stdout",
     "output_type": "stream",
     "text": [
      "Epoch: 047 | Loss: 0.01333 | Tr_c: 0.98387 | Vl_c: 0.64833 | Time: 0.024 min\n"
     ]
    },
    {
     "name": "stderr",
     "output_type": "stream",
     "text": [
      "9it [00:01,  6.37it/s]                       \n",
      "2it [00:00, 24.76it/s]               \n",
      " 12%|█▎        | 1/8 [00:00<00:01,  6.40it/s]"
     ]
    },
    {
     "name": "stdout",
     "output_type": "stream",
     "text": [
      "Epoch: 048 | Loss: 0.01323 | Tr_c: 0.98303 | Vl_c: 0.67788 | Time: 0.024 min\n"
     ]
    },
    {
     "name": "stderr",
     "output_type": "stream",
     "text": [
      "9it [00:01,  6.36it/s]                       \n",
      "2it [00:00, 24.81it/s]               \n",
      " 12%|█▎        | 1/8 [00:00<00:01,  6.33it/s]"
     ]
    },
    {
     "name": "stdout",
     "output_type": "stream",
     "text": [
      "Epoch: 049 | Loss: 0.01116 | Tr_c: 0.98694 | Vl_c: 0.71147 | Time: 0.024 min\n"
     ]
    },
    {
     "name": "stderr",
     "output_type": "stream",
     "text": [
      "9it [00:01,  6.32it/s]                       \n",
      "2it [00:00, 24.69it/s]               \n",
      " 12%|█▎        | 1/8 [00:00<00:01,  6.31it/s]"
     ]
    },
    {
     "name": "stdout",
     "output_type": "stream",
     "text": [
      "Epoch: 050 | Loss: 0.00934 | Tr_c: 0.99216 | Vl_c: 0.65961 | Time: 0.024 min\n"
     ]
    },
    {
     "name": "stderr",
     "output_type": "stream",
     "text": [
      "9it [00:01,  6.29it/s]                       \n",
      "2it [00:00, 25.01it/s]               \n",
      " 12%|█▎        | 1/8 [00:00<00:01,  6.29it/s]"
     ]
    },
    {
     "name": "stdout",
     "output_type": "stream",
     "text": [
      "Epoch: 051 | Loss: 0.00860 | Tr_c: 0.99367 | Vl_c: 0.68746 | Time: 0.024 min\n"
     ]
    },
    {
     "name": "stderr",
     "output_type": "stream",
     "text": [
      "9it [00:01,  6.35it/s]                       \n",
      "2it [00:00, 24.60it/s]               \n",
      " 12%|█▎        | 1/8 [00:00<00:01,  6.30it/s]"
     ]
    },
    {
     "name": "stdout",
     "output_type": "stream",
     "text": [
      "Epoch: 052 | Loss: 0.00704 | Tr_c: 0.99581 | Vl_c: 0.68204 | Time: 0.024 min\n"
     ]
    },
    {
     "name": "stderr",
     "output_type": "stream",
     "text": [
      "9it [00:01,  6.38it/s]                       \n",
      "2it [00:00, 25.18it/s]               \n",
      " 12%|█▎        | 1/8 [00:00<00:01,  6.40it/s]"
     ]
    },
    {
     "name": "stdout",
     "output_type": "stream",
     "text": [
      "Epoch: 053 | Loss: 0.00600 | Tr_c: 0.99754 | Vl_c: 0.66896 | Time: 0.024 min\n"
     ]
    },
    {
     "name": "stderr",
     "output_type": "stream",
     "text": [
      "9it [00:01,  6.36it/s]                       \n",
      "2it [00:00, 24.62it/s]               \n",
      " 12%|█▎        | 1/8 [00:00<00:01,  6.32it/s]"
     ]
    },
    {
     "name": "stdout",
     "output_type": "stream",
     "text": [
      "Epoch: 054 | Loss: 0.00534 | Tr_c: 0.99834 | Vl_c: 0.68204 | Time: 0.024 min\n"
     ]
    },
    {
     "name": "stderr",
     "output_type": "stream",
     "text": [
      "9it [00:01,  6.35it/s]                       \n",
      "2it [00:00, 24.79it/s]               \n",
      " 12%|█▎        | 1/8 [00:00<00:01,  6.33it/s]"
     ]
    },
    {
     "name": "stdout",
     "output_type": "stream",
     "text": [
      "Epoch: 055 | Loss: 0.00471 | Tr_c: 0.99951 | Vl_c: 0.68340 | Time: 0.024 min\n"
     ]
    },
    {
     "name": "stderr",
     "output_type": "stream",
     "text": [
      "9it [00:01,  6.33it/s]                       \n",
      "2it [00:00, 24.95it/s]               \n",
      " 12%|█▎        | 1/8 [00:00<00:01,  6.34it/s]"
     ]
    },
    {
     "name": "stdout",
     "output_type": "stream",
     "text": [
      "Epoch: 056 | Loss: 0.00436 | Tr_c: 1.00000 | Vl_c: 0.69670 | Time: 0.024 min\n"
     ]
    },
    {
     "name": "stderr",
     "output_type": "stream",
     "text": [
      "9it [00:01,  6.33it/s]                       \n",
      "2it [00:00, 24.72it/s]               \n",
      " 12%|█▎        | 1/8 [00:00<00:01,  6.43it/s]"
     ]
    },
    {
     "name": "stdout",
     "output_type": "stream",
     "text": [
      "Epoch: 057 | Loss: 0.00397 | Tr_c: 0.99959 | Vl_c: 0.67405 | Time: 0.024 min\n"
     ]
    },
    {
     "name": "stderr",
     "output_type": "stream",
     "text": [
      "9it [00:01,  6.33it/s]                       \n",
      "2it [00:00, 24.57it/s]               \n",
      " 12%|█▎        | 1/8 [00:00<00:01,  6.31it/s]"
     ]
    },
    {
     "name": "stdout",
     "output_type": "stream",
     "text": [
      "Epoch: 058 | Loss: 0.00350 | Tr_c: 1.00000 | Vl_c: 0.67438 | Time: 0.024 min\n"
     ]
    },
    {
     "name": "stderr",
     "output_type": "stream",
     "text": [
      "9it [00:01,  6.35it/s]                       \n",
      "2it [00:00, 24.13it/s]               \n",
      " 12%|█▎        | 1/8 [00:00<00:01,  6.39it/s]"
     ]
    },
    {
     "name": "stdout",
     "output_type": "stream",
     "text": [
      "Epoch: 059 | Loss: 0.00317 | Tr_c: 1.00000 | Vl_c: 0.68340 | Time: 0.024 min\n"
     ]
    },
    {
     "name": "stderr",
     "output_type": "stream",
     "text": [
      "9it [00:01,  6.38it/s]                       \n",
      "2it [00:00, 24.89it/s]               \n",
      " 12%|█▎        | 1/8 [00:00<00:01,  6.36it/s]"
     ]
    },
    {
     "name": "stdout",
     "output_type": "stream",
     "text": [
      "Epoch: 060 | Loss: 0.00293 | Tr_c: 1.00000 | Vl_c: 0.67596 | Time: 0.024 min\n"
     ]
    },
    {
     "name": "stderr",
     "output_type": "stream",
     "text": [
      "9it [00:01,  6.35it/s]                       \n",
      "2it [00:00, 24.87it/s]               \n",
      " 12%|█▎        | 1/8 [00:00<00:01,  6.36it/s]"
     ]
    },
    {
     "name": "stdout",
     "output_type": "stream",
     "text": [
      "Epoch: 061 | Loss: 0.00254 | Tr_c: 1.00000 | Vl_c: 0.68001 | Time: 0.024 min\n"
     ]
    },
    {
     "name": "stderr",
     "output_type": "stream",
     "text": [
      "9it [00:01,  6.37it/s]                       \n",
      "2it [00:00, 24.76it/s]               \n",
      " 12%|█▎        | 1/8 [00:00<00:01,  6.23it/s]"
     ]
    },
    {
     "name": "stdout",
     "output_type": "stream",
     "text": [
      "Epoch: 062 | Loss: 0.00230 | Tr_c: 1.00000 | Vl_c: 0.67246 | Time: 0.024 min\n"
     ]
    },
    {
     "name": "stderr",
     "output_type": "stream",
     "text": [
      "9it [00:01,  6.35it/s]                       \n",
      "2it [00:00, 24.77it/s]               \n",
      " 12%|█▎        | 1/8 [00:00<00:01,  6.32it/s]"
     ]
    },
    {
     "name": "stdout",
     "output_type": "stream",
     "text": [
      "Epoch: 063 | Loss: 0.00206 | Tr_c: 1.00000 | Vl_c: 0.67224 | Time: 0.024 min\n"
     ]
    },
    {
     "name": "stderr",
     "output_type": "stream",
     "text": [
      "9it [00:01,  6.36it/s]                       \n",
      "2it [00:00, 25.06it/s]               \n",
      " 12%|█▎        | 1/8 [00:00<00:01,  6.31it/s]"
     ]
    },
    {
     "name": "stdout",
     "output_type": "stream",
     "text": [
      "Epoch: 064 | Loss: 0.00183 | Tr_c: 1.00000 | Vl_c: 0.67596 | Time: 0.024 min\n"
     ]
    },
    {
     "name": "stderr",
     "output_type": "stream",
     "text": [
      "9it [00:01,  6.31it/s]                       \n",
      "2it [00:00, 24.66it/s]               \n",
      " 12%|█▎        | 1/8 [00:00<00:01,  6.30it/s]"
     ]
    },
    {
     "name": "stdout",
     "output_type": "stream",
     "text": [
      "Epoch: 065 | Loss: 0.00175 | Tr_c: 1.00000 | Vl_c: 0.68532 | Time: 0.024 min\n"
     ]
    },
    {
     "name": "stderr",
     "output_type": "stream",
     "text": [
      "9it [00:01,  6.31it/s]                       \n",
      "2it [00:00, 24.95it/s]               \n",
      " 12%|█▎        | 1/8 [00:00<00:01,  6.37it/s]"
     ]
    },
    {
     "name": "stdout",
     "output_type": "stream",
     "text": [
      "Epoch: 066 | Loss: 0.00165 | Tr_c: 1.00000 | Vl_c: 0.67607 | Time: 0.024 min\n"
     ]
    },
    {
     "name": "stderr",
     "output_type": "stream",
     "text": [
      "9it [00:01,  6.36it/s]                       \n",
      "2it [00:00, 24.24it/s]               \n",
      " 12%|█▎        | 1/8 [00:00<00:01,  6.34it/s]"
     ]
    },
    {
     "name": "stdout",
     "output_type": "stream",
     "text": [
      "Epoch: 067 | Loss: 0.00155 | Tr_c: 1.00000 | Vl_c: 0.67777 | Time: 0.024 min\n"
     ]
    },
    {
     "name": "stderr",
     "output_type": "stream",
     "text": [
      "9it [00:01,  6.39it/s]                       \n",
      "2it [00:00, 25.42it/s]               \n",
      " 12%|█▎        | 1/8 [00:00<00:01,  6.31it/s]"
     ]
    },
    {
     "name": "stdout",
     "output_type": "stream",
     "text": [
      "Epoch: 068 | Loss: 0.00136 | Tr_c: 1.00000 | Vl_c: 0.69468 | Time: 0.024 min\n"
     ]
    },
    {
     "name": "stderr",
     "output_type": "stream",
     "text": [
      "9it [00:01,  6.34it/s]                       \n",
      "2it [00:00, 24.26it/s]               \n",
      " 12%|█▎        | 1/8 [00:00<00:01,  6.33it/s]"
     ]
    },
    {
     "name": "stdout",
     "output_type": "stream",
     "text": [
      "Epoch: 069 | Loss: 0.00134 | Tr_c: 1.00000 | Vl_c: 0.68532 | Time: 0.024 min\n"
     ]
    },
    {
     "name": "stderr",
     "output_type": "stream",
     "text": [
      "9it [00:01,  6.29it/s]                       \n",
      "2it [00:00, 24.26it/s]               \n",
      " 12%|█▎        | 1/8 [00:00<00:01,  6.27it/s]"
     ]
    },
    {
     "name": "stdout",
     "output_type": "stream",
     "text": [
      "Epoch: 070 | Loss: 0.00120 | Tr_c: 1.00000 | Vl_c: 0.67055 | Time: 0.024 min\n"
     ]
    },
    {
     "name": "stderr",
     "output_type": "stream",
     "text": [
      "9it [00:01,  6.30it/s]                       \n",
      "2it [00:00, 24.81it/s]               \n",
      " 12%|█▎        | 1/8 [00:00<00:01,  6.31it/s]"
     ]
    },
    {
     "name": "stdout",
     "output_type": "stream",
     "text": [
      "Epoch: 071 | Loss: 0.00107 | Tr_c: 1.00000 | Vl_c: 0.69320 | Time: 0.024 min\n"
     ]
    },
    {
     "name": "stderr",
     "output_type": "stream",
     "text": [
      "9it [00:01,  6.28it/s]                       \n",
      "2it [00:00, 25.04it/s]               \n",
      " 12%|█▎        | 1/8 [00:00<00:01,  6.37it/s]"
     ]
    },
    {
     "name": "stdout",
     "output_type": "stream",
     "text": [
      "Epoch: 072 | Loss: 0.00103 | Tr_c: 1.00000 | Vl_c: 0.68160 | Time: 0.024 min\n"
     ]
    },
    {
     "name": "stderr",
     "output_type": "stream",
     "text": [
      "9it [00:01,  6.32it/s]                       \n",
      "2it [00:00, 24.77it/s]               \n",
      " 12%|█▎        | 1/8 [00:00<00:01,  6.33it/s]"
     ]
    },
    {
     "name": "stdout",
     "output_type": "stream",
     "text": [
      "Epoch: 073 | Loss: 0.00094 | Tr_c: 1.00000 | Vl_c: 0.68362 | Time: 0.024 min\n"
     ]
    },
    {
     "name": "stderr",
     "output_type": "stream",
     "text": [
      "9it [00:01,  6.38it/s]                       \n",
      "2it [00:00, 24.85it/s]               "
     ]
    },
    {
     "name": "stdout",
     "output_type": "stream",
     "text": [
      "Epoch: 074 | Loss: 0.00087 | Tr_c: 1.00000 | Vl_c: 0.69287 | Time: 0.024 min\n"
     ]
    },
    {
     "name": "stderr",
     "output_type": "stream",
     "text": [
      "\n"
     ]
    }
   ],
   "source": [
    "traces = simplest_loop(epochs= 75,\n",
    "                  train_data_iter=train_fact_iter,\n",
    "                  valid_data_iter=valid_fact_iter,\n",
    "                  device=device,\n",
    "                  model = modeler,\n",
    "                  optimizer=optimizer,\n",
    "                  loss_fn=loss_fn,\n",
    "             eval_fn=eval)"
   ]
  },
  {
   "cell_type": "markdown",
   "metadata": {},
   "source": [
    "#### Extracting the predictions of the model for validation set"
   ]
  },
  {
   "cell_type": "code",
   "execution_count": 0,
   "metadata": {
    "colab": {},
    "colab_type": "code",
    "id": "d5Zld3xFzczG"
   },
   "outputs": [],
   "source": [
    "def get_predictions_given_text(abstract):\n",
    "    global modeler, all_class_to_id, word_index\n",
    "    \n",
    "    text_id = np.asarray([word_index.get(word, 0) for word in abstract.split()])\n",
    "    _x = torch.tensor(text_id, dtype=torch.long, device=device).unsqueeze(0)\n",
    "    y_pred = modeler.predict(_x, device)\n",
    "    classes = [all_class[i] for i,x in enumerate(y_pred.round().int().squeeze()) if x.item() == 1]\n",
    "    terms = get_list_for_terms(classes)\n",
    "    return terms"
   ]
  },
  {
   "cell_type": "markdown",
   "metadata": {},
   "source": [
    "#### Getting the abstracts of validation data"
   ]
  },
  {
   "cell_type": "code",
   "execution_count": 0,
   "metadata": {
    "colab": {},
    "colab_type": "code",
    "id": "-DkgQaYdDrhb"
   },
   "outputs": [],
   "source": [
    "val_data =  tokenizer.sequences_to_texts(val_x)"
   ]
  },
  {
   "cell_type": "code",
   "execution_count": 0,
   "metadata": {
    "colab": {},
    "colab_type": "code",
    "id": "fAyF35NoA9XV"
   },
   "outputs": [],
   "source": [
    "y = (np.asarray(val_y))"
   ]
  },
  {
   "cell_type": "code",
   "execution_count": 0,
   "metadata": {
    "colab": {
     "base_uri": "https://localhost:8080/",
     "height": 36
    },
    "colab_type": "code",
    "executionInfo": {
     "elapsed": 705,
     "status": "ok",
     "timestamp": 1549823123887,
     "user": {
      "displayName": "Stuti Nayak",
      "photoUrl": "https://lh4.googleusercontent.com/-dCyvZuZkEEE/AAAAAAAAAAI/AAAAAAAAUDY/4NHoYh2M-mw/s64/photo.jpg",
      "userId": "10886436706821169763"
     },
     "user_tz": -60
    },
    "id": "pYSvFCOHdZyK",
    "outputId": "23c13978-12bd-4183-ed03-175e80362cff"
   },
   "outputs": [
    {
     "data": {
      "text/plain": [
       "'http://id.nlm.nih.gov/mesh/D008919'"
      ]
     },
     "execution_count": 46,
     "metadata": {
      "tags": []
     },
     "output_type": "execute_result"
    }
   ],
   "source": [
    "all_class[0]"
   ]
  },
  {
   "cell_type": "code",
   "execution_count": 0,
   "metadata": {
    "colab": {
     "base_uri": "https://localhost:8080/",
     "height": 36
    },
    "colab_type": "code",
    "executionInfo": {
     "elapsed": 516,
     "status": "ok",
     "timestamp": 1549823117759,
     "user": {
      "displayName": "Stuti Nayak",
      "photoUrl": "https://lh4.googleusercontent.com/-dCyvZuZkEEE/AAAAAAAAAAI/AAAAAAAAUDY/4NHoYh2M-mw/s64/photo.jpg",
      "userId": "10886436706821169763"
     },
     "user_tz": -60
    },
    "id": "dbkIxZSlp9Hi",
    "outputId": "ccae96d6-df4b-4614-af8b-e2dba2be86db"
   },
   "outputs": [
    {
     "data": {
      "text/plain": [
       "'Chemically-Induced Disorders'"
      ]
     },
     "execution_count": 45,
     "metadata": {
      "tags": []
     },
     "output_type": "execute_result"
    }
   ],
   "source": [
    "targets[0]"
   ]
  },
  {
   "cell_type": "code",
   "execution_count": 0,
   "metadata": {
    "colab": {
     "base_uri": "https://localhost:8080/",
     "height": 36
    },
    "colab_type": "code",
    "executionInfo": {
     "elapsed": 491,
     "status": "ok",
     "timestamp": 1549837404553,
     "user": {
      "displayName": "Stuti Nayak",
      "photoUrl": "https://lh4.googleusercontent.com/-dCyvZuZkEEE/AAAAAAAAAAI/AAAAAAAAUDY/4NHoYh2M-mw/s64/photo.jpg",
      "userId": "10886436706821169763"
     },
     "user_tz": -60
    },
    "id": "-f3S1SxYp9dC",
    "outputId": "cc9ad2f2-b225-439a-b892-536410318894"
   },
   "outputs": [
    {
     "data": {
      "text/plain": [
       "'http://id.nlm.nih.gov/mesh/D009358'"
      ]
     },
     "execution_count": 85,
     "metadata": {
      "tags": []
     },
     "output_type": "execute_result"
    }
   ],
   "source": [
    "y_actual[1][0][0]"
   ]
  },
  {
   "cell_type": "code",
   "execution_count": 0,
   "metadata": {
    "colab": {},
    "colab_type": "code",
    "id": "DmtaFUCAOg_9"
   },
   "outputs": [],
   "source": [
    "y_actua = []\n",
    "for result in val_y:\n",
    "    idx = np.where(result==1)\n",
    "    y_actua.append(np.take((all_class), idx))"
   ]
  },
  {
   "cell_type": "code",
   "execution_count": 0,
   "metadata": {
    "colab": {},
    "colab_type": "code",
    "id": "Bx3htVSXbwUA"
   },
   "outputs": [],
   "source": [
    "y_actual = []\n",
    "#a = np.array(a.tolist())\n",
    "for nd in y_actua:\n",
    "  y_actual.append(np.array(nd.tolist()))"
   ]
  },
  {
   "cell_type": "code",
   "execution_count": 0,
   "metadata": {
    "colab": {},
    "colab_type": "code",
    "id": "_qEQT4gw6hDQ"
   },
   "outputs": [],
   "source": [
    "labels = [get_list_for_terms(nd.tolist()) for nd in y_actual]"
   ]
  },
  {
   "cell_type": "code",
   "execution_count": 0,
   "metadata": {
    "colab": {},
    "colab_type": "code",
    "id": "Qm_jNS1IdlcC"
   },
   "outputs": [],
   "source": [
    "actual_labels = []\n",
    "for i in y_actual:\n",
    "  for j in i:\n",
    "    #print(j[0])\n",
    "    actual_labels.append(get_list_for_terms(j))\n",
    "    "
   ]
  },
  {
   "cell_type": "code",
   "execution_count": 0,
   "metadata": {
    "colab": {
     "base_uri": "https://localhost:8080/",
     "height": 36
    },
    "colab_type": "code",
    "executionInfo": {
     "elapsed": 495,
     "status": "ok",
     "timestamp": 1549838416673,
     "user": {
      "displayName": "Stuti Nayak",
      "photoUrl": "https://lh4.googleusercontent.com/-dCyvZuZkEEE/AAAAAAAAAAI/AAAAAAAAUDY/4NHoYh2M-mw/s64/photo.jpg",
      "userId": "10886436706821169763"
     },
     "user_tz": -60
    },
    "id": "zXvvbZWYkKYc",
    "outputId": "ac21d7df-772d-4f95-9950-ca822a893ff7"
   },
   "outputs": [
    {
     "data": {
      "text/plain": [
       "155"
      ]
     },
     "execution_count": 96,
     "metadata": {
      "tags": []
     },
     "output_type": "execute_result"
    }
   ],
   "source": [
    "len(actual_labels)"
   ]
  },
  {
   "cell_type": "code",
   "execution_count": 0,
   "metadata": {
    "colab": {},
    "colab_type": "code",
    "id": "NqOzj-Kj5GRG"
   },
   "outputs": [],
   "source": [
    "predictions = [get_predictions_given_text(data_points) for index, data_points in enumerate(val_data)]"
   ]
  },
  {
   "cell_type": "markdown",
   "metadata": {},
   "source": [
    "##### Saving the predictions in a file"
   ]
  },
  {
   "cell_type": "code",
   "execution_count": 0,
   "metadata": {
    "colab": {},
    "colab_type": "code",
    "id": "qpoGgpB3FpW0"
   },
   "outputs": [],
   "source": [
    "string1 = val_data\n",
    "string2 = predictions \n",
    "string3 = actual_labels\n",
    "\n",
    "with open (\"results_bilstm_superclass.csv\",\"w\") as f:\n",
    "  writer = csv.writer(f)\n",
    "  writer.writerows(zip(string1,string2,string3))\n",
    "  \n",
    "  \n",
    "  \n",
    "  "
   ]
  },
  {
   "cell_type": "code",
   "execution_count": 0,
   "metadata": {
    "colab": {
     "base_uri": "https://localhost:8080/",
     "height": 92
    },
    "colab_type": "code",
    "executionInfo": {
     "elapsed": 1552,
     "status": "ok",
     "timestamp": 1549581569912,
     "user": {
      "displayName": "Stuti Nayak",
      "photoUrl": "https://lh4.googleusercontent.com/-dCyvZuZkEEE/AAAAAAAAAAI/AAAAAAAAUDY/4NHoYh2M-mw/s64/photo.jpg",
      "userId": "10886436706821169763"
     },
     "user_tz": -60
    },
    "id": "3zfR1odi6pY2",
    "outputId": "8400a833-4079-463f-fe8c-cc1560ce4c44"
   },
   "outputs": [
    {
     "data": {
      "text/plain": [
       "['Neoplasms',\n",
       " 'Immune System Diseases',\n",
       " 'Cardiovascular Diseases',\n",
       " 'Skin and Connective Tissue Diseases']"
      ]
     },
     "execution_count": 47,
     "metadata": {
      "tags": []
     },
     "output_type": "execute_result"
    }
   ],
   "source": [
    "get_predictions_given_text(val_data[0]) "
   ]
  },
  {
   "cell_type": "code",
   "execution_count": 0,
   "metadata": {
    "colab": {},
    "colab_type": "code",
    "id": "T-bZnI6SCqlp"
   },
   "outputs": [],
   "source": [
    "import ast\n",
    "\n"
   ]
  },
  {
   "cell_type": "markdown",
   "metadata": {},
   "source": [
    "##### Checking the bias in predictions of superclasses"
   ]
  },
  {
   "cell_type": "code",
   "execution_count": 0,
   "metadata": {
    "colab": {},
    "colab_type": "code",
    "id": "JWVSWh1zbqux"
   },
   "outputs": [],
   "source": [
    "df = pandas.read_csv(\"results_bilstm_superclass.csv\")\n",
    "df.columns = [\"abstract\", \"preds\", \"actual_labels\"]"
   ]
  },
  {
   "cell_type": "code",
   "execution_count": 0,
   "metadata": {
    "colab": {},
    "colab_type": "code",
    "id": "lp41p6KxC1cu"
   },
   "outputs": [],
   "source": [
    "dfpred = df[\"preds\"].tolist()\n",
    "dfactual = df[\"actual_labels\"].tolist()"
   ]
  },
  {
   "cell_type": "code",
   "execution_count": 0,
   "metadata": {
    "colab": {
     "base_uri": "https://localhost:8080/",
     "height": 36
    },
    "colab_type": "code",
    "executionInfo": {
     "elapsed": 1966,
     "status": "ok",
     "timestamp": 1549837710012,
     "user": {
      "displayName": "Stuti Nayak",
      "photoUrl": "https://lh4.googleusercontent.com/-dCyvZuZkEEE/AAAAAAAAAAI/AAAAAAAAUDY/4NHoYh2M-mw/s64/photo.jpg",
      "userId": "10886436706821169763"
     },
     "user_tz": -60
    },
    "id": "A2iHg6qAeeD6",
    "outputId": "c230bc45-f5ca-437f-bb66-9c13075ff622"
   },
   "outputs": [
    {
     "name": "stdout",
     "output_type": "stream",
     "text": [
      "[['Congenital, Hereditary, and Neonatal Diseases and Abnormalities', 'Eye Diseases', 'Neoplasms']]\n"
     ]
    }
   ],
   "source": [
    " dumb = []\n",
    "for i in y_actual[1]:\n",
    "  dumb.append(get_list_for_terms(i))\n",
    "  #for j in i:\n",
    "   # for k in j:\n",
    "      #dumb.append(get_list_for_terms(k))\n",
    "    #  print(k)\n",
    "print(dumb)\n",
    "    #print(j[:5])"
   ]
  },
  {
   "cell_type": "code",
   "execution_count": 0,
   "metadata": {
    "colab": {},
    "colab_type": "code",
    "id": "q-Pc7uXhVAgV"
   },
   "outputs": [],
   "source": [
    "temp_list = []\n",
    "for x in dfpred:\n",
    "  x = ast.literal_eval(x)\n",
    "  temp_list.append(x)"
   ]
  },
  {
   "cell_type": "code",
   "execution_count": 0,
   "metadata": {
    "colab": {},
    "colab_type": "code",
    "id": "EX10XGkiQIdH"
   },
   "outputs": [],
   "source": [
    "temp_list\n",
    "#dfpred[0]#.strip('\"')"
   ]
  },
  {
   "cell_type": "code",
   "execution_count": 160,
   "metadata": {
    "colab": {
     "base_uri": "https://localhost:8080/",
     "height": 56
    },
    "colab_type": "code",
    "executionInfo": {
     "elapsed": 443,
     "status": "ok",
     "timestamp": 1551227391312,
     "user": {
      "displayName": "Stuti Nayak",
      "photoUrl": "https://lh4.googleusercontent.com/-dCyvZuZkEEE/AAAAAAAAAAI/AAAAAAAAUDY/4NHoYh2M-mw/s64/photo.jpg",
      "userId": "10886436706821169763"
     },
     "user_tz": -60
    },
    "id": "5HGFS1P3C1kL",
    "outputId": "95a94f4f-01fc-4fed-9919-ed1a66a7313d"
   },
   "outputs": [
    {
     "name": "stdout",
     "output_type": "stream",
     "text": [
      "{'Musculoskeletal Diseases': 21, 'Wounds and Injuries': 0, 'Hemic and Lymphatic Diseases': 9, 'Immune System Diseases': 13, 'Cell Physiological Phenomena': 0, 'Skin and Connective Tissue Diseases': 35, 'Physiological Phenomena': 2, 'Stomatognathic Diseases': 0, 'Behavioral Disciplines and Activities': 0, 'Eye Diseases': 11, 'Reproductive and Urinary Physiological Phenomena': 0, 'Musculoskeletal and Neural Physiological Phenomena': 0, 'Digestive System Diseases': 8, 'Parasitic Diseases': 0, 'Respiratory Tract Diseases': 0, 'Fluids and Secretions': 0, 'Nonsyndromic sensorineural hearing loss': 0, 'Diagnosis': 3, 'Genetic Phenomena': 1, 'Mental Disorders': 8, 'Nutritional and Metabolic Diseases': 44, 'Chemically-Induced Disorders': 0, 'Health Occupations': 1, 'Investigative Techniques': 1, 'Behavior and Behavior Mechanisms': 4, 'Cardiovascular Diseases': 10, 'Population Characteristics': 1, 'Endocrine System Diseases': 30, 'Cells': 0, 'Pathological Conditions, Signs and Symptoms': 49, 'Tissues': 0, 'Neoplasms': 41, 'Health Care Quality, Access, and Evaluation': 1, 'Natural Science Disciplines': 0, 'Environment and Public Health': 1, 'Female Urogenital Diseases and Pregnancy Complications': 31, 'Immune System Phenomena': 0, 'Occupational Diseases': 0, 'Bacterial Infections and Mycoses': 1, 'Nervous System Diseases': 69, 'Biological Phenomena': 0, 'Congenital, Hereditary, and Neonatal Diseases and Abnormalities': 139, 'Virus Diseases': 0, 'Otorhinolaryngologic Diseases': 0, 'Physical Phenomena': 0, 'Therapeutics': 0, 'Male Urogenital Diseases': 31, 'Psychological Phenomena': 0}\n"
     ]
    }
   ],
   "source": [
    "preds1 = dict.fromkeys(all_class_dict, 0)\n",
    "for x in range(len(temp_list)):\n",
    "  for i in temp_list[x]:\n",
    "    preds1[i]=preds1[i]+1\n",
    "print(preds1)"
   ]
  },
  {
   "cell_type": "code",
   "execution_count": 0,
   "metadata": {
    "colab": {},
    "colab_type": "code",
    "id": "aNFwuNIcC1rr"
   },
   "outputs": [],
   "source": [
    "all_class_dict = {k: v for v, k in enumerate(targets)}"
   ]
  },
  {
   "cell_type": "code",
   "execution_count": 0,
   "metadata": {
    "colab": {},
    "colab_type": "code",
    "id": "6P4g_eczOvks"
   },
   "outputs": [],
   "source": [
    "temp_list1 = []\n",
    "for x in dfactual:\n",
    "  x = ast.literal_eval(x)\n",
    "  temp_list1.append(x)"
   ]
  },
  {
   "cell_type": "code",
   "execution_count": 164,
   "metadata": {
    "colab": {
     "base_uri": "https://localhost:8080/",
     "height": 56
    },
    "colab_type": "code",
    "executionInfo": {
     "elapsed": 419,
     "status": "ok",
     "timestamp": 1551227854236,
     "user": {
      "displayName": "Stuti Nayak",
      "photoUrl": "https://lh4.googleusercontent.com/-dCyvZuZkEEE/AAAAAAAAAAI/AAAAAAAAUDY/4NHoYh2M-mw/s64/photo.jpg",
      "userId": "10886436706821169763"
     },
     "user_tz": -60
    },
    "id": "BHMswpQoC1ya",
    "outputId": "760ae77b-9355-4ed5-aba3-e153691e8b4a"
   },
   "outputs": [
    {
     "name": "stdout",
     "output_type": "stream",
     "text": [
      "{'Musculoskeletal Diseases': 22, 'Wounds and Injuries': 1, 'Hemic and Lymphatic Diseases': 12, 'Immune System Diseases': 21, 'Cell Physiological Phenomena': 3, 'Skin and Connective Tissue Diseases': 43, 'Physiological Phenomena': 6, 'Stomatognathic Diseases': 1, 'Behavioral Disciplines and Activities': 0, 'Eye Diseases': 17, 'Reproductive and Urinary Physiological Phenomena': 0, 'Musculoskeletal and Neural Physiological Phenomena': 0, 'Digestive System Diseases': 17, 'Parasitic Diseases': 0, 'Respiratory Tract Diseases': 1, 'Fluids and Secretions': 0, 'Nonsyndromic sensorineural hearing loss': 0, 'Diagnosis': 4, 'Genetic Phenomena': 4, 'Mental Disorders': 13, 'Nutritional and Metabolic Diseases': 48, 'Chemically-Induced Disorders': 1, 'Health Occupations': 4, 'Investigative Techniques': 4, 'Behavior and Behavior Mechanisms': 6, 'Cardiovascular Diseases': 22, 'Population Characteristics': 4, 'Endocrine System Diseases': 29, 'Cells': 0, 'Pathological Conditions, Signs and Symptoms': 43, 'Tissues': 0, 'Neoplasms': 54, 'Health Care Quality, Access, and Evaluation': 4, 'Natural Science Disciplines': 4, 'Environment and Public Health': 4, 'Female Urogenital Diseases and Pregnancy Complications': 34, 'Immune System Phenomena': 0, 'Occupational Diseases': 0, 'Bacterial Infections and Mycoses': 7, 'Nervous System Diseases': 70, 'Biological Phenomena': 0, 'Congenital, Hereditary, and Neonatal Diseases and Abnormalities': 125, 'Virus Diseases': 0, 'Otorhinolaryngologic Diseases': 2, 'Physical Phenomena': 0, 'Therapeutics': 0, 'Male Urogenital Diseases': 33, 'Psychological Phenomena': 0}\n"
     ]
    }
   ],
   "source": [
    "real = dict.fromkeys(all_class_dict, 0)\n",
    "for x in range(len(temp_list1)):\n",
    "  for i in temp_list1[x]:\n",
    "    real[i]=real[i]+1\n",
    "print(real)"
   ]
  },
  {
   "cell_type": "code",
   "execution_count": 0,
   "metadata": {
    "colab": {},
    "colab_type": "code",
    "id": "UZUp5yfXEbOl"
   },
   "outputs": [],
   "source": [
    "from collections import Counter\n",
    "\n",
    "real = Counter(real)\n",
    "real.most_common()"
   ]
  },
  {
   "cell_type": "code",
   "execution_count": 0,
   "metadata": {
    "colab": {},
    "colab_type": "code",
    "id": "jmM5UtGhKVHE"
   },
   "outputs": [],
   "source": [
    "preds1 = Counter(preds1)\n",
    "preds1.most_common()"
   ]
  },
  {
   "cell_type": "code",
   "execution_count": 0,
   "metadata": {
    "colab": {},
    "colab_type": "code",
    "id": "3fgfnzNtZcdU"
   },
   "outputs": [],
   "source": []
  }
 ],
 "metadata": {
  "accelerator": "GPU",
  "colab": {
   "name": "Copy of predictions_superclass_lstm.ipynb",
   "provenance": [
    {
     "file_id": "1L2awyyL-RLYXOtF8IkV2zf4TWoxmkg0-",
     "timestamp": 1549548324746
    },
    {
     "file_id": "1X7cXs3o4NWsjcTYuhm4g9_pDpjYZRPI7",
     "timestamp": 1549033430080
    }
   ],
   "toc_visible": true,
   "version": "0.3.2"
  },
  "kernelspec": {
   "display_name": "Python 3",
   "language": "python",
   "name": "python3"
  },
  "language_info": {
   "codemirror_mode": {
    "name": "ipython",
    "version": 3
   },
   "file_extension": ".py",
   "mimetype": "text/x-python",
   "name": "python",
   "nbconvert_exporter": "python",
   "pygments_lexer": "ipython3",
   "version": "3.7.1"
  }
 },
 "nbformat": 4,
 "nbformat_minor": 1
}
