{
 "cells": [
  {
   "cell_type": "code",
   "execution_count": 1,
   "metadata": {},
   "outputs": [],
   "source": [
    "import json\n",
    "import requests\n",
    "from pprint import pprint\n",
    "\n",
    "class BadResponseException(Exception):\n",
    "    pass\n",
    "\n",
    "doi = 'D012878'\n",
    "dois = ['D012878', 'D016399', 'D010051', 'D011125']"
   ]
  },
  {
   "cell_type": "code",
   "execution_count": 10,
   "metadata": {},
   "outputs": [],
   "source": [
    "def _get_class_for_doi_(doi:str) -> list:\n",
    "    url = \"http://id.nlm.nih.gov/mesh/sparql\"\n",
    "    query = \"\"\"\n",
    "                PREFIX rdf: <http://www.w3.org/1999/02/22-rdf-syntax-ns#>\n",
    "                PREFIX rdfs: <http://www.w3.org/2000/01/rdf-schema#>\n",
    "                PREFIX xsd: <http://www.w3.org/2001/XMLSchema#>\n",
    "                PREFIX owl: <http://www.w3.org/2002/07/owl#>\n",
    "                PREFIX meshv: <http://id.nlm.nih.gov/mesh/vocab#>\n",
    "                PREFIX mesh: <http://id.nlm.nih.gov/mesh/>\n",
    "                PREFIX mesh2015: <http://id.nlm.nih.gov/mesh/2015/>\n",
    "                PREFIX mesh2016: <http://id.nlm.nih.gov/mesh/2016/>\n",
    "                PREFIX mesh2017: <http://id.nlm.nih.gov/mesh/2017/>\n",
    "                PREFIX mesh2018: <http://id.nlm.nih.gov/mesh/2018/>\n",
    "                PREFIX mesh2019: <http://id.nlm.nih.gov/mesh/2019/>\n",
    "                SELECT DISTINCT ?p ?label ?uri \n",
    "                WHERE { mesh:%s meshv:broaderDescriptor* ?uri .\n",
    "                    ?uri rdfs:label ?p.\n",
    "                    FILTER NOT EXISTS{\n",
    "                    ?uri meshv:broaderDescriptor ?x\n",
    "                    }\n",
    "                }\n",
    "                \"\"\" % doi\n",
    "    querystring = {\"query\":query, 'format':'json'}\n",
    "    payload = \"\"\n",
    "    headers = {\n",
    "        'cache-control': \"no-cache\",\n",
    "        'Postman-Token': \"c9ace615-1b99-4caf-bcad-97ce1060973e\"\n",
    "        }\n",
    "\n",
    "    response = requests.request(\"GET\", url, data=payload, headers=headers, params=querystring)\n",
    "    return [x['uri']['value'] for x in response.json()['results']['bindings']]"
   ]
  },
  {
   "cell_type": "code",
   "execution_count": 11,
   "metadata": {},
   "outputs": [],
   "source": [
    "def get_classes_for_dois(dois:list) -> list:\n",
    "    cls = []\n",
    "    for doi in dois:\n",
    "        cls += _get_class_for_doi_(doi)\n",
    "    \n",
    "    return list(set(cls))"
   ]
  },
  {
   "cell_type": "code",
   "execution_count": 12,
   "metadata": {},
   "outputs": [],
   "source": [
    "cls = get_classes_for_dois(dois)"
   ]
  },
  {
   "cell_type": "code",
   "execution_count": 13,
   "metadata": {},
   "outputs": [
    {
     "data": {
      "text/plain": [
       "(['http://id.nlm.nih.gov/mesh/D005261',\n",
       "  'http://id.nlm.nih.gov/mesh/D007154',\n",
       "  'http://id.nlm.nih.gov/mesh/D004700',\n",
       "  'http://id.nlm.nih.gov/mesh/D017437',\n",
       "  'http://id.nlm.nih.gov/mesh/D004066',\n",
       "  'http://id.nlm.nih.gov/mesh/D009358',\n",
       "  'http://id.nlm.nih.gov/mesh/D052801',\n",
       "  'http://id.nlm.nih.gov/mesh/D006425',\n",
       "  'http://id.nlm.nih.gov/mesh/D009369'],\n",
       " ['http://id.nlm.nih.gov/mesh/D005261',\n",
       "  'http://id.nlm.nih.gov/mesh/D004700',\n",
       "  'http://id.nlm.nih.gov/mesh/D007154',\n",
       "  'http://id.nlm.nih.gov/mesh/D017437',\n",
       "  'http://id.nlm.nih.gov/mesh/D004066',\n",
       "  'http://id.nlm.nih.gov/mesh/D009358',\n",
       "  'http://id.nlm.nih.gov/mesh/D052801',\n",
       "  'http://id.nlm.nih.gov/mesh/D006425',\n",
       "  'http://id.nlm.nih.gov/mesh/D009369'])"
      ]
     },
     "execution_count": 13,
     "metadata": {},
     "output_type": "execute_result"
    }
   ],
   "source": [
    "cls, list(set(cls))"
   ]
  },
  {
   "cell_type": "code",
   "execution_count": null,
   "metadata": {},
   "outputs": [],
   "source": [
    "json.JSONDecodeError"
   ]
  },
  {
   "cell_type": "code",
   "execution_count": null,
   "metadata": {},
   "outputs": [],
   "source": []
  }
 ],
 "metadata": {
  "kernelspec": {
   "display_name": "Python 3",
   "language": "python",
   "name": "python3"
  },
  "language_info": {
   "codemirror_mode": {
    "name": "ipython",
    "version": 3
   },
   "file_extension": ".py",
   "mimetype": "text/x-python",
   "name": "python",
   "nbconvert_exporter": "python",
   "pygments_lexer": "ipython3",
   "version": "3.6.6"
  }
 },
 "nbformat": 4,
 "nbformat_minor": 2
}
